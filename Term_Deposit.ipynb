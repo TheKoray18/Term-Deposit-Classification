{
  "nbformat": 4,
  "nbformat_minor": 0,
  "metadata": {
    "colab": {
      "name": "Term Deposit",
      "provenance": [],
      "authorship_tag": "ABX9TyPAgs/drfG+dI1trFAKw/g3",
      "include_colab_link": true
    },
    "kernelspec": {
      "name": "python3",
      "display_name": "Python 3"
    },
    "accelerator": "GPU"
  },
  "cells": [
    {
      "cell_type": "markdown",
      "metadata": {
        "id": "view-in-github",
        "colab_type": "text"
      },
      "source": [
        "<a href=\"https://colab.research.google.com/github/TheKoray18/Term-Deposit-Classification/blob/main/Term_Deposit.ipynb\" target=\"_parent\"><img src=\"https://colab.research.google.com/assets/colab-badge.svg\" alt=\"Open In Colab\"/></a>"
      ]
    },
    {
      "cell_type": "code",
      "metadata": {
        "id": "IYXMrcROg0zB",
        "colab": {
          "base_uri": "https://localhost:8080/"
        },
        "outputId": "176fbb03-6afc-4499-be0a-fd41042c2bf7"
      },
      "source": [
        "from google.colab import drive \n",
        "drive.mount('/content/drive/')"
      ],
      "execution_count": null,
      "outputs": [
        {
          "output_type": "stream",
          "text": [
            "Mounted at /content/drive/\n"
          ],
          "name": "stdout"
        }
      ]
    },
    {
      "cell_type": "markdown",
      "metadata": {
        "id": "OYvBXWqiiznu"
      },
      "source": [
        "- Veri Setimizi Çağırıyoruz"
      ]
    },
    {
      "cell_type": "code",
      "metadata": {
        "id": "vzRl3BBSirqb"
      },
      "source": [
        "import pandas as pd \n",
        "\n",
        "data = pd.read_csv('/content/drive/My Drive/Colab Notebooks/term-deposit-marketing-2020.csv')"
      ],
      "execution_count": null,
      "outputs": []
    },
    {
      "cell_type": "markdown",
      "metadata": {
        "id": "GKH4PPfZk0dr"
      },
      "source": [
        "- Datamızın ilk 5 satırına bakıyoruz\n"
      ]
    },
    {
      "cell_type": "code",
      "metadata": {
        "id": "LRiMTEFYjnUU",
        "colab": {
          "base_uri": "https://localhost:8080/",
          "height": 195
        },
        "outputId": "623d8e2e-f298-4bab-eb86-435157ad6932"
      },
      "source": [
        "data.head()"
      ],
      "execution_count": null,
      "outputs": [
        {
          "output_type": "execute_result",
          "data": {
            "text/html": [
              "<div>\n",
              "<style scoped>\n",
              "    .dataframe tbody tr th:only-of-type {\n",
              "        vertical-align: middle;\n",
              "    }\n",
              "\n",
              "    .dataframe tbody tr th {\n",
              "        vertical-align: top;\n",
              "    }\n",
              "\n",
              "    .dataframe thead th {\n",
              "        text-align: right;\n",
              "    }\n",
              "</style>\n",
              "<table border=\"1\" class=\"dataframe\">\n",
              "  <thead>\n",
              "    <tr style=\"text-align: right;\">\n",
              "      <th></th>\n",
              "      <th>age</th>\n",
              "      <th>job</th>\n",
              "      <th>marital</th>\n",
              "      <th>education</th>\n",
              "      <th>default</th>\n",
              "      <th>balance</th>\n",
              "      <th>housing</th>\n",
              "      <th>loan</th>\n",
              "      <th>contact</th>\n",
              "      <th>day</th>\n",
              "      <th>month</th>\n",
              "      <th>duration</th>\n",
              "      <th>campaign</th>\n",
              "      <th>y</th>\n",
              "    </tr>\n",
              "  </thead>\n",
              "  <tbody>\n",
              "    <tr>\n",
              "      <th>0</th>\n",
              "      <td>58</td>\n",
              "      <td>management</td>\n",
              "      <td>married</td>\n",
              "      <td>tertiary</td>\n",
              "      <td>no</td>\n",
              "      <td>2143</td>\n",
              "      <td>yes</td>\n",
              "      <td>no</td>\n",
              "      <td>unknown</td>\n",
              "      <td>5</td>\n",
              "      <td>may</td>\n",
              "      <td>261</td>\n",
              "      <td>1</td>\n",
              "      <td>no</td>\n",
              "    </tr>\n",
              "    <tr>\n",
              "      <th>1</th>\n",
              "      <td>44</td>\n",
              "      <td>technician</td>\n",
              "      <td>single</td>\n",
              "      <td>secondary</td>\n",
              "      <td>no</td>\n",
              "      <td>29</td>\n",
              "      <td>yes</td>\n",
              "      <td>no</td>\n",
              "      <td>unknown</td>\n",
              "      <td>5</td>\n",
              "      <td>may</td>\n",
              "      <td>151</td>\n",
              "      <td>1</td>\n",
              "      <td>no</td>\n",
              "    </tr>\n",
              "    <tr>\n",
              "      <th>2</th>\n",
              "      <td>33</td>\n",
              "      <td>entrepreneur</td>\n",
              "      <td>married</td>\n",
              "      <td>secondary</td>\n",
              "      <td>no</td>\n",
              "      <td>2</td>\n",
              "      <td>yes</td>\n",
              "      <td>yes</td>\n",
              "      <td>unknown</td>\n",
              "      <td>5</td>\n",
              "      <td>may</td>\n",
              "      <td>76</td>\n",
              "      <td>1</td>\n",
              "      <td>no</td>\n",
              "    </tr>\n",
              "    <tr>\n",
              "      <th>3</th>\n",
              "      <td>47</td>\n",
              "      <td>blue-collar</td>\n",
              "      <td>married</td>\n",
              "      <td>unknown</td>\n",
              "      <td>no</td>\n",
              "      <td>1506</td>\n",
              "      <td>yes</td>\n",
              "      <td>no</td>\n",
              "      <td>unknown</td>\n",
              "      <td>5</td>\n",
              "      <td>may</td>\n",
              "      <td>92</td>\n",
              "      <td>1</td>\n",
              "      <td>no</td>\n",
              "    </tr>\n",
              "    <tr>\n",
              "      <th>4</th>\n",
              "      <td>33</td>\n",
              "      <td>unknown</td>\n",
              "      <td>single</td>\n",
              "      <td>unknown</td>\n",
              "      <td>no</td>\n",
              "      <td>1</td>\n",
              "      <td>no</td>\n",
              "      <td>no</td>\n",
              "      <td>unknown</td>\n",
              "      <td>5</td>\n",
              "      <td>may</td>\n",
              "      <td>198</td>\n",
              "      <td>1</td>\n",
              "      <td>no</td>\n",
              "    </tr>\n",
              "  </tbody>\n",
              "</table>\n",
              "</div>"
            ],
            "text/plain": [
              "   age           job  marital  education  ... month  duration campaign   y\n",
              "0   58    management  married   tertiary  ...   may       261        1  no\n",
              "1   44    technician   single  secondary  ...   may       151        1  no\n",
              "2   33  entrepreneur  married  secondary  ...   may        76        1  no\n",
              "3   47   blue-collar  married    unknown  ...   may        92        1  no\n",
              "4   33       unknown   single    unknown  ...   may       198        1  no\n",
              "\n",
              "[5 rows x 14 columns]"
            ]
          },
          "metadata": {
            "tags": []
          },
          "execution_count": 3
        }
      ]
    },
    {
      "cell_type": "markdown",
      "metadata": {
        "id": "_Yr61YphdiOt"
      },
      "source": [
        "- Datamızın bilgilerine bakıyoruz"
      ]
    },
    {
      "cell_type": "code",
      "metadata": {
        "id": "LwuV49Ctk76b",
        "colab": {
          "base_uri": "https://localhost:8080/"
        },
        "outputId": "997de1a0-4b80-4e5c-91d2-0db1475b35d6"
      },
      "source": [
        "data.info()"
      ],
      "execution_count": null,
      "outputs": [
        {
          "output_type": "stream",
          "text": [
            "<class 'pandas.core.frame.DataFrame'>\n",
            "RangeIndex: 40000 entries, 0 to 39999\n",
            "Data columns (total 14 columns):\n",
            " #   Column     Non-Null Count  Dtype \n",
            "---  ------     --------------  ----- \n",
            " 0   age        40000 non-null  int64 \n",
            " 1   job        40000 non-null  object\n",
            " 2   marital    40000 non-null  object\n",
            " 3   education  40000 non-null  object\n",
            " 4   default    40000 non-null  object\n",
            " 5   balance    40000 non-null  int64 \n",
            " 6   housing    40000 non-null  object\n",
            " 7   loan       40000 non-null  object\n",
            " 8   contact    40000 non-null  object\n",
            " 9   day        40000 non-null  int64 \n",
            " 10  month      40000 non-null  object\n",
            " 11  duration   40000 non-null  int64 \n",
            " 12  campaign   40000 non-null  int64 \n",
            " 13  y          40000 non-null  object\n",
            "dtypes: int64(5), object(9)\n",
            "memory usage: 4.3+ MB\n"
          ],
          "name": "stdout"
        }
      ]
    },
    {
      "cell_type": "markdown",
      "metadata": {
        "id": "ItJtRkJcdnNL"
      },
      "source": [
        "- Datamızda ki integer değerlere sahip olan sütunların;\n",
        "  - Count = Satır Sayısı\n",
        "  - Mean = Ortalaması\n",
        "  - std = Standart Sapması\n",
        "  - min = Minimum Değer\n",
        "  - max = Maximum Değer \n",
        "  - %25,%50 ve %75 değerlerini gösterir"
      ]
    },
    {
      "cell_type": "code",
      "metadata": {
        "id": "JgiWuE_Hk_sz",
        "colab": {
          "base_uri": "https://localhost:8080/",
          "height": 284
        },
        "outputId": "1f8b7f58-fab6-4b85-80eb-167f5772e869"
      },
      "source": [
        "data.describe()"
      ],
      "execution_count": null,
      "outputs": [
        {
          "output_type": "execute_result",
          "data": {
            "text/html": [
              "<div>\n",
              "<style scoped>\n",
              "    .dataframe tbody tr th:only-of-type {\n",
              "        vertical-align: middle;\n",
              "    }\n",
              "\n",
              "    .dataframe tbody tr th {\n",
              "        vertical-align: top;\n",
              "    }\n",
              "\n",
              "    .dataframe thead th {\n",
              "        text-align: right;\n",
              "    }\n",
              "</style>\n",
              "<table border=\"1\" class=\"dataframe\">\n",
              "  <thead>\n",
              "    <tr style=\"text-align: right;\">\n",
              "      <th></th>\n",
              "      <th>age</th>\n",
              "      <th>balance</th>\n",
              "      <th>day</th>\n",
              "      <th>duration</th>\n",
              "      <th>campaign</th>\n",
              "    </tr>\n",
              "  </thead>\n",
              "  <tbody>\n",
              "    <tr>\n",
              "      <th>count</th>\n",
              "      <td>40000.000000</td>\n",
              "      <td>40000.000000</td>\n",
              "      <td>40000.000000</td>\n",
              "      <td>40000.000000</td>\n",
              "      <td>40000.000000</td>\n",
              "    </tr>\n",
              "    <tr>\n",
              "      <th>mean</th>\n",
              "      <td>40.544600</td>\n",
              "      <td>1274.277550</td>\n",
              "      <td>16.017225</td>\n",
              "      <td>254.824300</td>\n",
              "      <td>2.882175</td>\n",
              "    </tr>\n",
              "    <tr>\n",
              "      <th>std</th>\n",
              "      <td>9.641776</td>\n",
              "      <td>2903.769716</td>\n",
              "      <td>8.278127</td>\n",
              "      <td>259.366498</td>\n",
              "      <td>3.239051</td>\n",
              "    </tr>\n",
              "    <tr>\n",
              "      <th>min</th>\n",
              "      <td>19.000000</td>\n",
              "      <td>-8019.000000</td>\n",
              "      <td>1.000000</td>\n",
              "      <td>0.000000</td>\n",
              "      <td>1.000000</td>\n",
              "    </tr>\n",
              "    <tr>\n",
              "      <th>25%</th>\n",
              "      <td>33.000000</td>\n",
              "      <td>54.000000</td>\n",
              "      <td>8.000000</td>\n",
              "      <td>100.000000</td>\n",
              "      <td>1.000000</td>\n",
              "    </tr>\n",
              "    <tr>\n",
              "      <th>50%</th>\n",
              "      <td>39.000000</td>\n",
              "      <td>407.000000</td>\n",
              "      <td>17.000000</td>\n",
              "      <td>175.000000</td>\n",
              "      <td>2.000000</td>\n",
              "    </tr>\n",
              "    <tr>\n",
              "      <th>75%</th>\n",
              "      <td>48.000000</td>\n",
              "      <td>1319.000000</td>\n",
              "      <td>21.000000</td>\n",
              "      <td>313.000000</td>\n",
              "      <td>3.000000</td>\n",
              "    </tr>\n",
              "    <tr>\n",
              "      <th>max</th>\n",
              "      <td>95.000000</td>\n",
              "      <td>102127.000000</td>\n",
              "      <td>31.000000</td>\n",
              "      <td>4918.000000</td>\n",
              "      <td>63.000000</td>\n",
              "    </tr>\n",
              "  </tbody>\n",
              "</table>\n",
              "</div>"
            ],
            "text/plain": [
              "                age        balance           day      duration      campaign\n",
              "count  40000.000000   40000.000000  40000.000000  40000.000000  40000.000000\n",
              "mean      40.544600    1274.277550     16.017225    254.824300      2.882175\n",
              "std        9.641776    2903.769716      8.278127    259.366498      3.239051\n",
              "min       19.000000   -8019.000000      1.000000      0.000000      1.000000\n",
              "25%       33.000000      54.000000      8.000000    100.000000      1.000000\n",
              "50%       39.000000     407.000000     17.000000    175.000000      2.000000\n",
              "75%       48.000000    1319.000000     21.000000    313.000000      3.000000\n",
              "max       95.000000  102127.000000     31.000000   4918.000000     63.000000"
            ]
          },
          "metadata": {
            "tags": []
          },
          "execution_count": 7
        }
      ]
    },
    {
      "cell_type": "markdown",
      "metadata": {
        "id": "9eDcJ9_deaZH"
      },
      "source": [
        "- Datamızın String değerlere sahip olan sütunların;\n",
        "  - count = Satır Sayısı\n",
        "  - unique = Kaç farklı kategoriye sahip olduğu\n",
        "  - top = O sütunda en çok kullanılan kategori\n",
        "  - reg = O sütunda en çok kullanılan kategorinin sütunda bulunma sıklığı"
      ]
    },
    {
      "cell_type": "code",
      "metadata": {
        "id": "T9xZvp-h_loc",
        "colab": {
          "base_uri": "https://localhost:8080/",
          "height": 166
        },
        "outputId": "8002ffa9-f26d-40ab-d1d4-267454338f52"
      },
      "source": [
        "data.describe(include=['object'])"
      ],
      "execution_count": null,
      "outputs": [
        {
          "output_type": "execute_result",
          "data": {
            "text/html": [
              "<div>\n",
              "<style scoped>\n",
              "    .dataframe tbody tr th:only-of-type {\n",
              "        vertical-align: middle;\n",
              "    }\n",
              "\n",
              "    .dataframe tbody tr th {\n",
              "        vertical-align: top;\n",
              "    }\n",
              "\n",
              "    .dataframe thead th {\n",
              "        text-align: right;\n",
              "    }\n",
              "</style>\n",
              "<table border=\"1\" class=\"dataframe\">\n",
              "  <thead>\n",
              "    <tr style=\"text-align: right;\">\n",
              "      <th></th>\n",
              "      <th>job</th>\n",
              "      <th>marital</th>\n",
              "      <th>education</th>\n",
              "      <th>default</th>\n",
              "      <th>housing</th>\n",
              "      <th>loan</th>\n",
              "      <th>contact</th>\n",
              "      <th>month</th>\n",
              "      <th>y</th>\n",
              "    </tr>\n",
              "  </thead>\n",
              "  <tbody>\n",
              "    <tr>\n",
              "      <th>count</th>\n",
              "      <td>40000</td>\n",
              "      <td>40000</td>\n",
              "      <td>40000</td>\n",
              "      <td>40000</td>\n",
              "      <td>40000</td>\n",
              "      <td>40000</td>\n",
              "      <td>40000</td>\n",
              "      <td>40000</td>\n",
              "      <td>40000</td>\n",
              "    </tr>\n",
              "    <tr>\n",
              "      <th>unique</th>\n",
              "      <td>12</td>\n",
              "      <td>3</td>\n",
              "      <td>4</td>\n",
              "      <td>2</td>\n",
              "      <td>2</td>\n",
              "      <td>2</td>\n",
              "      <td>3</td>\n",
              "      <td>11</td>\n",
              "      <td>2</td>\n",
              "    </tr>\n",
              "    <tr>\n",
              "      <th>top</th>\n",
              "      <td>blue-collar</td>\n",
              "      <td>married</td>\n",
              "      <td>secondary</td>\n",
              "      <td>no</td>\n",
              "      <td>yes</td>\n",
              "      <td>no</td>\n",
              "      <td>cellular</td>\n",
              "      <td>may</td>\n",
              "      <td>no</td>\n",
              "    </tr>\n",
              "    <tr>\n",
              "      <th>freq</th>\n",
              "      <td>9383</td>\n",
              "      <td>24386</td>\n",
              "      <td>20993</td>\n",
              "      <td>39191</td>\n",
              "      <td>24031</td>\n",
              "      <td>33070</td>\n",
              "      <td>24914</td>\n",
              "      <td>13532</td>\n",
              "      <td>37104</td>\n",
              "    </tr>\n",
              "  </tbody>\n",
              "</table>\n",
              "</div>"
            ],
            "text/plain": [
              "                job  marital  education default  ...   loan   contact  month      y\n",
              "count         40000    40000      40000   40000  ...  40000     40000  40000  40000\n",
              "unique           12        3          4       2  ...      2         3     11      2\n",
              "top     blue-collar  married  secondary      no  ...     no  cellular    may     no\n",
              "freq           9383    24386      20993   39191  ...  33070     24914  13532  37104\n",
              "\n",
              "[4 rows x 9 columns]"
            ]
          },
          "metadata": {
            "tags": []
          },
          "execution_count": 8
        }
      ]
    },
    {
      "cell_type": "markdown",
      "metadata": {
        "id": "rPeHugyplyVu"
      },
      "source": [
        "- Data setimizde NaN değerler olup olmadığını kontrol edelim"
      ]
    },
    {
      "cell_type": "code",
      "metadata": {
        "id": "_R8_pOrkltFI",
        "colab": {
          "base_uri": "https://localhost:8080/",
          "height": 402
        },
        "outputId": "5402021c-07f9-4468-dab9-6419e6e7b89f"
      },
      "source": [
        "data.isnull()"
      ],
      "execution_count": null,
      "outputs": [
        {
          "output_type": "execute_result",
          "data": {
            "text/html": [
              "<div>\n",
              "<style scoped>\n",
              "    .dataframe tbody tr th:only-of-type {\n",
              "        vertical-align: middle;\n",
              "    }\n",
              "\n",
              "    .dataframe tbody tr th {\n",
              "        vertical-align: top;\n",
              "    }\n",
              "\n",
              "    .dataframe thead th {\n",
              "        text-align: right;\n",
              "    }\n",
              "</style>\n",
              "<table border=\"1\" class=\"dataframe\">\n",
              "  <thead>\n",
              "    <tr style=\"text-align: right;\">\n",
              "      <th></th>\n",
              "      <th>age</th>\n",
              "      <th>job</th>\n",
              "      <th>marital</th>\n",
              "      <th>education</th>\n",
              "      <th>default</th>\n",
              "      <th>balance</th>\n",
              "      <th>housing</th>\n",
              "      <th>loan</th>\n",
              "      <th>contact</th>\n",
              "      <th>day</th>\n",
              "      <th>month</th>\n",
              "      <th>duration</th>\n",
              "      <th>campaign</th>\n",
              "      <th>y</th>\n",
              "    </tr>\n",
              "  </thead>\n",
              "  <tbody>\n",
              "    <tr>\n",
              "      <th>0</th>\n",
              "      <td>False</td>\n",
              "      <td>False</td>\n",
              "      <td>False</td>\n",
              "      <td>False</td>\n",
              "      <td>False</td>\n",
              "      <td>False</td>\n",
              "      <td>False</td>\n",
              "      <td>False</td>\n",
              "      <td>False</td>\n",
              "      <td>False</td>\n",
              "      <td>False</td>\n",
              "      <td>False</td>\n",
              "      <td>False</td>\n",
              "      <td>False</td>\n",
              "    </tr>\n",
              "    <tr>\n",
              "      <th>1</th>\n",
              "      <td>False</td>\n",
              "      <td>False</td>\n",
              "      <td>False</td>\n",
              "      <td>False</td>\n",
              "      <td>False</td>\n",
              "      <td>False</td>\n",
              "      <td>False</td>\n",
              "      <td>False</td>\n",
              "      <td>False</td>\n",
              "      <td>False</td>\n",
              "      <td>False</td>\n",
              "      <td>False</td>\n",
              "      <td>False</td>\n",
              "      <td>False</td>\n",
              "    </tr>\n",
              "    <tr>\n",
              "      <th>2</th>\n",
              "      <td>False</td>\n",
              "      <td>False</td>\n",
              "      <td>False</td>\n",
              "      <td>False</td>\n",
              "      <td>False</td>\n",
              "      <td>False</td>\n",
              "      <td>False</td>\n",
              "      <td>False</td>\n",
              "      <td>False</td>\n",
              "      <td>False</td>\n",
              "      <td>False</td>\n",
              "      <td>False</td>\n",
              "      <td>False</td>\n",
              "      <td>False</td>\n",
              "    </tr>\n",
              "    <tr>\n",
              "      <th>3</th>\n",
              "      <td>False</td>\n",
              "      <td>False</td>\n",
              "      <td>False</td>\n",
              "      <td>False</td>\n",
              "      <td>False</td>\n",
              "      <td>False</td>\n",
              "      <td>False</td>\n",
              "      <td>False</td>\n",
              "      <td>False</td>\n",
              "      <td>False</td>\n",
              "      <td>False</td>\n",
              "      <td>False</td>\n",
              "      <td>False</td>\n",
              "      <td>False</td>\n",
              "    </tr>\n",
              "    <tr>\n",
              "      <th>4</th>\n",
              "      <td>False</td>\n",
              "      <td>False</td>\n",
              "      <td>False</td>\n",
              "      <td>False</td>\n",
              "      <td>False</td>\n",
              "      <td>False</td>\n",
              "      <td>False</td>\n",
              "      <td>False</td>\n",
              "      <td>False</td>\n",
              "      <td>False</td>\n",
              "      <td>False</td>\n",
              "      <td>False</td>\n",
              "      <td>False</td>\n",
              "      <td>False</td>\n",
              "    </tr>\n",
              "    <tr>\n",
              "      <th>...</th>\n",
              "      <td>...</td>\n",
              "      <td>...</td>\n",
              "      <td>...</td>\n",
              "      <td>...</td>\n",
              "      <td>...</td>\n",
              "      <td>...</td>\n",
              "      <td>...</td>\n",
              "      <td>...</td>\n",
              "      <td>...</td>\n",
              "      <td>...</td>\n",
              "      <td>...</td>\n",
              "      <td>...</td>\n",
              "      <td>...</td>\n",
              "      <td>...</td>\n",
              "    </tr>\n",
              "    <tr>\n",
              "      <th>39995</th>\n",
              "      <td>False</td>\n",
              "      <td>False</td>\n",
              "      <td>False</td>\n",
              "      <td>False</td>\n",
              "      <td>False</td>\n",
              "      <td>False</td>\n",
              "      <td>False</td>\n",
              "      <td>False</td>\n",
              "      <td>False</td>\n",
              "      <td>False</td>\n",
              "      <td>False</td>\n",
              "      <td>False</td>\n",
              "      <td>False</td>\n",
              "      <td>False</td>\n",
              "    </tr>\n",
              "    <tr>\n",
              "      <th>39996</th>\n",
              "      <td>False</td>\n",
              "      <td>False</td>\n",
              "      <td>False</td>\n",
              "      <td>False</td>\n",
              "      <td>False</td>\n",
              "      <td>False</td>\n",
              "      <td>False</td>\n",
              "      <td>False</td>\n",
              "      <td>False</td>\n",
              "      <td>False</td>\n",
              "      <td>False</td>\n",
              "      <td>False</td>\n",
              "      <td>False</td>\n",
              "      <td>False</td>\n",
              "    </tr>\n",
              "    <tr>\n",
              "      <th>39997</th>\n",
              "      <td>False</td>\n",
              "      <td>False</td>\n",
              "      <td>False</td>\n",
              "      <td>False</td>\n",
              "      <td>False</td>\n",
              "      <td>False</td>\n",
              "      <td>False</td>\n",
              "      <td>False</td>\n",
              "      <td>False</td>\n",
              "      <td>False</td>\n",
              "      <td>False</td>\n",
              "      <td>False</td>\n",
              "      <td>False</td>\n",
              "      <td>False</td>\n",
              "    </tr>\n",
              "    <tr>\n",
              "      <th>39998</th>\n",
              "      <td>False</td>\n",
              "      <td>False</td>\n",
              "      <td>False</td>\n",
              "      <td>False</td>\n",
              "      <td>False</td>\n",
              "      <td>False</td>\n",
              "      <td>False</td>\n",
              "      <td>False</td>\n",
              "      <td>False</td>\n",
              "      <td>False</td>\n",
              "      <td>False</td>\n",
              "      <td>False</td>\n",
              "      <td>False</td>\n",
              "      <td>False</td>\n",
              "    </tr>\n",
              "    <tr>\n",
              "      <th>39999</th>\n",
              "      <td>False</td>\n",
              "      <td>False</td>\n",
              "      <td>False</td>\n",
              "      <td>False</td>\n",
              "      <td>False</td>\n",
              "      <td>False</td>\n",
              "      <td>False</td>\n",
              "      <td>False</td>\n",
              "      <td>False</td>\n",
              "      <td>False</td>\n",
              "      <td>False</td>\n",
              "      <td>False</td>\n",
              "      <td>False</td>\n",
              "      <td>False</td>\n",
              "    </tr>\n",
              "  </tbody>\n",
              "</table>\n",
              "<p>40000 rows × 14 columns</p>\n",
              "</div>"
            ],
            "text/plain": [
              "         age    job  marital  education  ...  month  duration  campaign      y\n",
              "0      False  False    False      False  ...  False     False     False  False\n",
              "1      False  False    False      False  ...  False     False     False  False\n",
              "2      False  False    False      False  ...  False     False     False  False\n",
              "3      False  False    False      False  ...  False     False     False  False\n",
              "4      False  False    False      False  ...  False     False     False  False\n",
              "...      ...    ...      ...        ...  ...    ...       ...       ...    ...\n",
              "39995  False  False    False      False  ...  False     False     False  False\n",
              "39996  False  False    False      False  ...  False     False     False  False\n",
              "39997  False  False    False      False  ...  False     False     False  False\n",
              "39998  False  False    False      False  ...  False     False     False  False\n",
              "39999  False  False    False      False  ...  False     False     False  False\n",
              "\n",
              "[40000 rows x 14 columns]"
            ]
          },
          "metadata": {
            "tags": []
          },
          "execution_count": 9
        }
      ]
    },
    {
      "cell_type": "code",
      "metadata": {
        "id": "tBCRgLdTmgAW",
        "colab": {
          "base_uri": "https://localhost:8080/"
        },
        "outputId": "b89c62f0-9129-426c-a869-8009a83c5d70"
      },
      "source": [
        "data.isnull().any()"
      ],
      "execution_count": null,
      "outputs": [
        {
          "output_type": "execute_result",
          "data": {
            "text/plain": [
              "age          False\n",
              "job          False\n",
              "marital      False\n",
              "education    False\n",
              "default      False\n",
              "balance      False\n",
              "housing      False\n",
              "loan         False\n",
              "contact      False\n",
              "day          False\n",
              "month        False\n",
              "duration     False\n",
              "campaign     False\n",
              "y            False\n",
              "dtype: bool"
            ]
          },
          "metadata": {
            "tags": []
          },
          "execution_count": 10
        }
      ]
    },
    {
      "cell_type": "code",
      "metadata": {
        "id": "0vPa2abwmoF6",
        "colab": {
          "base_uri": "https://localhost:8080/"
        },
        "outputId": "dc2fd3b8-7ec8-4487-9311-5f0fa2e1dda5"
      },
      "source": [
        "data.isnull().sum()"
      ],
      "execution_count": null,
      "outputs": [
        {
          "output_type": "execute_result",
          "data": {
            "text/plain": [
              "age          0\n",
              "job          0\n",
              "marital      0\n",
              "education    0\n",
              "default      0\n",
              "balance      0\n",
              "housing      0\n",
              "loan         0\n",
              "contact      0\n",
              "day          0\n",
              "month        0\n",
              "duration     0\n",
              "campaign     0\n",
              "y            0\n",
              "dtype: int64"
            ]
          },
          "metadata": {
            "tags": []
          },
          "execution_count": 11
        }
      ]
    },
    {
      "cell_type": "markdown",
      "metadata": {
        "id": "jbSZEuljnS90"
      },
      "source": [
        "#Veri Önişleme"
      ]
    },
    {
      "cell_type": "markdown",
      "metadata": {
        "id": "NoGGnmf7muZq"
      },
      "source": [
        "- Verimizde NaN değerlerimiz yok. Ama verimizi incelediğimiz de bazı sütunlarımızda \" unknown \" değerler olduğunu görüyoruz.\n",
        "- Bu değerler de aslında bir missing value değerdir\n",
        "- O yüzden bu unknown değerleri düzeltmemiz gerekiyor\n",
        "\n",
        "\n",
        "- İlk olarak \" education \" sütunumuzu datamızdan alıyoruz"
      ]
    },
    {
      "cell_type": "code",
      "metadata": {
        "id": "168aVBM8nKxy"
      },
      "source": [
        "education = data.iloc[:,3:4]"
      ],
      "execution_count": null,
      "outputs": []
    },
    {
      "cell_type": "code",
      "metadata": {
        "id": "S4XLgLgpns0U",
        "colab": {
          "base_uri": "https://localhost:8080/",
          "height": 402
        },
        "outputId": "6144ffd6-296a-4c74-9f03-58cd112f1f0c"
      },
      "source": [
        "education"
      ],
      "execution_count": null,
      "outputs": [
        {
          "output_type": "execute_result",
          "data": {
            "text/html": [
              "<div>\n",
              "<style scoped>\n",
              "    .dataframe tbody tr th:only-of-type {\n",
              "        vertical-align: middle;\n",
              "    }\n",
              "\n",
              "    .dataframe tbody tr th {\n",
              "        vertical-align: top;\n",
              "    }\n",
              "\n",
              "    .dataframe thead th {\n",
              "        text-align: right;\n",
              "    }\n",
              "</style>\n",
              "<table border=\"1\" class=\"dataframe\">\n",
              "  <thead>\n",
              "    <tr style=\"text-align: right;\">\n",
              "      <th></th>\n",
              "      <th>education</th>\n",
              "    </tr>\n",
              "  </thead>\n",
              "  <tbody>\n",
              "    <tr>\n",
              "      <th>0</th>\n",
              "      <td>tertiary</td>\n",
              "    </tr>\n",
              "    <tr>\n",
              "      <th>1</th>\n",
              "      <td>secondary</td>\n",
              "    </tr>\n",
              "    <tr>\n",
              "      <th>2</th>\n",
              "      <td>secondary</td>\n",
              "    </tr>\n",
              "    <tr>\n",
              "      <th>3</th>\n",
              "      <td>unknown</td>\n",
              "    </tr>\n",
              "    <tr>\n",
              "      <th>4</th>\n",
              "      <td>unknown</td>\n",
              "    </tr>\n",
              "    <tr>\n",
              "      <th>...</th>\n",
              "      <td>...</td>\n",
              "    </tr>\n",
              "    <tr>\n",
              "      <th>39995</th>\n",
              "      <td>tertiary</td>\n",
              "    </tr>\n",
              "    <tr>\n",
              "      <th>39996</th>\n",
              "      <td>tertiary</td>\n",
              "    </tr>\n",
              "    <tr>\n",
              "      <th>39997</th>\n",
              "      <td>secondary</td>\n",
              "    </tr>\n",
              "    <tr>\n",
              "      <th>39998</th>\n",
              "      <td>tertiary</td>\n",
              "    </tr>\n",
              "    <tr>\n",
              "      <th>39999</th>\n",
              "      <td>secondary</td>\n",
              "    </tr>\n",
              "  </tbody>\n",
              "</table>\n",
              "<p>40000 rows × 1 columns</p>\n",
              "</div>"
            ],
            "text/plain": [
              "       education\n",
              "0       tertiary\n",
              "1      secondary\n",
              "2      secondary\n",
              "3        unknown\n",
              "4        unknown\n",
              "...          ...\n",
              "39995   tertiary\n",
              "39996   tertiary\n",
              "39997  secondary\n",
              "39998   tertiary\n",
              "39999  secondary\n",
              "\n",
              "[40000 rows x 1 columns]"
            ]
          },
          "metadata": {
            "tags": []
          },
          "execution_count": 5
        }
      ]
    },
    {
      "cell_type": "markdown",
      "metadata": {
        "id": "fmQ585agyZeN"
      },
      "source": [
        "- education sütununa bakıyoruz \n",
        "- count = NaN olmayan değer sayısıdır.40000 olduğu için datamızda da 40000 sütun olduğu için NaN değerimiz yok\n",
        "- top = education sütunumuzda secondary sütunda en çok kullanılan kategoridir\n",
        "- freg = secondary kategorisinin sütunda bulunma sayısıdır\n"
      ]
    },
    {
      "cell_type": "code",
      "metadata": {
        "id": "VHu4beuBozd5",
        "colab": {
          "base_uri": "https://localhost:8080/"
        },
        "outputId": "761775b9-9e8d-48db-f0e3-0a903dce97da"
      },
      "source": [
        "data['education'].describe()"
      ],
      "execution_count": null,
      "outputs": [
        {
          "output_type": "execute_result",
          "data": {
            "text/plain": [
              "count         40000\n",
              "unique            4\n",
              "top       secondary\n",
              "freq          20993\n",
              "Name: education, dtype: object"
            ]
          },
          "metadata": {
            "tags": []
          },
          "execution_count": 6
        }
      ]
    },
    {
      "cell_type": "markdown",
      "metadata": {
        "id": "B2phVd9azQD1"
      },
      "source": [
        "- Bizim education sütunumuz da unknow adında eksik veri kategorisi bulunmakta\n",
        "- Biz bunun sütunda bulunma sayısını value_counts() ile öğreniyruz.\n",
        "- Aşağıda görmüş olduğunuz gibi education sütunun tüm kategorileri için sütunda bulunma sayılarını yazdırdı bize\n",
        "- unknown sayısının değerinin 1531 olduğunu görüyoruz "
      ]
    },
    {
      "cell_type": "code",
      "metadata": {
        "id": "WUwAh2n9wQW7",
        "colab": {
          "base_uri": "https://localhost:8080/"
        },
        "outputId": "45c19aa9-1a3a-4d72-aea5-4abbc187c0a1"
      },
      "source": [
        "data[\"education\"].value_counts()"
      ],
      "execution_count": null,
      "outputs": [
        {
          "output_type": "execute_result",
          "data": {
            "text/plain": [
              "secondary    20993\n",
              "tertiary     11206\n",
              "primary       6270\n",
              "unknown       1531\n",
              "Name: education, dtype: int64"
            ]
          },
          "metadata": {
            "tags": []
          },
          "execution_count": 7
        }
      ]
    },
    {
      "cell_type": "markdown",
      "metadata": {
        "id": "irALVxhl0B3n"
      },
      "source": [
        "- Şimdi biz bu unknown kategorisinin yerini doldurmalıyız\n",
        "- İlk olarak \" unknown \" kategorisini \"NaN\" olarak değiştireceğiz.\n",
        "- Bunu yapmamızın sebebi ise Sımple Imputer kullanırken missing_values parametresine nan yazabilmemiz için."
      ]
    },
    {
      "cell_type": "code",
      "metadata": {
        "id": "Ah1JtiQJ0JzB"
      },
      "source": [
        "import numpy as np\n",
        "\n",
        "education = education.replace('unknown',np.nan)"
      ],
      "execution_count": null,
      "outputs": []
    },
    {
      "cell_type": "code",
      "metadata": {
        "id": "XMIXQOGs0ilM",
        "colab": {
          "base_uri": "https://localhost:8080/",
          "height": 402
        },
        "outputId": "b690ed72-6c93-456c-e95d-4b71d848504e"
      },
      "source": [
        "education"
      ],
      "execution_count": null,
      "outputs": [
        {
          "output_type": "execute_result",
          "data": {
            "text/html": [
              "<div>\n",
              "<style scoped>\n",
              "    .dataframe tbody tr th:only-of-type {\n",
              "        vertical-align: middle;\n",
              "    }\n",
              "\n",
              "    .dataframe tbody tr th {\n",
              "        vertical-align: top;\n",
              "    }\n",
              "\n",
              "    .dataframe thead th {\n",
              "        text-align: right;\n",
              "    }\n",
              "</style>\n",
              "<table border=\"1\" class=\"dataframe\">\n",
              "  <thead>\n",
              "    <tr style=\"text-align: right;\">\n",
              "      <th></th>\n",
              "      <th>education</th>\n",
              "    </tr>\n",
              "  </thead>\n",
              "  <tbody>\n",
              "    <tr>\n",
              "      <th>0</th>\n",
              "      <td>tertiary</td>\n",
              "    </tr>\n",
              "    <tr>\n",
              "      <th>1</th>\n",
              "      <td>secondary</td>\n",
              "    </tr>\n",
              "    <tr>\n",
              "      <th>2</th>\n",
              "      <td>secondary</td>\n",
              "    </tr>\n",
              "    <tr>\n",
              "      <th>3</th>\n",
              "      <td>NaN</td>\n",
              "    </tr>\n",
              "    <tr>\n",
              "      <th>4</th>\n",
              "      <td>NaN</td>\n",
              "    </tr>\n",
              "    <tr>\n",
              "      <th>...</th>\n",
              "      <td>...</td>\n",
              "    </tr>\n",
              "    <tr>\n",
              "      <th>39995</th>\n",
              "      <td>tertiary</td>\n",
              "    </tr>\n",
              "    <tr>\n",
              "      <th>39996</th>\n",
              "      <td>tertiary</td>\n",
              "    </tr>\n",
              "    <tr>\n",
              "      <th>39997</th>\n",
              "      <td>secondary</td>\n",
              "    </tr>\n",
              "    <tr>\n",
              "      <th>39998</th>\n",
              "      <td>tertiary</td>\n",
              "    </tr>\n",
              "    <tr>\n",
              "      <th>39999</th>\n",
              "      <td>secondary</td>\n",
              "    </tr>\n",
              "  </tbody>\n",
              "</table>\n",
              "<p>40000 rows × 1 columns</p>\n",
              "</div>"
            ],
            "text/plain": [
              "       education\n",
              "0       tertiary\n",
              "1      secondary\n",
              "2      secondary\n",
              "3            NaN\n",
              "4            NaN\n",
              "...          ...\n",
              "39995   tertiary\n",
              "39996   tertiary\n",
              "39997  secondary\n",
              "39998   tertiary\n",
              "39999  secondary\n",
              "\n",
              "[40000 rows x 1 columns]"
            ]
          },
          "metadata": {
            "tags": []
          },
          "execution_count": 9
        }
      ]
    },
    {
      "cell_type": "markdown",
      "metadata": {
        "id": "FL49lCsP1anC"
      },
      "source": [
        "- Yukarıda gördüğümüz gibi unknow kategorisinin NaN olarak değiştirdik\n",
        "\n",
        "- Şimdi sklearn içerisinden SimpleImputer ile NaN olan kategorimize değerler atayacağız.\n",
        "- unknown kategorisi yani NaN yerine SimpleImputer içinde strategy parametresine 'most_frequent'diyerek education sütununda en çok kullanılan kategoriyi atıyoruz.\n",
        "- Daha önceden görmüştük education sütunun da en çok kullanılan kategori secondary idi.Yani NaN kategorisini secondary ile değiştirmiş olacağız"
      ]
    },
    {
      "cell_type": "code",
      "metadata": {
        "id": "Ry_OTOAe4SLf"
      },
      "source": [
        "from sklearn.impute import SimpleImputer\n",
        "\n",
        "imputer = SimpleImputer(missing_values=np.nan,strategy='most_frequent')\n",
        "\n",
        "education = imputer.fit_transform(education)"
      ],
      "execution_count": null,
      "outputs": []
    },
    {
      "cell_type": "markdown",
      "metadata": {
        "id": "TcGBqqW7-gf7"
      },
      "source": [
        "- Daha önceden index olarak görebildiğimiz 3. ve 4. satırlarımız unknown kategorisine sahipti.\n",
        "\n",
        "- SimpleImputer ile o kategorileri secondary ile değiştirmiştik.Şimdi onun kontrolünü yapalım.\n",
        "- for döngüsü ile ilk 10 satıra bakıyoruz.\n",
        "- 3 ve 4. indexlerde 'secondary' kategorisini göreceğiz."
      ]
    },
    {
      "cell_type": "code",
      "metadata": {
        "id": "-hackQFE9fEb",
        "colab": {
          "base_uri": "https://localhost:8080/"
        },
        "outputId": "d9f4b1ae-ca5a-40e3-d13c-d1c17f429654"
      },
      "source": [
        "for i in range(10):\n",
        "  print(education[i])"
      ],
      "execution_count": null,
      "outputs": [
        {
          "output_type": "stream",
          "text": [
            "['tertiary']\n",
            "['secondary']\n",
            "['secondary']\n",
            "['secondary']\n",
            "['secondary']\n",
            "['tertiary']\n",
            "['tertiary']\n",
            "['tertiary']\n",
            "['primary']\n",
            "['secondary']\n"
          ],
          "name": "stdout"
        }
      ]
    },
    {
      "cell_type": "markdown",
      "metadata": {
        "id": "PpbCCEOH_IdH"
      },
      "source": [
        "- np.unique ile education sütununda kaç tane kategori bulunduğuna bakacağız.\n",
        "\n",
        "- unknown kategorisini secondary ile değiştirdiğimizden toplam 3 kategori olması gerekiyor"
      ]
    },
    {
      "cell_type": "code",
      "metadata": {
        "id": "tPifxo4d-Ao4",
        "colab": {
          "base_uri": "https://localhost:8080/"
        },
        "outputId": "e85b5154-51f8-47e3-cfd8-0dd7835669d9"
      },
      "source": [
        "np.unique(education)"
      ],
      "execution_count": null,
      "outputs": [
        {
          "output_type": "execute_result",
          "data": {
            "text/plain": [
              "array(['primary', 'secondary', 'tertiary'], dtype=object)"
            ]
          },
          "metadata": {
            "tags": []
          },
          "execution_count": 12
        }
      ]
    },
    {
      "cell_type": "markdown",
      "metadata": {
        "id": "fS1xvzczgYB8"
      },
      "source": [
        "- Unknown missing value'ye sahip job sütununa bakıyoruz"
      ]
    },
    {
      "cell_type": "code",
      "metadata": {
        "id": "MUc0Nsokfeq9",
        "colab": {
          "base_uri": "https://localhost:8080/"
        },
        "outputId": "d24ae1c3-a155-4e75-dd39-82f342b9b958"
      },
      "source": [
        "data['job'].describe()"
      ],
      "execution_count": null,
      "outputs": [
        {
          "output_type": "execute_result",
          "data": {
            "text/plain": [
              "count           40000\n",
              "unique             12\n",
              "top       blue-collar\n",
              "freq             9383\n",
              "Name: job, dtype: object"
            ]
          },
          "metadata": {
            "tags": []
          },
          "execution_count": 13
        }
      ]
    },
    {
      "cell_type": "markdown",
      "metadata": {
        "id": "6vGzJDqjglPL"
      },
      "source": [
        "- 12 farklı kategoriye sahip ve bunlardan biri de unknown kategorisi\n",
        "- Aşağıda göreceğiniz gibi 235 tane unknown missing valuelarımız var bizim"
      ]
    },
    {
      "cell_type": "code",
      "metadata": {
        "id": "sJjqKOBHgIsf",
        "colab": {
          "base_uri": "https://localhost:8080/"
        },
        "outputId": "d99476b9-8863-4c38-a8fc-55a593f940a2"
      },
      "source": [
        "data['job'].value_counts()"
      ],
      "execution_count": null,
      "outputs": [
        {
          "output_type": "execute_result",
          "data": {
            "text/plain": [
              "blue-collar      9383\n",
              "management       8166\n",
              "technician       6852\n",
              "admin            4483\n",
              "services         3910\n",
              "retired          1437\n",
              "self-employed    1414\n",
              "entrepreneur     1405\n",
              "unemployed       1104\n",
              "housemaid        1087\n",
              "student           524\n",
              "unknown           235\n",
              "Name: job, dtype: int64"
            ]
          },
          "metadata": {
            "tags": []
          },
          "execution_count": 14
        }
      ]
    },
    {
      "cell_type": "markdown",
      "metadata": {
        "id": "QH6XOz8aSWJK"
      },
      "source": [
        "- job sütununuzu datamızdan alıyoruz"
      ]
    },
    {
      "cell_type": "code",
      "metadata": {
        "id": "6Bg3WauSaMfT"
      },
      "source": [
        "job = data.iloc[:,1:2]"
      ],
      "execution_count": null,
      "outputs": []
    },
    {
      "cell_type": "code",
      "metadata": {
        "id": "wqPjWWXOaV30",
        "colab": {
          "base_uri": "https://localhost:8080/",
          "height": 402
        },
        "outputId": "cb7a8826-3397-4b66-b01c-ed6f1d7ce8de"
      },
      "source": [
        "job"
      ],
      "execution_count": null,
      "outputs": [
        {
          "output_type": "execute_result",
          "data": {
            "text/html": [
              "<div>\n",
              "<style scoped>\n",
              "    .dataframe tbody tr th:only-of-type {\n",
              "        vertical-align: middle;\n",
              "    }\n",
              "\n",
              "    .dataframe tbody tr th {\n",
              "        vertical-align: top;\n",
              "    }\n",
              "\n",
              "    .dataframe thead th {\n",
              "        text-align: right;\n",
              "    }\n",
              "</style>\n",
              "<table border=\"1\" class=\"dataframe\">\n",
              "  <thead>\n",
              "    <tr style=\"text-align: right;\">\n",
              "      <th></th>\n",
              "      <th>job</th>\n",
              "    </tr>\n",
              "  </thead>\n",
              "  <tbody>\n",
              "    <tr>\n",
              "      <th>0</th>\n",
              "      <td>management</td>\n",
              "    </tr>\n",
              "    <tr>\n",
              "      <th>1</th>\n",
              "      <td>technician</td>\n",
              "    </tr>\n",
              "    <tr>\n",
              "      <th>2</th>\n",
              "      <td>entrepreneur</td>\n",
              "    </tr>\n",
              "    <tr>\n",
              "      <th>3</th>\n",
              "      <td>blue-collar</td>\n",
              "    </tr>\n",
              "    <tr>\n",
              "      <th>4</th>\n",
              "      <td>unknown</td>\n",
              "    </tr>\n",
              "    <tr>\n",
              "      <th>...</th>\n",
              "      <td>...</td>\n",
              "    </tr>\n",
              "    <tr>\n",
              "      <th>39995</th>\n",
              "      <td>technician</td>\n",
              "    </tr>\n",
              "    <tr>\n",
              "      <th>39996</th>\n",
              "      <td>management</td>\n",
              "    </tr>\n",
              "    <tr>\n",
              "      <th>39997</th>\n",
              "      <td>admin</td>\n",
              "    </tr>\n",
              "    <tr>\n",
              "      <th>39998</th>\n",
              "      <td>management</td>\n",
              "    </tr>\n",
              "    <tr>\n",
              "      <th>39999</th>\n",
              "      <td>technician</td>\n",
              "    </tr>\n",
              "  </tbody>\n",
              "</table>\n",
              "<p>40000 rows × 1 columns</p>\n",
              "</div>"
            ],
            "text/plain": [
              "                job\n",
              "0        management\n",
              "1        technician\n",
              "2      entrepreneur\n",
              "3       blue-collar\n",
              "4           unknown\n",
              "...             ...\n",
              "39995    technician\n",
              "39996    management\n",
              "39997         admin\n",
              "39998    management\n",
              "39999    technician\n",
              "\n",
              "[40000 rows x 1 columns]"
            ]
          },
          "metadata": {
            "tags": []
          },
          "execution_count": 16
        }
      ]
    },
    {
      "cell_type": "markdown",
      "metadata": {
        "id": "isd6Gn2wSeYM"
      },
      "source": [
        "- job sütunumuzda ki unknown değerleri np.nan ile NaN değere dönüştüreceğiz"
      ]
    },
    {
      "cell_type": "code",
      "metadata": {
        "id": "rGl8soU8hM6R"
      },
      "source": [
        "job = job.replace('unknown',np.nan)"
      ],
      "execution_count": null,
      "outputs": []
    },
    {
      "cell_type": "markdown",
      "metadata": {
        "id": "16EOgW1xSnh5"
      },
      "source": [
        "- Aşağıda gördüğünüz gibi unknown değerler NaN olmuş durumda"
      ]
    },
    {
      "cell_type": "code",
      "metadata": {
        "id": "gkTR2SiFaYkw",
        "colab": {
          "base_uri": "https://localhost:8080/",
          "height": 402
        },
        "outputId": "d33c3f7f-30c8-483e-a064-99d1e974805c"
      },
      "source": [
        "job"
      ],
      "execution_count": null,
      "outputs": [
        {
          "output_type": "execute_result",
          "data": {
            "text/html": [
              "<div>\n",
              "<style scoped>\n",
              "    .dataframe tbody tr th:only-of-type {\n",
              "        vertical-align: middle;\n",
              "    }\n",
              "\n",
              "    .dataframe tbody tr th {\n",
              "        vertical-align: top;\n",
              "    }\n",
              "\n",
              "    .dataframe thead th {\n",
              "        text-align: right;\n",
              "    }\n",
              "</style>\n",
              "<table border=\"1\" class=\"dataframe\">\n",
              "  <thead>\n",
              "    <tr style=\"text-align: right;\">\n",
              "      <th></th>\n",
              "      <th>job</th>\n",
              "    </tr>\n",
              "  </thead>\n",
              "  <tbody>\n",
              "    <tr>\n",
              "      <th>0</th>\n",
              "      <td>management</td>\n",
              "    </tr>\n",
              "    <tr>\n",
              "      <th>1</th>\n",
              "      <td>technician</td>\n",
              "    </tr>\n",
              "    <tr>\n",
              "      <th>2</th>\n",
              "      <td>entrepreneur</td>\n",
              "    </tr>\n",
              "    <tr>\n",
              "      <th>3</th>\n",
              "      <td>blue-collar</td>\n",
              "    </tr>\n",
              "    <tr>\n",
              "      <th>4</th>\n",
              "      <td>NaN</td>\n",
              "    </tr>\n",
              "    <tr>\n",
              "      <th>...</th>\n",
              "      <td>...</td>\n",
              "    </tr>\n",
              "    <tr>\n",
              "      <th>39995</th>\n",
              "      <td>technician</td>\n",
              "    </tr>\n",
              "    <tr>\n",
              "      <th>39996</th>\n",
              "      <td>management</td>\n",
              "    </tr>\n",
              "    <tr>\n",
              "      <th>39997</th>\n",
              "      <td>admin</td>\n",
              "    </tr>\n",
              "    <tr>\n",
              "      <th>39998</th>\n",
              "      <td>management</td>\n",
              "    </tr>\n",
              "    <tr>\n",
              "      <th>39999</th>\n",
              "      <td>technician</td>\n",
              "    </tr>\n",
              "  </tbody>\n",
              "</table>\n",
              "<p>40000 rows × 1 columns</p>\n",
              "</div>"
            ],
            "text/plain": [
              "                job\n",
              "0        management\n",
              "1        technician\n",
              "2      entrepreneur\n",
              "3       blue-collar\n",
              "4               NaN\n",
              "...             ...\n",
              "39995    technician\n",
              "39996    management\n",
              "39997         admin\n",
              "39998    management\n",
              "39999    technician\n",
              "\n",
              "[40000 rows x 1 columns]"
            ]
          },
          "metadata": {
            "tags": []
          },
          "execution_count": 18
        }
      ]
    },
    {
      "cell_type": "markdown",
      "metadata": {
        "id": "3cUWLKyBSwKC"
      },
      "source": [
        "- Şimdi bu NaN değerleri imputer ile job sütununda en çok kullanılan kategoriye eşitleyeceğiz"
      ]
    },
    {
      "cell_type": "code",
      "metadata": {
        "id": "vZ5Hfa1UdSgA"
      },
      "source": [
        "job = imputer.fit_transform(job)"
      ],
      "execution_count": null,
      "outputs": []
    },
    {
      "cell_type": "code",
      "metadata": {
        "id": "e6ZjQ2OAdcIY",
        "colab": {
          "base_uri": "https://localhost:8080/"
        },
        "outputId": "6670c681-4ebf-476f-d75e-01853e7d6236"
      },
      "source": [
        "job"
      ],
      "execution_count": null,
      "outputs": [
        {
          "output_type": "execute_result",
          "data": {
            "text/plain": [
              "array([['management'],\n",
              "       ['technician'],\n",
              "       ['entrepreneur'],\n",
              "       ...,\n",
              "       ['admin'],\n",
              "       ['management'],\n",
              "       ['technician']], dtype=object)"
            ]
          },
          "metadata": {
            "tags": []
          },
          "execution_count": 20
        }
      ]
    },
    {
      "cell_type": "markdown",
      "metadata": {
        "id": "Yz5ydn5hS_wM"
      },
      "source": [
        "- 4. satırımızda unknown değerimiz vardı.Biz bunu NaN yapmıstık.For döngüsü ile ilk 10 satıra baktık.4.satıra baktığımız da blue-color değeri var."
      ]
    },
    {
      "cell_type": "code",
      "metadata": {
        "id": "Yxc3rCqtdhm_",
        "colab": {
          "base_uri": "https://localhost:8080/"
        },
        "outputId": "996504e0-a132-438c-b08f-8712bf459124"
      },
      "source": [
        "for i in range(10):\n",
        "  print(job[i])"
      ],
      "execution_count": null,
      "outputs": [
        {
          "output_type": "stream",
          "text": [
            "['management']\n",
            "['technician']\n",
            "['entrepreneur']\n",
            "['blue-collar']\n",
            "['blue-collar']\n",
            "['management']\n",
            "['management']\n",
            "['entrepreneur']\n",
            "['retired']\n",
            "['technician']\n"
          ],
          "name": "stdout"
        }
      ]
    },
    {
      "cell_type": "markdown",
      "metadata": {
        "id": "Whgm8OATEBpM"
      },
      "source": [
        "- Aşağıda gördüğümüz gibi job sütununda unknown kategorisi bulunmamakta"
      ]
    },
    {
      "cell_type": "code",
      "metadata": {
        "id": "nML3Wol9D7Wu",
        "colab": {
          "base_uri": "https://localhost:8080/"
        },
        "outputId": "b7959e97-4aea-40c8-ec0f-03713c116773"
      },
      "source": [
        "np.unique(job)"
      ],
      "execution_count": null,
      "outputs": [
        {
          "output_type": "execute_result",
          "data": {
            "text/plain": [
              "array(['admin', 'blue-collar', 'entrepreneur', 'housemaid', 'management',\n",
              "       'retired', 'self-employed', 'services', 'student', 'technician',\n",
              "       'unemployed'], dtype=object)"
            ]
          },
          "metadata": {
            "tags": []
          },
          "execution_count": 22
        }
      ]
    },
    {
      "cell_type": "markdown",
      "metadata": {
        "id": "jevFkhnqTbmD"
      },
      "source": [
        "- Diğer unknown değere sahip olan contact sütunumuzun kaç tane unknown değeri olduğuna bakıyoruz\n",
        "- 12765 tane unknown değeri olduğunu aşağıda görüyoruz\n",
        "- Biz bu unknown değeri düzeltmemiz gerekiyor"
      ]
    },
    {
      "cell_type": "code",
      "metadata": {
        "id": "MTcyzbqsmviD",
        "colab": {
          "base_uri": "https://localhost:8080/"
        },
        "outputId": "f4ff3d3e-2e45-4e8c-80bf-d7a143bb3ef5"
      },
      "source": [
        "data['contact'].value_counts()"
      ],
      "execution_count": null,
      "outputs": [
        {
          "output_type": "execute_result",
          "data": {
            "text/plain": [
              "cellular     24914\n",
              "unknown      12765\n",
              "telephone     2321\n",
              "Name: contact, dtype: int64"
            ]
          },
          "metadata": {
            "tags": []
          },
          "execution_count": 23
        }
      ]
    },
    {
      "cell_type": "markdown",
      "metadata": {
        "id": "LhRVoWCwTz4W"
      },
      "source": [
        "- İlk olarak contact sütunumuzu datamızdan alıyoruz"
      ]
    },
    {
      "cell_type": "code",
      "metadata": {
        "id": "hlDTv-w5nKBw"
      },
      "source": [
        "contact = data.iloc[:,8:9]"
      ],
      "execution_count": null,
      "outputs": []
    },
    {
      "cell_type": "markdown",
      "metadata": {
        "id": "82nbPlVKUUuE"
      },
      "source": [
        "- Aşağıda contact sütunumuzda unknown değerlerimizi görüyoruz."
      ]
    },
    {
      "cell_type": "code",
      "metadata": {
        "id": "ZCjjF6iLnQcY",
        "colab": {
          "base_uri": "https://localhost:8080/",
          "height": 402
        },
        "outputId": "2c6a3743-9614-4edb-f10f-3da0171437ee"
      },
      "source": [
        "contact"
      ],
      "execution_count": null,
      "outputs": [
        {
          "output_type": "execute_result",
          "data": {
            "text/html": [
              "<div>\n",
              "<style scoped>\n",
              "    .dataframe tbody tr th:only-of-type {\n",
              "        vertical-align: middle;\n",
              "    }\n",
              "\n",
              "    .dataframe tbody tr th {\n",
              "        vertical-align: top;\n",
              "    }\n",
              "\n",
              "    .dataframe thead th {\n",
              "        text-align: right;\n",
              "    }\n",
              "</style>\n",
              "<table border=\"1\" class=\"dataframe\">\n",
              "  <thead>\n",
              "    <tr style=\"text-align: right;\">\n",
              "      <th></th>\n",
              "      <th>contact</th>\n",
              "    </tr>\n",
              "  </thead>\n",
              "  <tbody>\n",
              "    <tr>\n",
              "      <th>0</th>\n",
              "      <td>unknown</td>\n",
              "    </tr>\n",
              "    <tr>\n",
              "      <th>1</th>\n",
              "      <td>unknown</td>\n",
              "    </tr>\n",
              "    <tr>\n",
              "      <th>2</th>\n",
              "      <td>unknown</td>\n",
              "    </tr>\n",
              "    <tr>\n",
              "      <th>3</th>\n",
              "      <td>unknown</td>\n",
              "    </tr>\n",
              "    <tr>\n",
              "      <th>4</th>\n",
              "      <td>unknown</td>\n",
              "    </tr>\n",
              "    <tr>\n",
              "      <th>...</th>\n",
              "      <td>...</td>\n",
              "    </tr>\n",
              "    <tr>\n",
              "      <th>39995</th>\n",
              "      <td>cellular</td>\n",
              "    </tr>\n",
              "    <tr>\n",
              "      <th>39996</th>\n",
              "      <td>cellular</td>\n",
              "    </tr>\n",
              "    <tr>\n",
              "      <th>39997</th>\n",
              "      <td>cellular</td>\n",
              "    </tr>\n",
              "    <tr>\n",
              "      <th>39998</th>\n",
              "      <td>cellular</td>\n",
              "    </tr>\n",
              "    <tr>\n",
              "      <th>39999</th>\n",
              "      <td>cellular</td>\n",
              "    </tr>\n",
              "  </tbody>\n",
              "</table>\n",
              "<p>40000 rows × 1 columns</p>\n",
              "</div>"
            ],
            "text/plain": [
              "        contact\n",
              "0       unknown\n",
              "1       unknown\n",
              "2       unknown\n",
              "3       unknown\n",
              "4       unknown\n",
              "...         ...\n",
              "39995  cellular\n",
              "39996  cellular\n",
              "39997  cellular\n",
              "39998  cellular\n",
              "39999  cellular\n",
              "\n",
              "[40000 rows x 1 columns]"
            ]
          },
          "metadata": {
            "tags": []
          },
          "execution_count": 25
        }
      ]
    },
    {
      "cell_type": "markdown",
      "metadata": {
        "id": "5dJwkd5dUf1f"
      },
      "source": [
        "- Unknown Değerlerimizi np.nan ile NaN yapıyoruz"
      ]
    },
    {
      "cell_type": "code",
      "metadata": {
        "id": "3tqNMmhNnTP8"
      },
      "source": [
        "contact = contact.replace('unknown',np.nan)"
      ],
      "execution_count": null,
      "outputs": []
    },
    {
      "cell_type": "markdown",
      "metadata": {
        "id": "fpAdb1CpUlOP"
      },
      "source": [
        "- unknown değerlerimiz NaN olmuş durumda"
      ]
    },
    {
      "cell_type": "code",
      "metadata": {
        "id": "27SmuLx7naC2",
        "colab": {
          "base_uri": "https://localhost:8080/",
          "height": 402
        },
        "outputId": "d3833923-3574-4280-fb40-c6fcdda70066"
      },
      "source": [
        "contact"
      ],
      "execution_count": null,
      "outputs": [
        {
          "output_type": "execute_result",
          "data": {
            "text/html": [
              "<div>\n",
              "<style scoped>\n",
              "    .dataframe tbody tr th:only-of-type {\n",
              "        vertical-align: middle;\n",
              "    }\n",
              "\n",
              "    .dataframe tbody tr th {\n",
              "        vertical-align: top;\n",
              "    }\n",
              "\n",
              "    .dataframe thead th {\n",
              "        text-align: right;\n",
              "    }\n",
              "</style>\n",
              "<table border=\"1\" class=\"dataframe\">\n",
              "  <thead>\n",
              "    <tr style=\"text-align: right;\">\n",
              "      <th></th>\n",
              "      <th>contact</th>\n",
              "    </tr>\n",
              "  </thead>\n",
              "  <tbody>\n",
              "    <tr>\n",
              "      <th>0</th>\n",
              "      <td>NaN</td>\n",
              "    </tr>\n",
              "    <tr>\n",
              "      <th>1</th>\n",
              "      <td>NaN</td>\n",
              "    </tr>\n",
              "    <tr>\n",
              "      <th>2</th>\n",
              "      <td>NaN</td>\n",
              "    </tr>\n",
              "    <tr>\n",
              "      <th>3</th>\n",
              "      <td>NaN</td>\n",
              "    </tr>\n",
              "    <tr>\n",
              "      <th>4</th>\n",
              "      <td>NaN</td>\n",
              "    </tr>\n",
              "    <tr>\n",
              "      <th>...</th>\n",
              "      <td>...</td>\n",
              "    </tr>\n",
              "    <tr>\n",
              "      <th>39995</th>\n",
              "      <td>cellular</td>\n",
              "    </tr>\n",
              "    <tr>\n",
              "      <th>39996</th>\n",
              "      <td>cellular</td>\n",
              "    </tr>\n",
              "    <tr>\n",
              "      <th>39997</th>\n",
              "      <td>cellular</td>\n",
              "    </tr>\n",
              "    <tr>\n",
              "      <th>39998</th>\n",
              "      <td>cellular</td>\n",
              "    </tr>\n",
              "    <tr>\n",
              "      <th>39999</th>\n",
              "      <td>cellular</td>\n",
              "    </tr>\n",
              "  </tbody>\n",
              "</table>\n",
              "<p>40000 rows × 1 columns</p>\n",
              "</div>"
            ],
            "text/plain": [
              "        contact\n",
              "0           NaN\n",
              "1           NaN\n",
              "2           NaN\n",
              "3           NaN\n",
              "4           NaN\n",
              "...         ...\n",
              "39995  cellular\n",
              "39996  cellular\n",
              "39997  cellular\n",
              "39998  cellular\n",
              "39999  cellular\n",
              "\n",
              "[40000 rows x 1 columns]"
            ]
          },
          "metadata": {
            "tags": []
          },
          "execution_count": 27
        }
      ]
    },
    {
      "cell_type": "markdown",
      "metadata": {
        "id": "eRsfhh2hUsQF"
      },
      "source": [
        "- SimpleImputer ile NaN değerlerimizi sütunda en çok kullanılan değer yapıyoruz.\n",
        "- En çok kullanılan kategori cellular'dı\n",
        "- Bizim de NaN değerlerimiz cellular olacak"
      ]
    },
    {
      "cell_type": "code",
      "metadata": {
        "id": "ShmdPjJynfhi"
      },
      "source": [
        "contact = imputer.fit_transform(contact)"
      ],
      "execution_count": null,
      "outputs": []
    },
    {
      "cell_type": "markdown",
      "metadata": {
        "id": "5Q-UoGdTVBkJ"
      },
      "source": [
        "- Aşağıda gördüğümüz gibi NaN değerlerimiz cellular olmuş durumda"
      ]
    },
    {
      "cell_type": "code",
      "metadata": {
        "id": "XweEqRVPnnMG",
        "colab": {
          "base_uri": "https://localhost:8080/"
        },
        "outputId": "1f8d4175-bdec-4e57-f825-c886eecf08dd"
      },
      "source": [
        "contact"
      ],
      "execution_count": null,
      "outputs": [
        {
          "output_type": "execute_result",
          "data": {
            "text/plain": [
              "array([['cellular'],\n",
              "       ['cellular'],\n",
              "       ['cellular'],\n",
              "       ...,\n",
              "       ['cellular'],\n",
              "       ['cellular'],\n",
              "       ['cellular']], dtype=object)"
            ]
          },
          "metadata": {
            "tags": []
          },
          "execution_count": 29
        }
      ]
    },
    {
      "cell_type": "markdown",
      "metadata": {
        "id": "RGgrqA59EU0a"
      },
      "source": [
        "- Contact sütununda ki kategorilere bakıyoruz.Unknown kategorisinin olmadığını görüyoruz"
      ]
    },
    {
      "cell_type": "code",
      "metadata": {
        "id": "lEPQSq62EQGa",
        "colab": {
          "base_uri": "https://localhost:8080/"
        },
        "outputId": "56ff52a8-7198-43da-b4ac-0ffdc58527e4"
      },
      "source": [
        "np.unique(contact)"
      ],
      "execution_count": null,
      "outputs": [
        {
          "output_type": "execute_result",
          "data": {
            "text/plain": [
              "array(['cellular', 'telephone'], dtype=object)"
            ]
          },
          "metadata": {
            "tags": []
          },
          "execution_count": 30
        }
      ]
    },
    {
      "cell_type": "markdown",
      "metadata": {
        "id": "3egtO9cjVNNy"
      },
      "source": [
        "- unknown değerleri düzelltiğimiz sütunlarımızı datamızdan siliyoruz"
      ]
    },
    {
      "cell_type": "code",
      "metadata": {
        "id": "pQ_xAqLHnr-L"
      },
      "source": [
        "data = data.drop(['job','education','contact'],axis=1)"
      ],
      "execution_count": null,
      "outputs": []
    },
    {
      "cell_type": "markdown",
      "metadata": {
        "id": "dqIyM5F6VVmk"
      },
      "source": [
        "- 14 sütunumuz vardı.Şimdi 11 sütunumuz olmuş durumda.\n",
        "- 3 sütunumuzu silmiştik"
      ]
    },
    {
      "cell_type": "code",
      "metadata": {
        "id": "KIixgobcoERf",
        "colab": {
          "base_uri": "https://localhost:8080/"
        },
        "outputId": "7c0392a7-3515-4b0b-8efd-977cff153a56"
      },
      "source": [
        "data.shape"
      ],
      "execution_count": null,
      "outputs": [
        {
          "output_type": "execute_result",
          "data": {
            "text/plain": [
              "(40000, 11)"
            ]
          },
          "metadata": {
            "tags": []
          },
          "execution_count": 32
        }
      ]
    },
    {
      "cell_type": "markdown",
      "metadata": {
        "id": "BLJhjwmcVwSA"
      },
      "source": [
        "- Datamızdan job,education ve contact sütunlarını silmiştik.Bizim sildiğimiz sütunlarımız unknown değerleri olan sütunlardı\n",
        "- Şimdi ise biz unknown değerlerini düzelttiğimiz sütunlarımızı datamıza ekleyeceğiz\n",
        "- Ama ilk önce datamıza ekleyebilmemiz için array olan bu sütunlarımızı DataFrame yapmamız gerekiyor\n",
        "\n",
        "- data = DataFrame yapacağımız array olan sütunumuzu yazıyoruz\n",
        "\n",
        "- index = Bizim datamız da 40000 satırımız var.Bu yüzden oluşturacağımız dataFramede de 40000 satır olması lazım\n",
        "\n",
        "- columns = datamızda ki olmasını istediğimiz column adını yazıyoruz"
      ]
    },
    {
      "cell_type": "code",
      "metadata": {
        "id": "wAdrPO3joem0"
      },
      "source": [
        "job = pd.DataFrame(data=job,index=range(40000),columns=['job'])\n",
        "\n",
        "education = pd.DataFrame(data=education,index=range(40000),columns=['education'])\n",
        "\n",
        "contact = pd.DataFrame(data=contact,index=range(40000),columns=['contact'])"
      ],
      "execution_count": null,
      "outputs": []
    },
    {
      "cell_type": "markdown",
      "metadata": {
        "id": "gelD955lXQuj"
      },
      "source": [
        "- Aşağıda gördüğümüz gibi numpy.array olan sütunlarımızı pandas.DataFrame yapmış durumdayız"
      ]
    },
    {
      "cell_type": "code",
      "metadata": {
        "id": "ohHrzhWzp7JM",
        "colab": {
          "base_uri": "https://localhost:8080/"
        },
        "outputId": "10c7a9ec-91e9-4ea2-d136-018303d3bbf8"
      },
      "source": [
        "print(type(job))\n",
        "\n",
        "print(type(education))\n",
        "\n",
        "print(type(contact))"
      ],
      "execution_count": null,
      "outputs": [
        {
          "output_type": "stream",
          "text": [
            "<class 'pandas.core.frame.DataFrame'>\n",
            "<class 'pandas.core.frame.DataFrame'>\n",
            "<class 'pandas.core.frame.DataFrame'>\n"
          ],
          "name": "stdout"
        }
      ]
    },
    {
      "cell_type": "markdown",
      "metadata": {
        "id": "-_5Y624iYQMH"
      },
      "source": [
        "- DataFrame yaptığımız bu sütunlarımızı şimdi datamıza ekleyeceğiz\n",
        "- ilk olarak job ve education dataFramelerimizi birleştirip data_1 atında yeni bir dataframe elde ediyoruz\n",
        "- axis=1 dedik çünkü sütun bazlı birleştirme işlemi yapıyoruz"
      ]
    },
    {
      "cell_type": "code",
      "metadata": {
        "id": "Jy_OHz8_q03n"
      },
      "source": [
        "data_1 = pd.concat([job,education],axis=1)"
      ],
      "execution_count": null,
      "outputs": []
    },
    {
      "cell_type": "markdown",
      "metadata": {
        "id": "YT0uiDe-YtGr"
      },
      "source": [
        "- Aşağıda gördüğümüz gibi job ve education dataframeleri birleştirerek bir data_1 elde ettik"
      ]
    },
    {
      "cell_type": "code",
      "metadata": {
        "id": "sMo7Sso-wrrU",
        "colab": {
          "base_uri": "https://localhost:8080/",
          "height": 402
        },
        "outputId": "b1481262-b458-40fe-f935-199331de04a8"
      },
      "source": [
        "data_1"
      ],
      "execution_count": null,
      "outputs": [
        {
          "output_type": "execute_result",
          "data": {
            "text/html": [
              "<div>\n",
              "<style scoped>\n",
              "    .dataframe tbody tr th:only-of-type {\n",
              "        vertical-align: middle;\n",
              "    }\n",
              "\n",
              "    .dataframe tbody tr th {\n",
              "        vertical-align: top;\n",
              "    }\n",
              "\n",
              "    .dataframe thead th {\n",
              "        text-align: right;\n",
              "    }\n",
              "</style>\n",
              "<table border=\"1\" class=\"dataframe\">\n",
              "  <thead>\n",
              "    <tr style=\"text-align: right;\">\n",
              "      <th></th>\n",
              "      <th>job</th>\n",
              "      <th>education</th>\n",
              "    </tr>\n",
              "  </thead>\n",
              "  <tbody>\n",
              "    <tr>\n",
              "      <th>0</th>\n",
              "      <td>management</td>\n",
              "      <td>tertiary</td>\n",
              "    </tr>\n",
              "    <tr>\n",
              "      <th>1</th>\n",
              "      <td>technician</td>\n",
              "      <td>secondary</td>\n",
              "    </tr>\n",
              "    <tr>\n",
              "      <th>2</th>\n",
              "      <td>entrepreneur</td>\n",
              "      <td>secondary</td>\n",
              "    </tr>\n",
              "    <tr>\n",
              "      <th>3</th>\n",
              "      <td>blue-collar</td>\n",
              "      <td>secondary</td>\n",
              "    </tr>\n",
              "    <tr>\n",
              "      <th>4</th>\n",
              "      <td>blue-collar</td>\n",
              "      <td>secondary</td>\n",
              "    </tr>\n",
              "    <tr>\n",
              "      <th>...</th>\n",
              "      <td>...</td>\n",
              "      <td>...</td>\n",
              "    </tr>\n",
              "    <tr>\n",
              "      <th>39995</th>\n",
              "      <td>technician</td>\n",
              "      <td>tertiary</td>\n",
              "    </tr>\n",
              "    <tr>\n",
              "      <th>39996</th>\n",
              "      <td>management</td>\n",
              "      <td>tertiary</td>\n",
              "    </tr>\n",
              "    <tr>\n",
              "      <th>39997</th>\n",
              "      <td>admin</td>\n",
              "      <td>secondary</td>\n",
              "    </tr>\n",
              "    <tr>\n",
              "      <th>39998</th>\n",
              "      <td>management</td>\n",
              "      <td>tertiary</td>\n",
              "    </tr>\n",
              "    <tr>\n",
              "      <th>39999</th>\n",
              "      <td>technician</td>\n",
              "      <td>secondary</td>\n",
              "    </tr>\n",
              "  </tbody>\n",
              "</table>\n",
              "<p>40000 rows × 2 columns</p>\n",
              "</div>"
            ],
            "text/plain": [
              "                job  education\n",
              "0        management   tertiary\n",
              "1        technician  secondary\n",
              "2      entrepreneur  secondary\n",
              "3       blue-collar  secondary\n",
              "4       blue-collar  secondary\n",
              "...             ...        ...\n",
              "39995    technician   tertiary\n",
              "39996    management   tertiary\n",
              "39997         admin  secondary\n",
              "39998    management   tertiary\n",
              "39999    technician  secondary\n",
              "\n",
              "[40000 rows x 2 columns]"
            ]
          },
          "metadata": {
            "tags": []
          },
          "execution_count": 36
        }
      ]
    },
    {
      "cell_type": "markdown",
      "metadata": {
        "id": "0bZbWWWkY94u"
      },
      "source": [
        "- Şimdi ise data_1 ile contact dataFramemizi birleştireceğiz.Yani job,education ve contact sütunlarımızı birleştirerek bir dataFrame elde edeceğiz.\n",
        "- Bu datamıza da data_2 diyoruz"
      ]
    },
    {
      "cell_type": "code",
      "metadata": {
        "id": "NWeUYFYawIqi"
      },
      "source": [
        "data_2 = pd.concat([data_1,contact],axis=1)"
      ],
      "execution_count": null,
      "outputs": []
    },
    {
      "cell_type": "markdown",
      "metadata": {
        "id": "IyjfmKdZZRV-"
      },
      "source": [
        "- Aşağıda gördüğünüz gibi job ,education ve contact sütunlarımızı birleştirerek data_2 adında yeni dataFrame elde ettik"
      ]
    },
    {
      "cell_type": "code",
      "metadata": {
        "id": "pYgNV_3Hwmb0",
        "colab": {
          "base_uri": "https://localhost:8080/",
          "height": 402
        },
        "outputId": "d16088d5-009d-4405-d5f3-1687d6dc439d"
      },
      "source": [
        "data_2"
      ],
      "execution_count": null,
      "outputs": [
        {
          "output_type": "execute_result",
          "data": {
            "text/html": [
              "<div>\n",
              "<style scoped>\n",
              "    .dataframe tbody tr th:only-of-type {\n",
              "        vertical-align: middle;\n",
              "    }\n",
              "\n",
              "    .dataframe tbody tr th {\n",
              "        vertical-align: top;\n",
              "    }\n",
              "\n",
              "    .dataframe thead th {\n",
              "        text-align: right;\n",
              "    }\n",
              "</style>\n",
              "<table border=\"1\" class=\"dataframe\">\n",
              "  <thead>\n",
              "    <tr style=\"text-align: right;\">\n",
              "      <th></th>\n",
              "      <th>job</th>\n",
              "      <th>education</th>\n",
              "      <th>contact</th>\n",
              "    </tr>\n",
              "  </thead>\n",
              "  <tbody>\n",
              "    <tr>\n",
              "      <th>0</th>\n",
              "      <td>management</td>\n",
              "      <td>tertiary</td>\n",
              "      <td>cellular</td>\n",
              "    </tr>\n",
              "    <tr>\n",
              "      <th>1</th>\n",
              "      <td>technician</td>\n",
              "      <td>secondary</td>\n",
              "      <td>cellular</td>\n",
              "    </tr>\n",
              "    <tr>\n",
              "      <th>2</th>\n",
              "      <td>entrepreneur</td>\n",
              "      <td>secondary</td>\n",
              "      <td>cellular</td>\n",
              "    </tr>\n",
              "    <tr>\n",
              "      <th>3</th>\n",
              "      <td>blue-collar</td>\n",
              "      <td>secondary</td>\n",
              "      <td>cellular</td>\n",
              "    </tr>\n",
              "    <tr>\n",
              "      <th>4</th>\n",
              "      <td>blue-collar</td>\n",
              "      <td>secondary</td>\n",
              "      <td>cellular</td>\n",
              "    </tr>\n",
              "    <tr>\n",
              "      <th>...</th>\n",
              "      <td>...</td>\n",
              "      <td>...</td>\n",
              "      <td>...</td>\n",
              "    </tr>\n",
              "    <tr>\n",
              "      <th>39995</th>\n",
              "      <td>technician</td>\n",
              "      <td>tertiary</td>\n",
              "      <td>cellular</td>\n",
              "    </tr>\n",
              "    <tr>\n",
              "      <th>39996</th>\n",
              "      <td>management</td>\n",
              "      <td>tertiary</td>\n",
              "      <td>cellular</td>\n",
              "    </tr>\n",
              "    <tr>\n",
              "      <th>39997</th>\n",
              "      <td>admin</td>\n",
              "      <td>secondary</td>\n",
              "      <td>cellular</td>\n",
              "    </tr>\n",
              "    <tr>\n",
              "      <th>39998</th>\n",
              "      <td>management</td>\n",
              "      <td>tertiary</td>\n",
              "      <td>cellular</td>\n",
              "    </tr>\n",
              "    <tr>\n",
              "      <th>39999</th>\n",
              "      <td>technician</td>\n",
              "      <td>secondary</td>\n",
              "      <td>cellular</td>\n",
              "    </tr>\n",
              "  </tbody>\n",
              "</table>\n",
              "<p>40000 rows × 3 columns</p>\n",
              "</div>"
            ],
            "text/plain": [
              "                job  education   contact\n",
              "0        management   tertiary  cellular\n",
              "1        technician  secondary  cellular\n",
              "2      entrepreneur  secondary  cellular\n",
              "3       blue-collar  secondary  cellular\n",
              "4       blue-collar  secondary  cellular\n",
              "...             ...        ...       ...\n",
              "39995    technician   tertiary  cellular\n",
              "39996    management   tertiary  cellular\n",
              "39997         admin  secondary  cellular\n",
              "39998    management   tertiary  cellular\n",
              "39999    technician  secondary  cellular\n",
              "\n",
              "[40000 rows x 3 columns]"
            ]
          },
          "metadata": {
            "tags": []
          },
          "execution_count": 38
        }
      ]
    },
    {
      "cell_type": "markdown",
      "metadata": {
        "id": "bQ1q4cD_ZsRp"
      },
      "source": [
        "- Eksik değerlerini(missing_value) düzelltiğimiz sütunlarımızı datamız ile birleştireceğiz\n",
        "\n",
        "- Bizim datamız ile job,education ve contact datalarımız ile oluşturduğumuz data_2'yi birleştireceğiz"
      ]
    },
    {
      "cell_type": "code",
      "metadata": {
        "id": "10mH-KUvwuhc"
      },
      "source": [
        "data = pd.concat([data,data_2],axis=1)"
      ],
      "execution_count": null,
      "outputs": []
    },
    {
      "cell_type": "markdown",
      "metadata": {
        "id": "eVP2Cf0yaYtC"
      },
      "source": [
        "- Aşağıda gördüğünüz gibi eksik verilerinden kurtardığımız job,education ve contact sütunlarımız yeniden datamızda\n"
      ]
    },
    {
      "cell_type": "code",
      "metadata": {
        "id": "9frwXnJ5aWeA",
        "colab": {
          "base_uri": "https://localhost:8080/",
          "height": 402
        },
        "outputId": "6c91450f-43e5-4803-8e99-d781dc2ba527"
      },
      "source": [
        "data"
      ],
      "execution_count": null,
      "outputs": [
        {
          "output_type": "execute_result",
          "data": {
            "text/html": [
              "<div>\n",
              "<style scoped>\n",
              "    .dataframe tbody tr th:only-of-type {\n",
              "        vertical-align: middle;\n",
              "    }\n",
              "\n",
              "    .dataframe tbody tr th {\n",
              "        vertical-align: top;\n",
              "    }\n",
              "\n",
              "    .dataframe thead th {\n",
              "        text-align: right;\n",
              "    }\n",
              "</style>\n",
              "<table border=\"1\" class=\"dataframe\">\n",
              "  <thead>\n",
              "    <tr style=\"text-align: right;\">\n",
              "      <th></th>\n",
              "      <th>age</th>\n",
              "      <th>marital</th>\n",
              "      <th>default</th>\n",
              "      <th>balance</th>\n",
              "      <th>housing</th>\n",
              "      <th>loan</th>\n",
              "      <th>day</th>\n",
              "      <th>month</th>\n",
              "      <th>duration</th>\n",
              "      <th>campaign</th>\n",
              "      <th>y</th>\n",
              "      <th>job</th>\n",
              "      <th>education</th>\n",
              "      <th>contact</th>\n",
              "    </tr>\n",
              "  </thead>\n",
              "  <tbody>\n",
              "    <tr>\n",
              "      <th>0</th>\n",
              "      <td>58</td>\n",
              "      <td>married</td>\n",
              "      <td>no</td>\n",
              "      <td>2143</td>\n",
              "      <td>yes</td>\n",
              "      <td>no</td>\n",
              "      <td>5</td>\n",
              "      <td>may</td>\n",
              "      <td>261</td>\n",
              "      <td>1</td>\n",
              "      <td>no</td>\n",
              "      <td>management</td>\n",
              "      <td>tertiary</td>\n",
              "      <td>cellular</td>\n",
              "    </tr>\n",
              "    <tr>\n",
              "      <th>1</th>\n",
              "      <td>44</td>\n",
              "      <td>single</td>\n",
              "      <td>no</td>\n",
              "      <td>29</td>\n",
              "      <td>yes</td>\n",
              "      <td>no</td>\n",
              "      <td>5</td>\n",
              "      <td>may</td>\n",
              "      <td>151</td>\n",
              "      <td>1</td>\n",
              "      <td>no</td>\n",
              "      <td>technician</td>\n",
              "      <td>secondary</td>\n",
              "      <td>cellular</td>\n",
              "    </tr>\n",
              "    <tr>\n",
              "      <th>2</th>\n",
              "      <td>33</td>\n",
              "      <td>married</td>\n",
              "      <td>no</td>\n",
              "      <td>2</td>\n",
              "      <td>yes</td>\n",
              "      <td>yes</td>\n",
              "      <td>5</td>\n",
              "      <td>may</td>\n",
              "      <td>76</td>\n",
              "      <td>1</td>\n",
              "      <td>no</td>\n",
              "      <td>entrepreneur</td>\n",
              "      <td>secondary</td>\n",
              "      <td>cellular</td>\n",
              "    </tr>\n",
              "    <tr>\n",
              "      <th>3</th>\n",
              "      <td>47</td>\n",
              "      <td>married</td>\n",
              "      <td>no</td>\n",
              "      <td>1506</td>\n",
              "      <td>yes</td>\n",
              "      <td>no</td>\n",
              "      <td>5</td>\n",
              "      <td>may</td>\n",
              "      <td>92</td>\n",
              "      <td>1</td>\n",
              "      <td>no</td>\n",
              "      <td>blue-collar</td>\n",
              "      <td>secondary</td>\n",
              "      <td>cellular</td>\n",
              "    </tr>\n",
              "    <tr>\n",
              "      <th>4</th>\n",
              "      <td>33</td>\n",
              "      <td>single</td>\n",
              "      <td>no</td>\n",
              "      <td>1</td>\n",
              "      <td>no</td>\n",
              "      <td>no</td>\n",
              "      <td>5</td>\n",
              "      <td>may</td>\n",
              "      <td>198</td>\n",
              "      <td>1</td>\n",
              "      <td>no</td>\n",
              "      <td>blue-collar</td>\n",
              "      <td>secondary</td>\n",
              "      <td>cellular</td>\n",
              "    </tr>\n",
              "    <tr>\n",
              "      <th>...</th>\n",
              "      <td>...</td>\n",
              "      <td>...</td>\n",
              "      <td>...</td>\n",
              "      <td>...</td>\n",
              "      <td>...</td>\n",
              "      <td>...</td>\n",
              "      <td>...</td>\n",
              "      <td>...</td>\n",
              "      <td>...</td>\n",
              "      <td>...</td>\n",
              "      <td>...</td>\n",
              "      <td>...</td>\n",
              "      <td>...</td>\n",
              "      <td>...</td>\n",
              "    </tr>\n",
              "    <tr>\n",
              "      <th>39995</th>\n",
              "      <td>53</td>\n",
              "      <td>married</td>\n",
              "      <td>no</td>\n",
              "      <td>395</td>\n",
              "      <td>no</td>\n",
              "      <td>no</td>\n",
              "      <td>3</td>\n",
              "      <td>jun</td>\n",
              "      <td>107</td>\n",
              "      <td>1</td>\n",
              "      <td>no</td>\n",
              "      <td>technician</td>\n",
              "      <td>tertiary</td>\n",
              "      <td>cellular</td>\n",
              "    </tr>\n",
              "    <tr>\n",
              "      <th>39996</th>\n",
              "      <td>30</td>\n",
              "      <td>single</td>\n",
              "      <td>no</td>\n",
              "      <td>3340</td>\n",
              "      <td>no</td>\n",
              "      <td>no</td>\n",
              "      <td>3</td>\n",
              "      <td>jun</td>\n",
              "      <td>238</td>\n",
              "      <td>3</td>\n",
              "      <td>yes</td>\n",
              "      <td>management</td>\n",
              "      <td>tertiary</td>\n",
              "      <td>cellular</td>\n",
              "    </tr>\n",
              "    <tr>\n",
              "      <th>39997</th>\n",
              "      <td>54</td>\n",
              "      <td>divorced</td>\n",
              "      <td>no</td>\n",
              "      <td>200</td>\n",
              "      <td>no</td>\n",
              "      <td>no</td>\n",
              "      <td>3</td>\n",
              "      <td>jun</td>\n",
              "      <td>170</td>\n",
              "      <td>1</td>\n",
              "      <td>yes</td>\n",
              "      <td>admin</td>\n",
              "      <td>secondary</td>\n",
              "      <td>cellular</td>\n",
              "    </tr>\n",
              "    <tr>\n",
              "      <th>39998</th>\n",
              "      <td>34</td>\n",
              "      <td>married</td>\n",
              "      <td>no</td>\n",
              "      <td>1047</td>\n",
              "      <td>no</td>\n",
              "      <td>no</td>\n",
              "      <td>3</td>\n",
              "      <td>jun</td>\n",
              "      <td>342</td>\n",
              "      <td>1</td>\n",
              "      <td>no</td>\n",
              "      <td>management</td>\n",
              "      <td>tertiary</td>\n",
              "      <td>cellular</td>\n",
              "    </tr>\n",
              "    <tr>\n",
              "      <th>39999</th>\n",
              "      <td>38</td>\n",
              "      <td>married</td>\n",
              "      <td>no</td>\n",
              "      <td>1442</td>\n",
              "      <td>yes</td>\n",
              "      <td>no</td>\n",
              "      <td>3</td>\n",
              "      <td>jun</td>\n",
              "      <td>113</td>\n",
              "      <td>1</td>\n",
              "      <td>no</td>\n",
              "      <td>technician</td>\n",
              "      <td>secondary</td>\n",
              "      <td>cellular</td>\n",
              "    </tr>\n",
              "  </tbody>\n",
              "</table>\n",
              "<p>40000 rows × 14 columns</p>\n",
              "</div>"
            ],
            "text/plain": [
              "       age   marital default  balance  ...    y           job  education   contact\n",
              "0       58   married      no     2143  ...   no    management   tertiary  cellular\n",
              "1       44    single      no       29  ...   no    technician  secondary  cellular\n",
              "2       33   married      no        2  ...   no  entrepreneur  secondary  cellular\n",
              "3       47   married      no     1506  ...   no   blue-collar  secondary  cellular\n",
              "4       33    single      no        1  ...   no   blue-collar  secondary  cellular\n",
              "...    ...       ...     ...      ...  ...  ...           ...        ...       ...\n",
              "39995   53   married      no      395  ...   no    technician   tertiary  cellular\n",
              "39996   30    single      no     3340  ...  yes    management   tertiary  cellular\n",
              "39997   54  divorced      no      200  ...  yes         admin  secondary  cellular\n",
              "39998   34   married      no     1047  ...   no    management   tertiary  cellular\n",
              "39999   38   married      no     1442  ...   no    technician  secondary  cellular\n",
              "\n",
              "[40000 rows x 14 columns]"
            ]
          },
          "metadata": {
            "tags": []
          },
          "execution_count": 40
        }
      ]
    },
    {
      "cell_type": "markdown",
      "metadata": {
        "id": "WTBNBw5gaq-L"
      },
      "source": [
        "- Bizim modelimiz üzerinde fazla etkisi olmayacak olan sütunlarımızı datamızdan çıkarıyoruz"
      ]
    },
    {
      "cell_type": "code",
      "metadata": {
        "id": "ake0_P_pyi5S"
      },
      "source": [
        "data = data.drop('default',axis=1)\n",
        "\n",
        "data = data.drop('month',axis=1)\n",
        "\n",
        "data = data.drop('day',axis=1)"
      ],
      "execution_count": null,
      "outputs": []
    },
    {
      "cell_type": "markdown",
      "metadata": {
        "id": "oNmU4sWGa71F"
      },
      "source": [
        "- Aşağıda gördüğümüz gibi 3 sütunu da datamızdan çıkardık"
      ]
    },
    {
      "cell_type": "code",
      "metadata": {
        "id": "fe-Yz9P18_x9",
        "colab": {
          "base_uri": "https://localhost:8080/",
          "height": 402
        },
        "outputId": "9f612b68-e2f4-4c19-c71a-a25291bcdb35"
      },
      "source": [
        "data"
      ],
      "execution_count": null,
      "outputs": [
        {
          "output_type": "execute_result",
          "data": {
            "text/html": [
              "<div>\n",
              "<style scoped>\n",
              "    .dataframe tbody tr th:only-of-type {\n",
              "        vertical-align: middle;\n",
              "    }\n",
              "\n",
              "    .dataframe tbody tr th {\n",
              "        vertical-align: top;\n",
              "    }\n",
              "\n",
              "    .dataframe thead th {\n",
              "        text-align: right;\n",
              "    }\n",
              "</style>\n",
              "<table border=\"1\" class=\"dataframe\">\n",
              "  <thead>\n",
              "    <tr style=\"text-align: right;\">\n",
              "      <th></th>\n",
              "      <th>age</th>\n",
              "      <th>marital</th>\n",
              "      <th>balance</th>\n",
              "      <th>housing</th>\n",
              "      <th>loan</th>\n",
              "      <th>duration</th>\n",
              "      <th>campaign</th>\n",
              "      <th>y</th>\n",
              "      <th>job</th>\n",
              "      <th>education</th>\n",
              "      <th>contact</th>\n",
              "    </tr>\n",
              "  </thead>\n",
              "  <tbody>\n",
              "    <tr>\n",
              "      <th>0</th>\n",
              "      <td>58</td>\n",
              "      <td>married</td>\n",
              "      <td>2143</td>\n",
              "      <td>yes</td>\n",
              "      <td>no</td>\n",
              "      <td>261</td>\n",
              "      <td>1</td>\n",
              "      <td>no</td>\n",
              "      <td>management</td>\n",
              "      <td>tertiary</td>\n",
              "      <td>cellular</td>\n",
              "    </tr>\n",
              "    <tr>\n",
              "      <th>1</th>\n",
              "      <td>44</td>\n",
              "      <td>single</td>\n",
              "      <td>29</td>\n",
              "      <td>yes</td>\n",
              "      <td>no</td>\n",
              "      <td>151</td>\n",
              "      <td>1</td>\n",
              "      <td>no</td>\n",
              "      <td>technician</td>\n",
              "      <td>secondary</td>\n",
              "      <td>cellular</td>\n",
              "    </tr>\n",
              "    <tr>\n",
              "      <th>2</th>\n",
              "      <td>33</td>\n",
              "      <td>married</td>\n",
              "      <td>2</td>\n",
              "      <td>yes</td>\n",
              "      <td>yes</td>\n",
              "      <td>76</td>\n",
              "      <td>1</td>\n",
              "      <td>no</td>\n",
              "      <td>entrepreneur</td>\n",
              "      <td>secondary</td>\n",
              "      <td>cellular</td>\n",
              "    </tr>\n",
              "    <tr>\n",
              "      <th>3</th>\n",
              "      <td>47</td>\n",
              "      <td>married</td>\n",
              "      <td>1506</td>\n",
              "      <td>yes</td>\n",
              "      <td>no</td>\n",
              "      <td>92</td>\n",
              "      <td>1</td>\n",
              "      <td>no</td>\n",
              "      <td>blue-collar</td>\n",
              "      <td>secondary</td>\n",
              "      <td>cellular</td>\n",
              "    </tr>\n",
              "    <tr>\n",
              "      <th>4</th>\n",
              "      <td>33</td>\n",
              "      <td>single</td>\n",
              "      <td>1</td>\n",
              "      <td>no</td>\n",
              "      <td>no</td>\n",
              "      <td>198</td>\n",
              "      <td>1</td>\n",
              "      <td>no</td>\n",
              "      <td>blue-collar</td>\n",
              "      <td>secondary</td>\n",
              "      <td>cellular</td>\n",
              "    </tr>\n",
              "    <tr>\n",
              "      <th>...</th>\n",
              "      <td>...</td>\n",
              "      <td>...</td>\n",
              "      <td>...</td>\n",
              "      <td>...</td>\n",
              "      <td>...</td>\n",
              "      <td>...</td>\n",
              "      <td>...</td>\n",
              "      <td>...</td>\n",
              "      <td>...</td>\n",
              "      <td>...</td>\n",
              "      <td>...</td>\n",
              "    </tr>\n",
              "    <tr>\n",
              "      <th>39995</th>\n",
              "      <td>53</td>\n",
              "      <td>married</td>\n",
              "      <td>395</td>\n",
              "      <td>no</td>\n",
              "      <td>no</td>\n",
              "      <td>107</td>\n",
              "      <td>1</td>\n",
              "      <td>no</td>\n",
              "      <td>technician</td>\n",
              "      <td>tertiary</td>\n",
              "      <td>cellular</td>\n",
              "    </tr>\n",
              "    <tr>\n",
              "      <th>39996</th>\n",
              "      <td>30</td>\n",
              "      <td>single</td>\n",
              "      <td>3340</td>\n",
              "      <td>no</td>\n",
              "      <td>no</td>\n",
              "      <td>238</td>\n",
              "      <td>3</td>\n",
              "      <td>yes</td>\n",
              "      <td>management</td>\n",
              "      <td>tertiary</td>\n",
              "      <td>cellular</td>\n",
              "    </tr>\n",
              "    <tr>\n",
              "      <th>39997</th>\n",
              "      <td>54</td>\n",
              "      <td>divorced</td>\n",
              "      <td>200</td>\n",
              "      <td>no</td>\n",
              "      <td>no</td>\n",
              "      <td>170</td>\n",
              "      <td>1</td>\n",
              "      <td>yes</td>\n",
              "      <td>admin</td>\n",
              "      <td>secondary</td>\n",
              "      <td>cellular</td>\n",
              "    </tr>\n",
              "    <tr>\n",
              "      <th>39998</th>\n",
              "      <td>34</td>\n",
              "      <td>married</td>\n",
              "      <td>1047</td>\n",
              "      <td>no</td>\n",
              "      <td>no</td>\n",
              "      <td>342</td>\n",
              "      <td>1</td>\n",
              "      <td>no</td>\n",
              "      <td>management</td>\n",
              "      <td>tertiary</td>\n",
              "      <td>cellular</td>\n",
              "    </tr>\n",
              "    <tr>\n",
              "      <th>39999</th>\n",
              "      <td>38</td>\n",
              "      <td>married</td>\n",
              "      <td>1442</td>\n",
              "      <td>yes</td>\n",
              "      <td>no</td>\n",
              "      <td>113</td>\n",
              "      <td>1</td>\n",
              "      <td>no</td>\n",
              "      <td>technician</td>\n",
              "      <td>secondary</td>\n",
              "      <td>cellular</td>\n",
              "    </tr>\n",
              "  </tbody>\n",
              "</table>\n",
              "<p>40000 rows × 11 columns</p>\n",
              "</div>"
            ],
            "text/plain": [
              "       age   marital  balance housing  ...    y           job  education   contact\n",
              "0       58   married     2143     yes  ...   no    management   tertiary  cellular\n",
              "1       44    single       29     yes  ...   no    technician  secondary  cellular\n",
              "2       33   married        2     yes  ...   no  entrepreneur  secondary  cellular\n",
              "3       47   married     1506     yes  ...   no   blue-collar  secondary  cellular\n",
              "4       33    single        1      no  ...   no   blue-collar  secondary  cellular\n",
              "...    ...       ...      ...     ...  ...  ...           ...        ...       ...\n",
              "39995   53   married      395      no  ...   no    technician   tertiary  cellular\n",
              "39996   30    single     3340      no  ...  yes    management   tertiary  cellular\n",
              "39997   54  divorced      200      no  ...  yes         admin  secondary  cellular\n",
              "39998   34   married     1047      no  ...   no    management   tertiary  cellular\n",
              "39999   38   married     1442     yes  ...   no    technician  secondary  cellular\n",
              "\n",
              "[40000 rows x 11 columns]"
            ]
          },
          "metadata": {
            "tags": []
          },
          "execution_count": 42
        }
      ]
    },
    {
      "cell_type": "markdown",
      "metadata": {
        "id": "Ic__bWgk9QzS"
      },
      "source": [
        "#Veri Görselleştirme\n"
      ]
    },
    {
      "cell_type": "code",
      "metadata": {
        "id": "1k372T169YDe"
      },
      "source": [
        "import matplotlib.pyplot as plt\n",
        "import seaborn as sns"
      ],
      "execution_count": null,
      "outputs": []
    },
    {
      "cell_type": "markdown",
      "metadata": {
        "id": "mZBUa0YcRLLS"
      },
      "source": [
        "- Numeric değerlere sahip olan sütunlarımızın boxplot ile görselleştiriyoruz\n"
      ]
    },
    {
      "cell_type": "code",
      "metadata": {
        "id": "-ufcBIz19k-q",
        "colab": {
          "base_uri": "https://localhost:8080/",
          "height": 428
        },
        "outputId": "76d45083-f848-4b73-d093-636e0329ac0a"
      },
      "source": [
        "data.boxplot(column=['age'],figsize=(7,7))\n",
        "plt.show()"
      ],
      "execution_count": null,
      "outputs": [
        {
          "output_type": "display_data",
          "data": {
            "image/png": "[encoded data removed]",
            "text/plain": [
              "<Figure size 504x504 with 1 Axes>"
            ]
          },
          "metadata": {
            "tags": [],
            "needs_background": "light"
          }
        }
      ]
    },
    {
      "cell_type": "code",
      "metadata": {
        "id": "L1mGs1OqNG1m",
        "colab": {
          "base_uri": "https://localhost:8080/",
          "height": 428
        },
        "outputId": "5f2d7a13-4a54-49ff-c043-44a3f54b62ee"
      },
      "source": [
        "data.boxplot(column=['balance'],figsize=(7,7))\n",
        "plt.show()"
      ],
      "execution_count": null,
      "outputs": [
        {
          "output_type": "display_data",
          "data": {
            "image/png": "[encoded data removed]",
            "text/plain": [
              "<Figure size 504x504 with 1 Axes>"
            ]
          },
          "metadata": {
            "tags": [],
            "needs_background": "light"
          }
        }
      ]
    },
    {
      "cell_type": "code",
      "metadata": {
        "id": "LmlabSoidEKz",
        "colab": {
          "base_uri": "https://localhost:8080/",
          "height": 428
        },
        "outputId": "aff40d3c-9731-4dc4-ead0-9a4e06a213e0"
      },
      "source": [
        "data.boxplot(column=['duration'],figsize=(7,7))\n",
        "plt.show()"
      ],
      "execution_count": null,
      "outputs": [
        {
          "output_type": "display_data",
          "data": {
            "image/png": "[encoded data removed]",
            "text/plain": [
              "<Figure size 504x504 with 1 Axes>"
            ]
          },
          "metadata": {
            "tags": [],
            "needs_background": "light"
          }
        }
      ]
    },
    {
      "cell_type": "code",
      "metadata": {
        "id": "p3YgcKhrOdbN",
        "colab": {
          "base_uri": "https://localhost:8080/",
          "height": 428
        },
        "outputId": "37afcffe-1240-4b57-8199-7bd989152025"
      },
      "source": [
        "data.boxplot(column=['campaign'],figsize=(7,7))\n",
        "plt.show()"
      ],
      "execution_count": null,
      "outputs": [
        {
          "output_type": "display_data",
          "data": {
            "image/png": "[encoded data removed]",
            "text/plain": [
              "<Figure size 504x504 with 1 Axes>"
            ]
          },
          "metadata": {
            "tags": [],
            "needs_background": "light"
          }
        }
      ]
    },
    {
      "cell_type": "markdown",
      "metadata": {
        "id": "zCLjObWQRtB4"
      },
      "source": [
        "- Datamızın numeric degerlere sahip sütunlarının arasındaki korelasyonlarına bakacağız"
      ]
    },
    {
      "cell_type": "code",
      "metadata": {
        "id": "gL_KE5539wYk",
        "colab": {
          "base_uri": "https://localhost:8080/",
          "height": 432
        },
        "outputId": "04839ed6-d0f8-4609-a2cf-906206a49e90"
      },
      "source": [
        "plt.figure(figsize=(7,7))\n",
        "sns.heatmap(data.corr(),annot=True,cmap='Blues')\n",
        "plt.show()"
      ],
      "execution_count": null,
      "outputs": [
        {
          "output_type": "display_data",
          "data": {
            "image/png": "[encoded data removed]",
            "text/plain": [
              "<Figure size 504x504 with 2 Axes>"
            ]
          },
          "metadata": {
            "tags": [],
            "needs_background": "light"
          }
        }
      ]
    },
    {
      "cell_type": "markdown",
      "metadata": {
        "id": "fCphUuMDR3eC"
      },
      "source": [
        "- Yukarıda görmüş olduğumuz ısı haritasında balance ve age ,campaign ve balance, campaign ve duration aralarında yüksek korelasyona sahiptir"
      ]
    },
    {
      "cell_type": "code",
      "metadata": {
        "id": "DiBDlAiZ-Bcx",
        "colab": {
          "base_uri": "https://localhost:8080/",
          "height": 462
        },
        "outputId": "7f9e90b0-71be-46d2-99d8-ad2811d96a37"
      },
      "source": [
        "pd.plotting.scatter_matrix(data,alpha=0.4,diagonal='kde',figsize=(7,7))\n",
        "plt.show()"
      ],
      "execution_count": null,
      "outputs": [
        {
          "output_type": "display_data",
          "data": {
            "image/png": "[encoded data removed]",
            "text/plain": [
              "<Figure size 504x504 with 16 Axes>"
            ]
          },
          "metadata": {
            "tags": [],
            "needs_background": "light"
          }
        }
      ]
    },
    {
      "cell_type": "markdown",
      "metadata": {
        "id": "NACpIl9W3qTT"
      },
      "source": [
        "#Kategorik Verilerin,Numeric Veriye Dönüşümü"
      ]
    },
    {
      "cell_type": "markdown",
      "metadata": {
        "id": "z_dQ2AxdS2SX"
      },
      "source": [
        "- Datamızın kategorik verilerini numeric hale getiriyoruz\n",
        "- One Hot Encoder yapıyoruz"
      ]
    },
    {
      "cell_type": "code",
      "metadata": {
        "id": "q_xZQ1ouy-IY"
      },
      "source": [
        "data = pd.get_dummies(data,columns=['marital','housing','loan','job','education','contact','campaign'],\n",
        "                      prefix=['marital','housing','loan','job','education','contact','campaign'])"
      ],
      "execution_count": null,
      "outputs": []
    },
    {
      "cell_type": "markdown",
      "metadata": {
        "id": "vZN2fKYaWAE1"
      },
      "source": [
        "- Aşağıda gördüğünüz gibi kategorik verilerimizin one hot encoder yapılmış hali"
      ]
    },
    {
      "cell_type": "code",
      "metadata": {
        "id": "zf6PYa1Gzrid",
        "colab": {
          "base_uri": "https://localhost:8080/",
          "height": 438
        },
        "outputId": "9fc487d5-33fd-4611-8116-9d24b0f6ff44"
      },
      "source": [
        "data"
      ],
      "execution_count": null,
      "outputs": [
        {
          "output_type": "execute_result",
          "data": {
            "text/html": [
              "<div>\n",
              "<style scoped>\n",
              "    .dataframe tbody tr th:only-of-type {\n",
              "        vertical-align: middle;\n",
              "    }\n",
              "\n",
              "    .dataframe tbody tr th {\n",
              "        vertical-align: top;\n",
              "    }\n",
              "\n",
              "    .dataframe thead th {\n",
              "        text-align: right;\n",
              "    }\n",
              "</style>\n",
              "<table border=\"1\" class=\"dataframe\">\n",
              "  <thead>\n",
              "    <tr style=\"text-align: right;\">\n",
              "      <th></th>\n",
              "      <th>age</th>\n",
              "      <th>balance</th>\n",
              "      <th>duration</th>\n",
              "      <th>y</th>\n",
              "      <th>marital_divorced</th>\n",
              "      <th>marital_married</th>\n",
              "      <th>marital_single</th>\n",
              "      <th>housing_no</th>\n",
              "      <th>housing_yes</th>\n",
              "      <th>loan_no</th>\n",
              "      <th>loan_yes</th>\n",
              "      <th>job_admin</th>\n",
              "      <th>job_blue-collar</th>\n",
              "      <th>job_entrepreneur</th>\n",
              "      <th>job_housemaid</th>\n",
              "      <th>job_management</th>\n",
              "      <th>job_retired</th>\n",
              "      <th>job_self-employed</th>\n",
              "      <th>job_services</th>\n",
              "      <th>job_student</th>\n",
              "      <th>job_technician</th>\n",
              "      <th>job_unemployed</th>\n",
              "      <th>education_primary</th>\n",
              "      <th>education_secondary</th>\n",
              "      <th>education_tertiary</th>\n",
              "      <th>contact_cellular</th>\n",
              "      <th>contact_telephone</th>\n",
              "      <th>campaign_1</th>\n",
              "      <th>campaign_2</th>\n",
              "      <th>campaign_3</th>\n",
              "      <th>campaign_4</th>\n",
              "      <th>campaign_5</th>\n",
              "      <th>campaign_6</th>\n",
              "      <th>campaign_7</th>\n",
              "      <th>campaign_8</th>\n",
              "      <th>campaign_9</th>\n",
              "      <th>campaign_10</th>\n",
              "      <th>campaign_11</th>\n",
              "      <th>campaign_12</th>\n",
              "      <th>campaign_13</th>\n",
              "      <th>campaign_14</th>\n",
              "      <th>campaign_15</th>\n",
              "      <th>campaign_16</th>\n",
              "      <th>campaign_17</th>\n",
              "      <th>campaign_18</th>\n",
              "      <th>campaign_19</th>\n",
              "      <th>campaign_20</th>\n",
              "      <th>campaign_21</th>\n",
              "      <th>campaign_22</th>\n",
              "      <th>campaign_23</th>\n",
              "      <th>campaign_24</th>\n",
              "      <th>campaign_25</th>\n",
              "      <th>campaign_26</th>\n",
              "      <th>campaign_27</th>\n",
              "      <th>campaign_28</th>\n",
              "      <th>campaign_29</th>\n",
              "      <th>campaign_30</th>\n",
              "      <th>campaign_31</th>\n",
              "      <th>campaign_32</th>\n",
              "      <th>campaign_33</th>\n",
              "      <th>campaign_34</th>\n",
              "      <th>campaign_35</th>\n",
              "      <th>campaign_36</th>\n",
              "      <th>campaign_37</th>\n",
              "      <th>campaign_38</th>\n",
              "      <th>campaign_39</th>\n",
              "      <th>campaign_41</th>\n",
              "      <th>campaign_43</th>\n",
              "      <th>campaign_44</th>\n",
              "      <th>campaign_46</th>\n",
              "      <th>campaign_50</th>\n",
              "      <th>campaign_51</th>\n",
              "      <th>campaign_55</th>\n",
              "      <th>campaign_58</th>\n",
              "      <th>campaign_63</th>\n",
              "    </tr>\n",
              "  </thead>\n",
              "  <tbody>\n",
              "    <tr>\n",
              "      <th>0</th>\n",
              "      <td>58</td>\n",
              "      <td>2143</td>\n",
              "      <td>261</td>\n",
              "      <td>no</td>\n",
              "      <td>0</td>\n",
              "      <td>1</td>\n",
              "      <td>0</td>\n",
              "      <td>0</td>\n",
              "      <td>1</td>\n",
              "      <td>1</td>\n",
              "      <td>0</td>\n",
              "      <td>0</td>\n",
              "      <td>0</td>\n",
              "      <td>0</td>\n",
              "      <td>0</td>\n",
              "      <td>1</td>\n",
              "      <td>0</td>\n",
              "      <td>0</td>\n",
              "      <td>0</td>\n",
              "      <td>0</td>\n",
              "      <td>0</td>\n",
              "      <td>0</td>\n",
              "      <td>0</td>\n",
              "      <td>0</td>\n",
              "      <td>1</td>\n",
              "      <td>1</td>\n",
              "      <td>0</td>\n",
              "      <td>1</td>\n",
              "      <td>0</td>\n",
              "      <td>0</td>\n",
              "      <td>0</td>\n",
              "      <td>0</td>\n",
              "      <td>0</td>\n",
              "      <td>0</td>\n",
              "      <td>0</td>\n",
              "      <td>0</td>\n",
              "      <td>0</td>\n",
              "      <td>0</td>\n",
              "      <td>0</td>\n",
              "      <td>0</td>\n",
              "      <td>0</td>\n",
              "      <td>0</td>\n",
              "      <td>0</td>\n",
              "      <td>0</td>\n",
              "      <td>0</td>\n",
              "      <td>0</td>\n",
              "      <td>0</td>\n",
              "      <td>0</td>\n",
              "      <td>0</td>\n",
              "      <td>0</td>\n",
              "      <td>0</td>\n",
              "      <td>0</td>\n",
              "      <td>0</td>\n",
              "      <td>0</td>\n",
              "      <td>0</td>\n",
              "      <td>0</td>\n",
              "      <td>0</td>\n",
              "      <td>0</td>\n",
              "      <td>0</td>\n",
              "      <td>0</td>\n",
              "      <td>0</td>\n",
              "      <td>0</td>\n",
              "      <td>0</td>\n",
              "      <td>0</td>\n",
              "      <td>0</td>\n",
              "      <td>0</td>\n",
              "      <td>0</td>\n",
              "      <td>0</td>\n",
              "      <td>0</td>\n",
              "      <td>0</td>\n",
              "      <td>0</td>\n",
              "      <td>0</td>\n",
              "      <td>0</td>\n",
              "      <td>0</td>\n",
              "      <td>0</td>\n",
              "    </tr>\n",
              "    <tr>\n",
              "      <th>1</th>\n",
              "      <td>44</td>\n",
              "      <td>29</td>\n",
              "      <td>151</td>\n",
              "      <td>no</td>\n",
              "      <td>0</td>\n",
              "      <td>0</td>\n",
              "      <td>1</td>\n",
              "      <td>0</td>\n",
              "      <td>1</td>\n",
              "      <td>1</td>\n",
              "      <td>0</td>\n",
              "      <td>0</td>\n",
              "      <td>0</td>\n",
              "      <td>0</td>\n",
              "      <td>0</td>\n",
              "      <td>0</td>\n",
              "      <td>0</td>\n",
              "      <td>0</td>\n",
              "      <td>0</td>\n",
              "      <td>0</td>\n",
              "      <td>1</td>\n",
              "      <td>0</td>\n",
              "      <td>0</td>\n",
              "      <td>1</td>\n",
              "      <td>0</td>\n",
              "      <td>1</td>\n",
              "      <td>0</td>\n",
              "      <td>1</td>\n",
              "      <td>0</td>\n",
              "      <td>0</td>\n",
              "      <td>0</td>\n",
              "      <td>0</td>\n",
              "      <td>0</td>\n",
              "      <td>0</td>\n",
              "      <td>0</td>\n",
              "      <td>0</td>\n",
              "      <td>0</td>\n",
              "      <td>0</td>\n",
              "      <td>0</td>\n",
              "      <td>0</td>\n",
              "      <td>0</td>\n",
              "      <td>0</td>\n",
              "      <td>0</td>\n",
              "      <td>0</td>\n",
              "      <td>0</td>\n",
              "      <td>0</td>\n",
              "      <td>0</td>\n",
              "      <td>0</td>\n",
              "      <td>0</td>\n",
              "      <td>0</td>\n",
              "      <td>0</td>\n",
              "      <td>0</td>\n",
              "      <td>0</td>\n",
              "      <td>0</td>\n",
              "      <td>0</td>\n",
              "      <td>0</td>\n",
              "      <td>0</td>\n",
              "      <td>0</td>\n",
              "      <td>0</td>\n",
              "      <td>0</td>\n",
              "      <td>0</td>\n",
              "      <td>0</td>\n",
              "      <td>0</td>\n",
              "      <td>0</td>\n",
              "      <td>0</td>\n",
              "      <td>0</td>\n",
              "      <td>0</td>\n",
              "      <td>0</td>\n",
              "      <td>0</td>\n",
              "      <td>0</td>\n",
              "      <td>0</td>\n",
              "      <td>0</td>\n",
              "      <td>0</td>\n",
              "      <td>0</td>\n",
              "      <td>0</td>\n",
              "    </tr>\n",
              "    <tr>\n",
              "      <th>2</th>\n",
              "      <td>33</td>\n",
              "      <td>2</td>\n",
              "      <td>76</td>\n",
              "      <td>no</td>\n",
              "      <td>0</td>\n",
              "      <td>1</td>\n",
              "      <td>0</td>\n",
              "      <td>0</td>\n",
              "      <td>1</td>\n",
              "      <td>0</td>\n",
              "      <td>1</td>\n",
              "      <td>0</td>\n",
              "      <td>0</td>\n",
              "      <td>1</td>\n",
              "      <td>0</td>\n",
              "      <td>0</td>\n",
              "      <td>0</td>\n",
              "      <td>0</td>\n",
              "      <td>0</td>\n",
              "      <td>0</td>\n",
              "      <td>0</td>\n",
              "      <td>0</td>\n",
              "      <td>0</td>\n",
              "      <td>1</td>\n",
              "      <td>0</td>\n",
              "      <td>1</td>\n",
              "      <td>0</td>\n",
              "      <td>1</td>\n",
              "      <td>0</td>\n",
              "      <td>0</td>\n",
              "      <td>0</td>\n",
              "      <td>0</td>\n",
              "      <td>0</td>\n",
              "      <td>0</td>\n",
              "      <td>0</td>\n",
              "      <td>0</td>\n",
              "      <td>0</td>\n",
              "      <td>0</td>\n",
              "      <td>0</td>\n",
              "      <td>0</td>\n",
              "      <td>0</td>\n",
              "      <td>0</td>\n",
              "      <td>0</td>\n",
              "      <td>0</td>\n",
              "      <td>0</td>\n",
              "      <td>0</td>\n",
              "      <td>0</td>\n",
              "      <td>0</td>\n",
              "      <td>0</td>\n",
              "      <td>0</td>\n",
              "      <td>0</td>\n",
              "      <td>0</td>\n",
              "      <td>0</td>\n",
              "      <td>0</td>\n",
              "      <td>0</td>\n",
              "      <td>0</td>\n",
              "      <td>0</td>\n",
              "      <td>0</td>\n",
              "      <td>0</td>\n",
              "      <td>0</td>\n",
              "      <td>0</td>\n",
              "      <td>0</td>\n",
              "      <td>0</td>\n",
              "      <td>0</td>\n",
              "      <td>0</td>\n",
              "      <td>0</td>\n",
              "      <td>0</td>\n",
              "      <td>0</td>\n",
              "      <td>0</td>\n",
              "      <td>0</td>\n",
              "      <td>0</td>\n",
              "      <td>0</td>\n",
              "      <td>0</td>\n",
              "      <td>0</td>\n",
              "      <td>0</td>\n",
              "    </tr>\n",
              "    <tr>\n",
              "      <th>3</th>\n",
              "      <td>47</td>\n",
              "      <td>1506</td>\n",
              "      <td>92</td>\n",
              "      <td>no</td>\n",
              "      <td>0</td>\n",
              "      <td>1</td>\n",
              "      <td>0</td>\n",
              "      <td>0</td>\n",
              "      <td>1</td>\n",
              "      <td>1</td>\n",
              "      <td>0</td>\n",
              "      <td>0</td>\n",
              "      <td>1</td>\n",
              "      <td>0</td>\n",
              "      <td>0</td>\n",
              "      <td>0</td>\n",
              "      <td>0</td>\n",
              "      <td>0</td>\n",
              "      <td>0</td>\n",
              "      <td>0</td>\n",
              "      <td>0</td>\n",
              "      <td>0</td>\n",
              "      <td>0</td>\n",
              "      <td>1</td>\n",
              "      <td>0</td>\n",
              "      <td>1</td>\n",
              "      <td>0</td>\n",
              "      <td>1</td>\n",
              "      <td>0</td>\n",
              "      <td>0</td>\n",
              "      <td>0</td>\n",
              "      <td>0</td>\n",
              "      <td>0</td>\n",
              "      <td>0</td>\n",
              "      <td>0</td>\n",
              "      <td>0</td>\n",
              "      <td>0</td>\n",
              "      <td>0</td>\n",
              "      <td>0</td>\n",
              "      <td>0</td>\n",
              "      <td>0</td>\n",
              "      <td>0</td>\n",
              "      <td>0</td>\n",
              "      <td>0</td>\n",
              "      <td>0</td>\n",
              "      <td>0</td>\n",
              "      <td>0</td>\n",
              "      <td>0</td>\n",
              "      <td>0</td>\n",
              "      <td>0</td>\n",
              "      <td>0</td>\n",
              "      <td>0</td>\n",
              "      <td>0</td>\n",
              "      <td>0</td>\n",
              "      <td>0</td>\n",
              "      <td>0</td>\n",
              "      <td>0</td>\n",
              "      <td>0</td>\n",
              "      <td>0</td>\n",
              "      <td>0</td>\n",
              "      <td>0</td>\n",
              "      <td>0</td>\n",
              "      <td>0</td>\n",
              "      <td>0</td>\n",
              "      <td>0</td>\n",
              "      <td>0</td>\n",
              "      <td>0</td>\n",
              "      <td>0</td>\n",
              "      <td>0</td>\n",
              "      <td>0</td>\n",
              "      <td>0</td>\n",
              "      <td>0</td>\n",
              "      <td>0</td>\n",
              "      <td>0</td>\n",
              "      <td>0</td>\n",
              "    </tr>\n",
              "    <tr>\n",
              "      <th>4</th>\n",
              "      <td>33</td>\n",
              "      <td>1</td>\n",
              "      <td>198</td>\n",
              "      <td>no</td>\n",
              "      <td>0</td>\n",
              "      <td>0</td>\n",
              "      <td>1</td>\n",
              "      <td>1</td>\n",
              "      <td>0</td>\n",
              "      <td>1</td>\n",
              "      <td>0</td>\n",
              "      <td>0</td>\n",
              "      <td>1</td>\n",
              "      <td>0</td>\n",
              "      <td>0</td>\n",
              "      <td>0</td>\n",
              "      <td>0</td>\n",
              "      <td>0</td>\n",
              "      <td>0</td>\n",
              "      <td>0</td>\n",
              "      <td>0</td>\n",
              "      <td>0</td>\n",
              "      <td>0</td>\n",
              "      <td>1</td>\n",
              "      <td>0</td>\n",
              "      <td>1</td>\n",
              "      <td>0</td>\n",
              "      <td>1</td>\n",
              "      <td>0</td>\n",
              "      <td>0</td>\n",
              "      <td>0</td>\n",
              "      <td>0</td>\n",
              "      <td>0</td>\n",
              "      <td>0</td>\n",
              "      <td>0</td>\n",
              "      <td>0</td>\n",
              "      <td>0</td>\n",
              "      <td>0</td>\n",
              "      <td>0</td>\n",
              "      <td>0</td>\n",
              "      <td>0</td>\n",
              "      <td>0</td>\n",
              "      <td>0</td>\n",
              "      <td>0</td>\n",
              "      <td>0</td>\n",
              "      <td>0</td>\n",
              "      <td>0</td>\n",
              "      <td>0</td>\n",
              "      <td>0</td>\n",
              "      <td>0</td>\n",
              "      <td>0</td>\n",
              "      <td>0</td>\n",
              "      <td>0</td>\n",
              "      <td>0</td>\n",
              "      <td>0</td>\n",
              "      <td>0</td>\n",
              "      <td>0</td>\n",
              "      <td>0</td>\n",
              "      <td>0</td>\n",
              "      <td>0</td>\n",
              "      <td>0</td>\n",
              "      <td>0</td>\n",
              "      <td>0</td>\n",
              "      <td>0</td>\n",
              "      <td>0</td>\n",
              "      <td>0</td>\n",
              "      <td>0</td>\n",
              "      <td>0</td>\n",
              "      <td>0</td>\n",
              "      <td>0</td>\n",
              "      <td>0</td>\n",
              "      <td>0</td>\n",
              "      <td>0</td>\n",
              "      <td>0</td>\n",
              "      <td>0</td>\n",
              "    </tr>\n",
              "    <tr>\n",
              "      <th>...</th>\n",
              "      <td>...</td>\n",
              "      <td>...</td>\n",
              "      <td>...</td>\n",
              "      <td>...</td>\n",
              "      <td>...</td>\n",
              "      <td>...</td>\n",
              "      <td>...</td>\n",
              "      <td>...</td>\n",
              "      <td>...</td>\n",
              "      <td>...</td>\n",
              "      <td>...</td>\n",
              "      <td>...</td>\n",
              "      <td>...</td>\n",
              "      <td>...</td>\n",
              "      <td>...</td>\n",
              "      <td>...</td>\n",
              "      <td>...</td>\n",
              "      <td>...</td>\n",
              "      <td>...</td>\n",
              "      <td>...</td>\n",
              "      <td>...</td>\n",
              "      <td>...</td>\n",
              "      <td>...</td>\n",
              "      <td>...</td>\n",
              "      <td>...</td>\n",
              "      <td>...</td>\n",
              "      <td>...</td>\n",
              "      <td>...</td>\n",
              "      <td>...</td>\n",
              "      <td>...</td>\n",
              "      <td>...</td>\n",
              "      <td>...</td>\n",
              "      <td>...</td>\n",
              "      <td>...</td>\n",
              "      <td>...</td>\n",
              "      <td>...</td>\n",
              "      <td>...</td>\n",
              "      <td>...</td>\n",
              "      <td>...</td>\n",
              "      <td>...</td>\n",
              "      <td>...</td>\n",
              "      <td>...</td>\n",
              "      <td>...</td>\n",
              "      <td>...</td>\n",
              "      <td>...</td>\n",
              "      <td>...</td>\n",
              "      <td>...</td>\n",
              "      <td>...</td>\n",
              "      <td>...</td>\n",
              "      <td>...</td>\n",
              "      <td>...</td>\n",
              "      <td>...</td>\n",
              "      <td>...</td>\n",
              "      <td>...</td>\n",
              "      <td>...</td>\n",
              "      <td>...</td>\n",
              "      <td>...</td>\n",
              "      <td>...</td>\n",
              "      <td>...</td>\n",
              "      <td>...</td>\n",
              "      <td>...</td>\n",
              "      <td>...</td>\n",
              "      <td>...</td>\n",
              "      <td>...</td>\n",
              "      <td>...</td>\n",
              "      <td>...</td>\n",
              "      <td>...</td>\n",
              "      <td>...</td>\n",
              "      <td>...</td>\n",
              "      <td>...</td>\n",
              "      <td>...</td>\n",
              "      <td>...</td>\n",
              "      <td>...</td>\n",
              "      <td>...</td>\n",
              "      <td>...</td>\n",
              "    </tr>\n",
              "    <tr>\n",
              "      <th>39995</th>\n",
              "      <td>53</td>\n",
              "      <td>395</td>\n",
              "      <td>107</td>\n",
              "      <td>no</td>\n",
              "      <td>0</td>\n",
              "      <td>1</td>\n",
              "      <td>0</td>\n",
              "      <td>1</td>\n",
              "      <td>0</td>\n",
              "      <td>1</td>\n",
              "      <td>0</td>\n",
              "      <td>0</td>\n",
              "      <td>0</td>\n",
              "      <td>0</td>\n",
              "      <td>0</td>\n",
              "      <td>0</td>\n",
              "      <td>0</td>\n",
              "      <td>0</td>\n",
              "      <td>0</td>\n",
              "      <td>0</td>\n",
              "      <td>1</td>\n",
              "      <td>0</td>\n",
              "      <td>0</td>\n",
              "      <td>0</td>\n",
              "      <td>1</td>\n",
              "      <td>1</td>\n",
              "      <td>0</td>\n",
              "      <td>1</td>\n",
              "      <td>0</td>\n",
              "      <td>0</td>\n",
              "      <td>0</td>\n",
              "      <td>0</td>\n",
              "      <td>0</td>\n",
              "      <td>0</td>\n",
              "      <td>0</td>\n",
              "      <td>0</td>\n",
              "      <td>0</td>\n",
              "      <td>0</td>\n",
              "      <td>0</td>\n",
              "      <td>0</td>\n",
              "      <td>0</td>\n",
              "      <td>0</td>\n",
              "      <td>0</td>\n",
              "      <td>0</td>\n",
              "      <td>0</td>\n",
              "      <td>0</td>\n",
              "      <td>0</td>\n",
              "      <td>0</td>\n",
              "      <td>0</td>\n",
              "      <td>0</td>\n",
              "      <td>0</td>\n",
              "      <td>0</td>\n",
              "      <td>0</td>\n",
              "      <td>0</td>\n",
              "      <td>0</td>\n",
              "      <td>0</td>\n",
              "      <td>0</td>\n",
              "      <td>0</td>\n",
              "      <td>0</td>\n",
              "      <td>0</td>\n",
              "      <td>0</td>\n",
              "      <td>0</td>\n",
              "      <td>0</td>\n",
              "      <td>0</td>\n",
              "      <td>0</td>\n",
              "      <td>0</td>\n",
              "      <td>0</td>\n",
              "      <td>0</td>\n",
              "      <td>0</td>\n",
              "      <td>0</td>\n",
              "      <td>0</td>\n",
              "      <td>0</td>\n",
              "      <td>0</td>\n",
              "      <td>0</td>\n",
              "      <td>0</td>\n",
              "    </tr>\n",
              "    <tr>\n",
              "      <th>39996</th>\n",
              "      <td>30</td>\n",
              "      <td>3340</td>\n",
              "      <td>238</td>\n",
              "      <td>yes</td>\n",
              "      <td>0</td>\n",
              "      <td>0</td>\n",
              "      <td>1</td>\n",
              "      <td>1</td>\n",
              "      <td>0</td>\n",
              "      <td>1</td>\n",
              "      <td>0</td>\n",
              "      <td>0</td>\n",
              "      <td>0</td>\n",
              "      <td>0</td>\n",
              "      <td>0</td>\n",
              "      <td>1</td>\n",
              "      <td>0</td>\n",
              "      <td>0</td>\n",
              "      <td>0</td>\n",
              "      <td>0</td>\n",
              "      <td>0</td>\n",
              "      <td>0</td>\n",
              "      <td>0</td>\n",
              "      <td>0</td>\n",
              "      <td>1</td>\n",
              "      <td>1</td>\n",
              "      <td>0</td>\n",
              "      <td>0</td>\n",
              "      <td>0</td>\n",
              "      <td>1</td>\n",
              "      <td>0</td>\n",
              "      <td>0</td>\n",
              "      <td>0</td>\n",
              "      <td>0</td>\n",
              "      <td>0</td>\n",
              "      <td>0</td>\n",
              "      <td>0</td>\n",
              "      <td>0</td>\n",
              "      <td>0</td>\n",
              "      <td>0</td>\n",
              "      <td>0</td>\n",
              "      <td>0</td>\n",
              "      <td>0</td>\n",
              "      <td>0</td>\n",
              "      <td>0</td>\n",
              "      <td>0</td>\n",
              "      <td>0</td>\n",
              "      <td>0</td>\n",
              "      <td>0</td>\n",
              "      <td>0</td>\n",
              "      <td>0</td>\n",
              "      <td>0</td>\n",
              "      <td>0</td>\n",
              "      <td>0</td>\n",
              "      <td>0</td>\n",
              "      <td>0</td>\n",
              "      <td>0</td>\n",
              "      <td>0</td>\n",
              "      <td>0</td>\n",
              "      <td>0</td>\n",
              "      <td>0</td>\n",
              "      <td>0</td>\n",
              "      <td>0</td>\n",
              "      <td>0</td>\n",
              "      <td>0</td>\n",
              "      <td>0</td>\n",
              "      <td>0</td>\n",
              "      <td>0</td>\n",
              "      <td>0</td>\n",
              "      <td>0</td>\n",
              "      <td>0</td>\n",
              "      <td>0</td>\n",
              "      <td>0</td>\n",
              "      <td>0</td>\n",
              "      <td>0</td>\n",
              "    </tr>\n",
              "    <tr>\n",
              "      <th>39997</th>\n",
              "      <td>54</td>\n",
              "      <td>200</td>\n",
              "      <td>170</td>\n",
              "      <td>yes</td>\n",
              "      <td>1</td>\n",
              "      <td>0</td>\n",
              "      <td>0</td>\n",
              "      <td>1</td>\n",
              "      <td>0</td>\n",
              "      <td>1</td>\n",
              "      <td>0</td>\n",
              "      <td>1</td>\n",
              "      <td>0</td>\n",
              "      <td>0</td>\n",
              "      <td>0</td>\n",
              "      <td>0</td>\n",
              "      <td>0</td>\n",
              "      <td>0</td>\n",
              "      <td>0</td>\n",
              "      <td>0</td>\n",
              "      <td>0</td>\n",
              "      <td>0</td>\n",
              "      <td>0</td>\n",
              "      <td>1</td>\n",
              "      <td>0</td>\n",
              "      <td>1</td>\n",
              "      <td>0</td>\n",
              "      <td>1</td>\n",
              "      <td>0</td>\n",
              "      <td>0</td>\n",
              "      <td>0</td>\n",
              "      <td>0</td>\n",
              "      <td>0</td>\n",
              "      <td>0</td>\n",
              "      <td>0</td>\n",
              "      <td>0</td>\n",
              "      <td>0</td>\n",
              "      <td>0</td>\n",
              "      <td>0</td>\n",
              "      <td>0</td>\n",
              "      <td>0</td>\n",
              "      <td>0</td>\n",
              "      <td>0</td>\n",
              "      <td>0</td>\n",
              "      <td>0</td>\n",
              "      <td>0</td>\n",
              "      <td>0</td>\n",
              "      <td>0</td>\n",
              "      <td>0</td>\n",
              "      <td>0</td>\n",
              "      <td>0</td>\n",
              "      <td>0</td>\n",
              "      <td>0</td>\n",
              "      <td>0</td>\n",
              "      <td>0</td>\n",
              "      <td>0</td>\n",
              "      <td>0</td>\n",
              "      <td>0</td>\n",
              "      <td>0</td>\n",
              "      <td>0</td>\n",
              "      <td>0</td>\n",
              "      <td>0</td>\n",
              "      <td>0</td>\n",
              "      <td>0</td>\n",
              "      <td>0</td>\n",
              "      <td>0</td>\n",
              "      <td>0</td>\n",
              "      <td>0</td>\n",
              "      <td>0</td>\n",
              "      <td>0</td>\n",
              "      <td>0</td>\n",
              "      <td>0</td>\n",
              "      <td>0</td>\n",
              "      <td>0</td>\n",
              "      <td>0</td>\n",
              "    </tr>\n",
              "    <tr>\n",
              "      <th>39998</th>\n",
              "      <td>34</td>\n",
              "      <td>1047</td>\n",
              "      <td>342</td>\n",
              "      <td>no</td>\n",
              "      <td>0</td>\n",
              "      <td>1</td>\n",
              "      <td>0</td>\n",
              "      <td>1</td>\n",
              "      <td>0</td>\n",
              "      <td>1</td>\n",
              "      <td>0</td>\n",
              "      <td>0</td>\n",
              "      <td>0</td>\n",
              "      <td>0</td>\n",
              "      <td>0</td>\n",
              "      <td>1</td>\n",
              "      <td>0</td>\n",
              "      <td>0</td>\n",
              "      <td>0</td>\n",
              "      <td>0</td>\n",
              "      <td>0</td>\n",
              "      <td>0</td>\n",
              "      <td>0</td>\n",
              "      <td>0</td>\n",
              "      <td>1</td>\n",
              "      <td>1</td>\n",
              "      <td>0</td>\n",
              "      <td>1</td>\n",
              "      <td>0</td>\n",
              "      <td>0</td>\n",
              "      <td>0</td>\n",
              "      <td>0</td>\n",
              "      <td>0</td>\n",
              "      <td>0</td>\n",
              "      <td>0</td>\n",
              "      <td>0</td>\n",
              "      <td>0</td>\n",
              "      <td>0</td>\n",
              "      <td>0</td>\n",
              "      <td>0</td>\n",
              "      <td>0</td>\n",
              "      <td>0</td>\n",
              "      <td>0</td>\n",
              "      <td>0</td>\n",
              "      <td>0</td>\n",
              "      <td>0</td>\n",
              "      <td>0</td>\n",
              "      <td>0</td>\n",
              "      <td>0</td>\n",
              "      <td>0</td>\n",
              "      <td>0</td>\n",
              "      <td>0</td>\n",
              "      <td>0</td>\n",
              "      <td>0</td>\n",
              "      <td>0</td>\n",
              "      <td>0</td>\n",
              "      <td>0</td>\n",
              "      <td>0</td>\n",
              "      <td>0</td>\n",
              "      <td>0</td>\n",
              "      <td>0</td>\n",
              "      <td>0</td>\n",
              "      <td>0</td>\n",
              "      <td>0</td>\n",
              "      <td>0</td>\n",
              "      <td>0</td>\n",
              "      <td>0</td>\n",
              "      <td>0</td>\n",
              "      <td>0</td>\n",
              "      <td>0</td>\n",
              "      <td>0</td>\n",
              "      <td>0</td>\n",
              "      <td>0</td>\n",
              "      <td>0</td>\n",
              "      <td>0</td>\n",
              "    </tr>\n",
              "    <tr>\n",
              "      <th>39999</th>\n",
              "      <td>38</td>\n",
              "      <td>1442</td>\n",
              "      <td>113</td>\n",
              "      <td>no</td>\n",
              "      <td>0</td>\n",
              "      <td>1</td>\n",
              "      <td>0</td>\n",
              "      <td>0</td>\n",
              "      <td>1</td>\n",
              "      <td>1</td>\n",
              "      <td>0</td>\n",
              "      <td>0</td>\n",
              "      <td>0</td>\n",
              "      <td>0</td>\n",
              "      <td>0</td>\n",
              "      <td>0</td>\n",
              "      <td>0</td>\n",
              "      <td>0</td>\n",
              "      <td>0</td>\n",
              "      <td>0</td>\n",
              "      <td>1</td>\n",
              "      <td>0</td>\n",
              "      <td>0</td>\n",
              "      <td>1</td>\n",
              "      <td>0</td>\n",
              "      <td>1</td>\n",
              "      <td>0</td>\n",
              "      <td>1</td>\n",
              "      <td>0</td>\n",
              "      <td>0</td>\n",
              "      <td>0</td>\n",
              "      <td>0</td>\n",
              "      <td>0</td>\n",
              "      <td>0</td>\n",
              "      <td>0</td>\n",
              "      <td>0</td>\n",
              "      <td>0</td>\n",
              "      <td>0</td>\n",
              "      <td>0</td>\n",
              "      <td>0</td>\n",
              "      <td>0</td>\n",
              "      <td>0</td>\n",
              "      <td>0</td>\n",
              "      <td>0</td>\n",
              "      <td>0</td>\n",
              "      <td>0</td>\n",
              "      <td>0</td>\n",
              "      <td>0</td>\n",
              "      <td>0</td>\n",
              "      <td>0</td>\n",
              "      <td>0</td>\n",
              "      <td>0</td>\n",
              "      <td>0</td>\n",
              "      <td>0</td>\n",
              "      <td>0</td>\n",
              "      <td>0</td>\n",
              "      <td>0</td>\n",
              "      <td>0</td>\n",
              "      <td>0</td>\n",
              "      <td>0</td>\n",
              "      <td>0</td>\n",
              "      <td>0</td>\n",
              "      <td>0</td>\n",
              "      <td>0</td>\n",
              "      <td>0</td>\n",
              "      <td>0</td>\n",
              "      <td>0</td>\n",
              "      <td>0</td>\n",
              "      <td>0</td>\n",
              "      <td>0</td>\n",
              "      <td>0</td>\n",
              "      <td>0</td>\n",
              "      <td>0</td>\n",
              "      <td>0</td>\n",
              "      <td>0</td>\n",
              "    </tr>\n",
              "  </tbody>\n",
              "</table>\n",
              "<p>40000 rows × 75 columns</p>\n",
              "</div>"
            ],
            "text/plain": [
              "       age  balance  duration  ... campaign_55  campaign_58  campaign_63\n",
              "0       58     2143       261  ...           0            0            0\n",
              "1       44       29       151  ...           0            0            0\n",
              "2       33        2        76  ...           0            0            0\n",
              "3       47     1506        92  ...           0            0            0\n",
              "4       33        1       198  ...           0            0            0\n",
              "...    ...      ...       ...  ...         ...          ...          ...\n",
              "39995   53      395       107  ...           0            0            0\n",
              "39996   30     3340       238  ...           0            0            0\n",
              "39997   54      200       170  ...           0            0            0\n",
              "39998   34     1047       342  ...           0            0            0\n",
              "39999   38     1442       113  ...           0            0            0\n",
              "\n",
              "[40000 rows x 75 columns]"
            ]
          },
          "metadata": {
            "tags": []
          },
          "execution_count": 51
        }
      ]
    },
    {
      "cell_type": "markdown",
      "metadata": {
        "id": "Z4oaSpMUWJCa"
      },
      "source": [
        "- One Hot Encoder yapılmıs şeklinde yeni datamızın boyutu"
      ]
    },
    {
      "cell_type": "code",
      "metadata": {
        "id": "X-_Hs-WA0ZOw",
        "colab": {
          "base_uri": "https://localhost:8080/"
        },
        "outputId": "5393b5e5-99a4-4df3-d0a2-9c06954b31cc"
      },
      "source": [
        "data.shape"
      ],
      "execution_count": null,
      "outputs": [
        {
          "output_type": "execute_result",
          "data": {
            "text/plain": [
              "(40000, 75)"
            ]
          },
          "metadata": {
            "tags": []
          },
          "execution_count": 52
        }
      ]
    },
    {
      "cell_type": "markdown",
      "metadata": {
        "id": "MC1YvcCO4E1J"
      },
      "source": [
        "#Bağımlı Değişken"
      ]
    },
    {
      "cell_type": "markdown",
      "metadata": {
        "id": "Tkgm5B7RWQKU"
      },
      "source": [
        "- Bağımlı değişkenimiz olan y sütununu datamızdan alıyoruz"
      ]
    },
    {
      "cell_type": "code",
      "metadata": {
        "id": "L7RsPGJg3R4Y"
      },
      "source": [
        "y = data.iloc[:,3:4]"
      ],
      "execution_count": null,
      "outputs": []
    },
    {
      "cell_type": "code",
      "metadata": {
        "id": "INi_grjf3ZLw",
        "colab": {
          "base_uri": "https://localhost:8080/",
          "height": 402
        },
        "outputId": "e718b06f-5803-45c2-a2f9-879a9ca9adb4"
      },
      "source": [
        "y"
      ],
      "execution_count": null,
      "outputs": [
        {
          "output_type": "execute_result",
          "data": {
            "text/html": [
              "<div>\n",
              "<style scoped>\n",
              "    .dataframe tbody tr th:only-of-type {\n",
              "        vertical-align: middle;\n",
              "    }\n",
              "\n",
              "    .dataframe tbody tr th {\n",
              "        vertical-align: top;\n",
              "    }\n",
              "\n",
              "    .dataframe thead th {\n",
              "        text-align: right;\n",
              "    }\n",
              "</style>\n",
              "<table border=\"1\" class=\"dataframe\">\n",
              "  <thead>\n",
              "    <tr style=\"text-align: right;\">\n",
              "      <th></th>\n",
              "      <th>y</th>\n",
              "    </tr>\n",
              "  </thead>\n",
              "  <tbody>\n",
              "    <tr>\n",
              "      <th>0</th>\n",
              "      <td>no</td>\n",
              "    </tr>\n",
              "    <tr>\n",
              "      <th>1</th>\n",
              "      <td>no</td>\n",
              "    </tr>\n",
              "    <tr>\n",
              "      <th>2</th>\n",
              "      <td>no</td>\n",
              "    </tr>\n",
              "    <tr>\n",
              "      <th>3</th>\n",
              "      <td>no</td>\n",
              "    </tr>\n",
              "    <tr>\n",
              "      <th>4</th>\n",
              "      <td>no</td>\n",
              "    </tr>\n",
              "    <tr>\n",
              "      <th>...</th>\n",
              "      <td>...</td>\n",
              "    </tr>\n",
              "    <tr>\n",
              "      <th>39995</th>\n",
              "      <td>no</td>\n",
              "    </tr>\n",
              "    <tr>\n",
              "      <th>39996</th>\n",
              "      <td>yes</td>\n",
              "    </tr>\n",
              "    <tr>\n",
              "      <th>39997</th>\n",
              "      <td>yes</td>\n",
              "    </tr>\n",
              "    <tr>\n",
              "      <th>39998</th>\n",
              "      <td>no</td>\n",
              "    </tr>\n",
              "    <tr>\n",
              "      <th>39999</th>\n",
              "      <td>no</td>\n",
              "    </tr>\n",
              "  </tbody>\n",
              "</table>\n",
              "<p>40000 rows × 1 columns</p>\n",
              "</div>"
            ],
            "text/plain": [
              "         y\n",
              "0       no\n",
              "1       no\n",
              "2       no\n",
              "3       no\n",
              "4       no\n",
              "...    ...\n",
              "39995   no\n",
              "39996  yes\n",
              "39997  yes\n",
              "39998   no\n",
              "39999   no\n",
              "\n",
              "[40000 rows x 1 columns]"
            ]
          },
          "metadata": {
            "tags": []
          },
          "execution_count": 54
        }
      ]
    },
    {
      "cell_type": "markdown",
      "metadata": {
        "id": "Pscz0IPVWZYR"
      },
      "source": [
        "- Bağımlı değişkenimiz olan y sütununu LabelEncoder ile numeric hale getiriyoruz\n",
        "- yes = 1 , no = 0 oluyor "
      ]
    },
    {
      "cell_type": "code",
      "metadata": {
        "id": "XSCWgEjP3awW",
        "colab": {
          "base_uri": "https://localhost:8080/"
        },
        "outputId": "e59c6f47-3466-4cf5-d1b8-0b41788c5c96"
      },
      "source": [
        "from sklearn.preprocessing import LabelEncoder\n",
        "\n",
        "label_enc = LabelEncoder()\n",
        "\n",
        "y = label_enc.fit_transform(y)"
      ],
      "execution_count": null,
      "outputs": [
        {
          "output_type": "stream",
          "text": [
            "/usr/local/lib/python3.6/dist-packages/sklearn/preprocessing/_label.py:251: DataConversionWarning: A column-vector y was passed when a 1d array was expected. Please change the shape of y to (n_samples, ), for example using ravel().\n",
            "  y = column_or_1d(y, warn=True)\n"
          ],
          "name": "stderr"
        }
      ]
    },
    {
      "cell_type": "code",
      "metadata": {
        "id": "07prVODc3vei",
        "colab": {
          "base_uri": "https://localhost:8080/"
        },
        "outputId": "ab8a80fc-8766-49a3-e5a6-95980fcfd546"
      },
      "source": [
        "print(\"Label Encoder yapılmıs y datamız =\" + str(y))\n",
        "\n",
        "print(\"y datamızın sayısı =\" + str(len(y)))"
      ],
      "execution_count": null,
      "outputs": [
        {
          "output_type": "stream",
          "text": [
            "Label Encoder yapılmıs y datamız =[0 0 0 ... 1 0 0]\n",
            "y datamızın sayısı =40000\n"
          ],
          "name": "stdout"
        }
      ]
    },
    {
      "cell_type": "markdown",
      "metadata": {
        "id": "7sy5W7beXI9J"
      },
      "source": [
        "- Bağımlı değişkenimiz olan y sütununu datamızdan siliyoruz\n",
        "\n",
        "- y sütununun olmadığı yeni datamız da bizim bağımsız değişkenimiz olacaktır"
      ]
    },
    {
      "cell_type": "code",
      "metadata": {
        "id": "gyhU8qbz4EtQ"
      },
      "source": [
        "data = data.drop('y',axis=1)"
      ],
      "execution_count": null,
      "outputs": []
    },
    {
      "cell_type": "code",
      "metadata": {
        "id": "Mkb0TFL94qmn",
        "colab": {
          "base_uri": "https://localhost:8080/",
          "height": 438
        },
        "outputId": "ec7899e0-bc67-414f-b494-382b2cdab9e0"
      },
      "source": [
        "data"
      ],
      "execution_count": null,
      "outputs": [
        {
          "output_type": "execute_result",
          "data": {
            "text/html": [
              "<div>\n",
              "<style scoped>\n",
              "    .dataframe tbody tr th:only-of-type {\n",
              "        vertical-align: middle;\n",
              "    }\n",
              "\n",
              "    .dataframe tbody tr th {\n",
              "        vertical-align: top;\n",
              "    }\n",
              "\n",
              "    .dataframe thead th {\n",
              "        text-align: right;\n",
              "    }\n",
              "</style>\n",
              "<table border=\"1\" class=\"dataframe\">\n",
              "  <thead>\n",
              "    <tr style=\"text-align: right;\">\n",
              "      <th></th>\n",
              "      <th>age</th>\n",
              "      <th>balance</th>\n",
              "      <th>duration</th>\n",
              "      <th>marital_divorced</th>\n",
              "      <th>marital_married</th>\n",
              "      <th>marital_single</th>\n",
              "      <th>housing_no</th>\n",
              "      <th>housing_yes</th>\n",
              "      <th>loan_no</th>\n",
              "      <th>loan_yes</th>\n",
              "      <th>job_admin</th>\n",
              "      <th>job_blue-collar</th>\n",
              "      <th>job_entrepreneur</th>\n",
              "      <th>job_housemaid</th>\n",
              "      <th>job_management</th>\n",
              "      <th>job_retired</th>\n",
              "      <th>job_self-employed</th>\n",
              "      <th>job_services</th>\n",
              "      <th>job_student</th>\n",
              "      <th>job_technician</th>\n",
              "      <th>job_unemployed</th>\n",
              "      <th>education_primary</th>\n",
              "      <th>education_secondary</th>\n",
              "      <th>education_tertiary</th>\n",
              "      <th>contact_cellular</th>\n",
              "      <th>contact_telephone</th>\n",
              "      <th>campaign_1</th>\n",
              "      <th>campaign_2</th>\n",
              "      <th>campaign_3</th>\n",
              "      <th>campaign_4</th>\n",
              "      <th>campaign_5</th>\n",
              "      <th>campaign_6</th>\n",
              "      <th>campaign_7</th>\n",
              "      <th>campaign_8</th>\n",
              "      <th>campaign_9</th>\n",
              "      <th>campaign_10</th>\n",
              "      <th>campaign_11</th>\n",
              "      <th>campaign_12</th>\n",
              "      <th>campaign_13</th>\n",
              "      <th>campaign_14</th>\n",
              "      <th>campaign_15</th>\n",
              "      <th>campaign_16</th>\n",
              "      <th>campaign_17</th>\n",
              "      <th>campaign_18</th>\n",
              "      <th>campaign_19</th>\n",
              "      <th>campaign_20</th>\n",
              "      <th>campaign_21</th>\n",
              "      <th>campaign_22</th>\n",
              "      <th>campaign_23</th>\n",
              "      <th>campaign_24</th>\n",
              "      <th>campaign_25</th>\n",
              "      <th>campaign_26</th>\n",
              "      <th>campaign_27</th>\n",
              "      <th>campaign_28</th>\n",
              "      <th>campaign_29</th>\n",
              "      <th>campaign_30</th>\n",
              "      <th>campaign_31</th>\n",
              "      <th>campaign_32</th>\n",
              "      <th>campaign_33</th>\n",
              "      <th>campaign_34</th>\n",
              "      <th>campaign_35</th>\n",
              "      <th>campaign_36</th>\n",
              "      <th>campaign_37</th>\n",
              "      <th>campaign_38</th>\n",
              "      <th>campaign_39</th>\n",
              "      <th>campaign_41</th>\n",
              "      <th>campaign_43</th>\n",
              "      <th>campaign_44</th>\n",
              "      <th>campaign_46</th>\n",
              "      <th>campaign_50</th>\n",
              "      <th>campaign_51</th>\n",
              "      <th>campaign_55</th>\n",
              "      <th>campaign_58</th>\n",
              "      <th>campaign_63</th>\n",
              "    </tr>\n",
              "  </thead>\n",
              "  <tbody>\n",
              "    <tr>\n",
              "      <th>0</th>\n",
              "      <td>58</td>\n",
              "      <td>2143</td>\n",
              "      <td>261</td>\n",
              "      <td>0</td>\n",
              "      <td>1</td>\n",
              "      <td>0</td>\n",
              "      <td>0</td>\n",
              "      <td>1</td>\n",
              "      <td>1</td>\n",
              "      <td>0</td>\n",
              "      <td>0</td>\n",
              "      <td>0</td>\n",
              "      <td>0</td>\n",
              "      <td>0</td>\n",
              "      <td>1</td>\n",
              "      <td>0</td>\n",
              "      <td>0</td>\n",
              "      <td>0</td>\n",
              "      <td>0</td>\n",
              "      <td>0</td>\n",
              "      <td>0</td>\n",
              "      <td>0</td>\n",
              "      <td>0</td>\n",
              "      <td>1</td>\n",
              "      <td>1</td>\n",
              "      <td>0</td>\n",
              "      <td>1</td>\n",
              "      <td>0</td>\n",
              "      <td>0</td>\n",
              "      <td>0</td>\n",
              "      <td>0</td>\n",
              "      <td>0</td>\n",
              "      <td>0</td>\n",
              "      <td>0</td>\n",
              "      <td>0</td>\n",
              "      <td>0</td>\n",
              "      <td>0</td>\n",
              "      <td>0</td>\n",
              "      <td>0</td>\n",
              "      <td>0</td>\n",
              "      <td>0</td>\n",
              "      <td>0</td>\n",
              "      <td>0</td>\n",
              "      <td>0</td>\n",
              "      <td>0</td>\n",
              "      <td>0</td>\n",
              "      <td>0</td>\n",
              "      <td>0</td>\n",
              "      <td>0</td>\n",
              "      <td>0</td>\n",
              "      <td>0</td>\n",
              "      <td>0</td>\n",
              "      <td>0</td>\n",
              "      <td>0</td>\n",
              "      <td>0</td>\n",
              "      <td>0</td>\n",
              "      <td>0</td>\n",
              "      <td>0</td>\n",
              "      <td>0</td>\n",
              "      <td>0</td>\n",
              "      <td>0</td>\n",
              "      <td>0</td>\n",
              "      <td>0</td>\n",
              "      <td>0</td>\n",
              "      <td>0</td>\n",
              "      <td>0</td>\n",
              "      <td>0</td>\n",
              "      <td>0</td>\n",
              "      <td>0</td>\n",
              "      <td>0</td>\n",
              "      <td>0</td>\n",
              "      <td>0</td>\n",
              "      <td>0</td>\n",
              "      <td>0</td>\n",
              "    </tr>\n",
              "    <tr>\n",
              "      <th>1</th>\n",
              "      <td>44</td>\n",
              "      <td>29</td>\n",
              "      <td>151</td>\n",
              "      <td>0</td>\n",
              "      <td>0</td>\n",
              "      <td>1</td>\n",
              "      <td>0</td>\n",
              "      <td>1</td>\n",
              "      <td>1</td>\n",
              "      <td>0</td>\n",
              "      <td>0</td>\n",
              "      <td>0</td>\n",
              "      <td>0</td>\n",
              "      <td>0</td>\n",
              "      <td>0</td>\n",
              "      <td>0</td>\n",
              "      <td>0</td>\n",
              "      <td>0</td>\n",
              "      <td>0</td>\n",
              "      <td>1</td>\n",
              "      <td>0</td>\n",
              "      <td>0</td>\n",
              "      <td>1</td>\n",
              "      <td>0</td>\n",
              "      <td>1</td>\n",
              "      <td>0</td>\n",
              "      <td>1</td>\n",
              "      <td>0</td>\n",
              "      <td>0</td>\n",
              "      <td>0</td>\n",
              "      <td>0</td>\n",
              "      <td>0</td>\n",
              "      <td>0</td>\n",
              "      <td>0</td>\n",
              "      <td>0</td>\n",
              "      <td>0</td>\n",
              "      <td>0</td>\n",
              "      <td>0</td>\n",
              "      <td>0</td>\n",
              "      <td>0</td>\n",
              "      <td>0</td>\n",
              "      <td>0</td>\n",
              "      <td>0</td>\n",
              "      <td>0</td>\n",
              "      <td>0</td>\n",
              "      <td>0</td>\n",
              "      <td>0</td>\n",
              "      <td>0</td>\n",
              "      <td>0</td>\n",
              "      <td>0</td>\n",
              "      <td>0</td>\n",
              "      <td>0</td>\n",
              "      <td>0</td>\n",
              "      <td>0</td>\n",
              "      <td>0</td>\n",
              "      <td>0</td>\n",
              "      <td>0</td>\n",
              "      <td>0</td>\n",
              "      <td>0</td>\n",
              "      <td>0</td>\n",
              "      <td>0</td>\n",
              "      <td>0</td>\n",
              "      <td>0</td>\n",
              "      <td>0</td>\n",
              "      <td>0</td>\n",
              "      <td>0</td>\n",
              "      <td>0</td>\n",
              "      <td>0</td>\n",
              "      <td>0</td>\n",
              "      <td>0</td>\n",
              "      <td>0</td>\n",
              "      <td>0</td>\n",
              "      <td>0</td>\n",
              "      <td>0</td>\n",
              "    </tr>\n",
              "    <tr>\n",
              "      <th>2</th>\n",
              "      <td>33</td>\n",
              "      <td>2</td>\n",
              "      <td>76</td>\n",
              "      <td>0</td>\n",
              "      <td>1</td>\n",
              "      <td>0</td>\n",
              "      <td>0</td>\n",
              "      <td>1</td>\n",
              "      <td>0</td>\n",
              "      <td>1</td>\n",
              "      <td>0</td>\n",
              "      <td>0</td>\n",
              "      <td>1</td>\n",
              "      <td>0</td>\n",
              "      <td>0</td>\n",
              "      <td>0</td>\n",
              "      <td>0</td>\n",
              "      <td>0</td>\n",
              "      <td>0</td>\n",
              "      <td>0</td>\n",
              "      <td>0</td>\n",
              "      <td>0</td>\n",
              "      <td>1</td>\n",
              "      <td>0</td>\n",
              "      <td>1</td>\n",
              "      <td>0</td>\n",
              "      <td>1</td>\n",
              "      <td>0</td>\n",
              "      <td>0</td>\n",
              "      <td>0</td>\n",
              "      <td>0</td>\n",
              "      <td>0</td>\n",
              "      <td>0</td>\n",
              "      <td>0</td>\n",
              "      <td>0</td>\n",
              "      <td>0</td>\n",
              "      <td>0</td>\n",
              "      <td>0</td>\n",
              "      <td>0</td>\n",
              "      <td>0</td>\n",
              "      <td>0</td>\n",
              "      <td>0</td>\n",
              "      <td>0</td>\n",
              "      <td>0</td>\n",
              "      <td>0</td>\n",
              "      <td>0</td>\n",
              "      <td>0</td>\n",
              "      <td>0</td>\n",
              "      <td>0</td>\n",
              "      <td>0</td>\n",
              "      <td>0</td>\n",
              "      <td>0</td>\n",
              "      <td>0</td>\n",
              "      <td>0</td>\n",
              "      <td>0</td>\n",
              "      <td>0</td>\n",
              "      <td>0</td>\n",
              "      <td>0</td>\n",
              "      <td>0</td>\n",
              "      <td>0</td>\n",
              "      <td>0</td>\n",
              "      <td>0</td>\n",
              "      <td>0</td>\n",
              "      <td>0</td>\n",
              "      <td>0</td>\n",
              "      <td>0</td>\n",
              "      <td>0</td>\n",
              "      <td>0</td>\n",
              "      <td>0</td>\n",
              "      <td>0</td>\n",
              "      <td>0</td>\n",
              "      <td>0</td>\n",
              "      <td>0</td>\n",
              "      <td>0</td>\n",
              "    </tr>\n",
              "    <tr>\n",
              "      <th>3</th>\n",
              "      <td>47</td>\n",
              "      <td>1506</td>\n",
              "      <td>92</td>\n",
              "      <td>0</td>\n",
              "      <td>1</td>\n",
              "      <td>0</td>\n",
              "      <td>0</td>\n",
              "      <td>1</td>\n",
              "      <td>1</td>\n",
              "      <td>0</td>\n",
              "      <td>0</td>\n",
              "      <td>1</td>\n",
              "      <td>0</td>\n",
              "      <td>0</td>\n",
              "      <td>0</td>\n",
              "      <td>0</td>\n",
              "      <td>0</td>\n",
              "      <td>0</td>\n",
              "      <td>0</td>\n",
              "      <td>0</td>\n",
              "      <td>0</td>\n",
              "      <td>0</td>\n",
              "      <td>1</td>\n",
              "      <td>0</td>\n",
              "      <td>1</td>\n",
              "      <td>0</td>\n",
              "      <td>1</td>\n",
              "      <td>0</td>\n",
              "      <td>0</td>\n",
              "      <td>0</td>\n",
              "      <td>0</td>\n",
              "      <td>0</td>\n",
              "      <td>0</td>\n",
              "      <td>0</td>\n",
              "      <td>0</td>\n",
              "      <td>0</td>\n",
              "      <td>0</td>\n",
              "      <td>0</td>\n",
              "      <td>0</td>\n",
              "      <td>0</td>\n",
              "      <td>0</td>\n",
              "      <td>0</td>\n",
              "      <td>0</td>\n",
              "      <td>0</td>\n",
              "      <td>0</td>\n",
              "      <td>0</td>\n",
              "      <td>0</td>\n",
              "      <td>0</td>\n",
              "      <td>0</td>\n",
              "      <td>0</td>\n",
              "      <td>0</td>\n",
              "      <td>0</td>\n",
              "      <td>0</td>\n",
              "      <td>0</td>\n",
              "      <td>0</td>\n",
              "      <td>0</td>\n",
              "      <td>0</td>\n",
              "      <td>0</td>\n",
              "      <td>0</td>\n",
              "      <td>0</td>\n",
              "      <td>0</td>\n",
              "      <td>0</td>\n",
              "      <td>0</td>\n",
              "      <td>0</td>\n",
              "      <td>0</td>\n",
              "      <td>0</td>\n",
              "      <td>0</td>\n",
              "      <td>0</td>\n",
              "      <td>0</td>\n",
              "      <td>0</td>\n",
              "      <td>0</td>\n",
              "      <td>0</td>\n",
              "      <td>0</td>\n",
              "      <td>0</td>\n",
              "    </tr>\n",
              "    <tr>\n",
              "      <th>4</th>\n",
              "      <td>33</td>\n",
              "      <td>1</td>\n",
              "      <td>198</td>\n",
              "      <td>0</td>\n",
              "      <td>0</td>\n",
              "      <td>1</td>\n",
              "      <td>1</td>\n",
              "      <td>0</td>\n",
              "      <td>1</td>\n",
              "      <td>0</td>\n",
              "      <td>0</td>\n",
              "      <td>1</td>\n",
              "      <td>0</td>\n",
              "      <td>0</td>\n",
              "      <td>0</td>\n",
              "      <td>0</td>\n",
              "      <td>0</td>\n",
              "      <td>0</td>\n",
              "      <td>0</td>\n",
              "      <td>0</td>\n",
              "      <td>0</td>\n",
              "      <td>0</td>\n",
              "      <td>1</td>\n",
              "      <td>0</td>\n",
              "      <td>1</td>\n",
              "      <td>0</td>\n",
              "      <td>1</td>\n",
              "      <td>0</td>\n",
              "      <td>0</td>\n",
              "      <td>0</td>\n",
              "      <td>0</td>\n",
              "      <td>0</td>\n",
              "      <td>0</td>\n",
              "      <td>0</td>\n",
              "      <td>0</td>\n",
              "      <td>0</td>\n",
              "      <td>0</td>\n",
              "      <td>0</td>\n",
              "      <td>0</td>\n",
              "      <td>0</td>\n",
              "      <td>0</td>\n",
              "      <td>0</td>\n",
              "      <td>0</td>\n",
              "      <td>0</td>\n",
              "      <td>0</td>\n",
              "      <td>0</td>\n",
              "      <td>0</td>\n",
              "      <td>0</td>\n",
              "      <td>0</td>\n",
              "      <td>0</td>\n",
              "      <td>0</td>\n",
              "      <td>0</td>\n",
              "      <td>0</td>\n",
              "      <td>0</td>\n",
              "      <td>0</td>\n",
              "      <td>0</td>\n",
              "      <td>0</td>\n",
              "      <td>0</td>\n",
              "      <td>0</td>\n",
              "      <td>0</td>\n",
              "      <td>0</td>\n",
              "      <td>0</td>\n",
              "      <td>0</td>\n",
              "      <td>0</td>\n",
              "      <td>0</td>\n",
              "      <td>0</td>\n",
              "      <td>0</td>\n",
              "      <td>0</td>\n",
              "      <td>0</td>\n",
              "      <td>0</td>\n",
              "      <td>0</td>\n",
              "      <td>0</td>\n",
              "      <td>0</td>\n",
              "      <td>0</td>\n",
              "    </tr>\n",
              "    <tr>\n",
              "      <th>...</th>\n",
              "      <td>...</td>\n",
              "      <td>...</td>\n",
              "      <td>...</td>\n",
              "      <td>...</td>\n",
              "      <td>...</td>\n",
              "      <td>...</td>\n",
              "      <td>...</td>\n",
              "      <td>...</td>\n",
              "      <td>...</td>\n",
              "      <td>...</td>\n",
              "      <td>...</td>\n",
              "      <td>...</td>\n",
              "      <td>...</td>\n",
              "      <td>...</td>\n",
              "      <td>...</td>\n",
              "      <td>...</td>\n",
              "      <td>...</td>\n",
              "      <td>...</td>\n",
              "      <td>...</td>\n",
              "      <td>...</td>\n",
              "      <td>...</td>\n",
              "      <td>...</td>\n",
              "      <td>...</td>\n",
              "      <td>...</td>\n",
              "      <td>...</td>\n",
              "      <td>...</td>\n",
              "      <td>...</td>\n",
              "      <td>...</td>\n",
              "      <td>...</td>\n",
              "      <td>...</td>\n",
              "      <td>...</td>\n",
              "      <td>...</td>\n",
              "      <td>...</td>\n",
              "      <td>...</td>\n",
              "      <td>...</td>\n",
              "      <td>...</td>\n",
              "      <td>...</td>\n",
              "      <td>...</td>\n",
              "      <td>...</td>\n",
              "      <td>...</td>\n",
              "      <td>...</td>\n",
              "      <td>...</td>\n",
              "      <td>...</td>\n",
              "      <td>...</td>\n",
              "      <td>...</td>\n",
              "      <td>...</td>\n",
              "      <td>...</td>\n",
              "      <td>...</td>\n",
              "      <td>...</td>\n",
              "      <td>...</td>\n",
              "      <td>...</td>\n",
              "      <td>...</td>\n",
              "      <td>...</td>\n",
              "      <td>...</td>\n",
              "      <td>...</td>\n",
              "      <td>...</td>\n",
              "      <td>...</td>\n",
              "      <td>...</td>\n",
              "      <td>...</td>\n",
              "      <td>...</td>\n",
              "      <td>...</td>\n",
              "      <td>...</td>\n",
              "      <td>...</td>\n",
              "      <td>...</td>\n",
              "      <td>...</td>\n",
              "      <td>...</td>\n",
              "      <td>...</td>\n",
              "      <td>...</td>\n",
              "      <td>...</td>\n",
              "      <td>...</td>\n",
              "      <td>...</td>\n",
              "      <td>...</td>\n",
              "      <td>...</td>\n",
              "      <td>...</td>\n",
              "    </tr>\n",
              "    <tr>\n",
              "      <th>39995</th>\n",
              "      <td>53</td>\n",
              "      <td>395</td>\n",
              "      <td>107</td>\n",
              "      <td>0</td>\n",
              "      <td>1</td>\n",
              "      <td>0</td>\n",
              "      <td>1</td>\n",
              "      <td>0</td>\n",
              "      <td>1</td>\n",
              "      <td>0</td>\n",
              "      <td>0</td>\n",
              "      <td>0</td>\n",
              "      <td>0</td>\n",
              "      <td>0</td>\n",
              "      <td>0</td>\n",
              "      <td>0</td>\n",
              "      <td>0</td>\n",
              "      <td>0</td>\n",
              "      <td>0</td>\n",
              "      <td>1</td>\n",
              "      <td>0</td>\n",
              "      <td>0</td>\n",
              "      <td>0</td>\n",
              "      <td>1</td>\n",
              "      <td>1</td>\n",
              "      <td>0</td>\n",
              "      <td>1</td>\n",
              "      <td>0</td>\n",
              "      <td>0</td>\n",
              "      <td>0</td>\n",
              "      <td>0</td>\n",
              "      <td>0</td>\n",
              "      <td>0</td>\n",
              "      <td>0</td>\n",
              "      <td>0</td>\n",
              "      <td>0</td>\n",
              "      <td>0</td>\n",
              "      <td>0</td>\n",
              "      <td>0</td>\n",
              "      <td>0</td>\n",
              "      <td>0</td>\n",
              "      <td>0</td>\n",
              "      <td>0</td>\n",
              "      <td>0</td>\n",
              "      <td>0</td>\n",
              "      <td>0</td>\n",
              "      <td>0</td>\n",
              "      <td>0</td>\n",
              "      <td>0</td>\n",
              "      <td>0</td>\n",
              "      <td>0</td>\n",
              "      <td>0</td>\n",
              "      <td>0</td>\n",
              "      <td>0</td>\n",
              "      <td>0</td>\n",
              "      <td>0</td>\n",
              "      <td>0</td>\n",
              "      <td>0</td>\n",
              "      <td>0</td>\n",
              "      <td>0</td>\n",
              "      <td>0</td>\n",
              "      <td>0</td>\n",
              "      <td>0</td>\n",
              "      <td>0</td>\n",
              "      <td>0</td>\n",
              "      <td>0</td>\n",
              "      <td>0</td>\n",
              "      <td>0</td>\n",
              "      <td>0</td>\n",
              "      <td>0</td>\n",
              "      <td>0</td>\n",
              "      <td>0</td>\n",
              "      <td>0</td>\n",
              "      <td>0</td>\n",
              "    </tr>\n",
              "    <tr>\n",
              "      <th>39996</th>\n",
              "      <td>30</td>\n",
              "      <td>3340</td>\n",
              "      <td>238</td>\n",
              "      <td>0</td>\n",
              "      <td>0</td>\n",
              "      <td>1</td>\n",
              "      <td>1</td>\n",
              "      <td>0</td>\n",
              "      <td>1</td>\n",
              "      <td>0</td>\n",
              "      <td>0</td>\n",
              "      <td>0</td>\n",
              "      <td>0</td>\n",
              "      <td>0</td>\n",
              "      <td>1</td>\n",
              "      <td>0</td>\n",
              "      <td>0</td>\n",
              "      <td>0</td>\n",
              "      <td>0</td>\n",
              "      <td>0</td>\n",
              "      <td>0</td>\n",
              "      <td>0</td>\n",
              "      <td>0</td>\n",
              "      <td>1</td>\n",
              "      <td>1</td>\n",
              "      <td>0</td>\n",
              "      <td>0</td>\n",
              "      <td>0</td>\n",
              "      <td>1</td>\n",
              "      <td>0</td>\n",
              "      <td>0</td>\n",
              "      <td>0</td>\n",
              "      <td>0</td>\n",
              "      <td>0</td>\n",
              "      <td>0</td>\n",
              "      <td>0</td>\n",
              "      <td>0</td>\n",
              "      <td>0</td>\n",
              "      <td>0</td>\n",
              "      <td>0</td>\n",
              "      <td>0</td>\n",
              "      <td>0</td>\n",
              "      <td>0</td>\n",
              "      <td>0</td>\n",
              "      <td>0</td>\n",
              "      <td>0</td>\n",
              "      <td>0</td>\n",
              "      <td>0</td>\n",
              "      <td>0</td>\n",
              "      <td>0</td>\n",
              "      <td>0</td>\n",
              "      <td>0</td>\n",
              "      <td>0</td>\n",
              "      <td>0</td>\n",
              "      <td>0</td>\n",
              "      <td>0</td>\n",
              "      <td>0</td>\n",
              "      <td>0</td>\n",
              "      <td>0</td>\n",
              "      <td>0</td>\n",
              "      <td>0</td>\n",
              "      <td>0</td>\n",
              "      <td>0</td>\n",
              "      <td>0</td>\n",
              "      <td>0</td>\n",
              "      <td>0</td>\n",
              "      <td>0</td>\n",
              "      <td>0</td>\n",
              "      <td>0</td>\n",
              "      <td>0</td>\n",
              "      <td>0</td>\n",
              "      <td>0</td>\n",
              "      <td>0</td>\n",
              "      <td>0</td>\n",
              "    </tr>\n",
              "    <tr>\n",
              "      <th>39997</th>\n",
              "      <td>54</td>\n",
              "      <td>200</td>\n",
              "      <td>170</td>\n",
              "      <td>1</td>\n",
              "      <td>0</td>\n",
              "      <td>0</td>\n",
              "      <td>1</td>\n",
              "      <td>0</td>\n",
              "      <td>1</td>\n",
              "      <td>0</td>\n",
              "      <td>1</td>\n",
              "      <td>0</td>\n",
              "      <td>0</td>\n",
              "      <td>0</td>\n",
              "      <td>0</td>\n",
              "      <td>0</td>\n",
              "      <td>0</td>\n",
              "      <td>0</td>\n",
              "      <td>0</td>\n",
              "      <td>0</td>\n",
              "      <td>0</td>\n",
              "      <td>0</td>\n",
              "      <td>1</td>\n",
              "      <td>0</td>\n",
              "      <td>1</td>\n",
              "      <td>0</td>\n",
              "      <td>1</td>\n",
              "      <td>0</td>\n",
              "      <td>0</td>\n",
              "      <td>0</td>\n",
              "      <td>0</td>\n",
              "      <td>0</td>\n",
              "      <td>0</td>\n",
              "      <td>0</td>\n",
              "      <td>0</td>\n",
              "      <td>0</td>\n",
              "      <td>0</td>\n",
              "      <td>0</td>\n",
              "      <td>0</td>\n",
              "      <td>0</td>\n",
              "      <td>0</td>\n",
              "      <td>0</td>\n",
              "      <td>0</td>\n",
              "      <td>0</td>\n",
              "      <td>0</td>\n",
              "      <td>0</td>\n",
              "      <td>0</td>\n",
              "      <td>0</td>\n",
              "      <td>0</td>\n",
              "      <td>0</td>\n",
              "      <td>0</td>\n",
              "      <td>0</td>\n",
              "      <td>0</td>\n",
              "      <td>0</td>\n",
              "      <td>0</td>\n",
              "      <td>0</td>\n",
              "      <td>0</td>\n",
              "      <td>0</td>\n",
              "      <td>0</td>\n",
              "      <td>0</td>\n",
              "      <td>0</td>\n",
              "      <td>0</td>\n",
              "      <td>0</td>\n",
              "      <td>0</td>\n",
              "      <td>0</td>\n",
              "      <td>0</td>\n",
              "      <td>0</td>\n",
              "      <td>0</td>\n",
              "      <td>0</td>\n",
              "      <td>0</td>\n",
              "      <td>0</td>\n",
              "      <td>0</td>\n",
              "      <td>0</td>\n",
              "      <td>0</td>\n",
              "    </tr>\n",
              "    <tr>\n",
              "      <th>39998</th>\n",
              "      <td>34</td>\n",
              "      <td>1047</td>\n",
              "      <td>342</td>\n",
              "      <td>0</td>\n",
              "      <td>1</td>\n",
              "      <td>0</td>\n",
              "      <td>1</td>\n",
              "      <td>0</td>\n",
              "      <td>1</td>\n",
              "      <td>0</td>\n",
              "      <td>0</td>\n",
              "      <td>0</td>\n",
              "      <td>0</td>\n",
              "      <td>0</td>\n",
              "      <td>1</td>\n",
              "      <td>0</td>\n",
              "      <td>0</td>\n",
              "      <td>0</td>\n",
              "      <td>0</td>\n",
              "      <td>0</td>\n",
              "      <td>0</td>\n",
              "      <td>0</td>\n",
              "      <td>0</td>\n",
              "      <td>1</td>\n",
              "      <td>1</td>\n",
              "      <td>0</td>\n",
              "      <td>1</td>\n",
              "      <td>0</td>\n",
              "      <td>0</td>\n",
              "      <td>0</td>\n",
              "      <td>0</td>\n",
              "      <td>0</td>\n",
              "      <td>0</td>\n",
              "      <td>0</td>\n",
              "      <td>0</td>\n",
              "      <td>0</td>\n",
              "      <td>0</td>\n",
              "      <td>0</td>\n",
              "      <td>0</td>\n",
              "      <td>0</td>\n",
              "      <td>0</td>\n",
              "      <td>0</td>\n",
              "      <td>0</td>\n",
              "      <td>0</td>\n",
              "      <td>0</td>\n",
              "      <td>0</td>\n",
              "      <td>0</td>\n",
              "      <td>0</td>\n",
              "      <td>0</td>\n",
              "      <td>0</td>\n",
              "      <td>0</td>\n",
              "      <td>0</td>\n",
              "      <td>0</td>\n",
              "      <td>0</td>\n",
              "      <td>0</td>\n",
              "      <td>0</td>\n",
              "      <td>0</td>\n",
              "      <td>0</td>\n",
              "      <td>0</td>\n",
              "      <td>0</td>\n",
              "      <td>0</td>\n",
              "      <td>0</td>\n",
              "      <td>0</td>\n",
              "      <td>0</td>\n",
              "      <td>0</td>\n",
              "      <td>0</td>\n",
              "      <td>0</td>\n",
              "      <td>0</td>\n",
              "      <td>0</td>\n",
              "      <td>0</td>\n",
              "      <td>0</td>\n",
              "      <td>0</td>\n",
              "      <td>0</td>\n",
              "      <td>0</td>\n",
              "    </tr>\n",
              "    <tr>\n",
              "      <th>39999</th>\n",
              "      <td>38</td>\n",
              "      <td>1442</td>\n",
              "      <td>113</td>\n",
              "      <td>0</td>\n",
              "      <td>1</td>\n",
              "      <td>0</td>\n",
              "      <td>0</td>\n",
              "      <td>1</td>\n",
              "      <td>1</td>\n",
              "      <td>0</td>\n",
              "      <td>0</td>\n",
              "      <td>0</td>\n",
              "      <td>0</td>\n",
              "      <td>0</td>\n",
              "      <td>0</td>\n",
              "      <td>0</td>\n",
              "      <td>0</td>\n",
              "      <td>0</td>\n",
              "      <td>0</td>\n",
              "      <td>1</td>\n",
              "      <td>0</td>\n",
              "      <td>0</td>\n",
              "      <td>1</td>\n",
              "      <td>0</td>\n",
              "      <td>1</td>\n",
              "      <td>0</td>\n",
              "      <td>1</td>\n",
              "      <td>0</td>\n",
              "      <td>0</td>\n",
              "      <td>0</td>\n",
              "      <td>0</td>\n",
              "      <td>0</td>\n",
              "      <td>0</td>\n",
              "      <td>0</td>\n",
              "      <td>0</td>\n",
              "      <td>0</td>\n",
              "      <td>0</td>\n",
              "      <td>0</td>\n",
              "      <td>0</td>\n",
              "      <td>0</td>\n",
              "      <td>0</td>\n",
              "      <td>0</td>\n",
              "      <td>0</td>\n",
              "      <td>0</td>\n",
              "      <td>0</td>\n",
              "      <td>0</td>\n",
              "      <td>0</td>\n",
              "      <td>0</td>\n",
              "      <td>0</td>\n",
              "      <td>0</td>\n",
              "      <td>0</td>\n",
              "      <td>0</td>\n",
              "      <td>0</td>\n",
              "      <td>0</td>\n",
              "      <td>0</td>\n",
              "      <td>0</td>\n",
              "      <td>0</td>\n",
              "      <td>0</td>\n",
              "      <td>0</td>\n",
              "      <td>0</td>\n",
              "      <td>0</td>\n",
              "      <td>0</td>\n",
              "      <td>0</td>\n",
              "      <td>0</td>\n",
              "      <td>0</td>\n",
              "      <td>0</td>\n",
              "      <td>0</td>\n",
              "      <td>0</td>\n",
              "      <td>0</td>\n",
              "      <td>0</td>\n",
              "      <td>0</td>\n",
              "      <td>0</td>\n",
              "      <td>0</td>\n",
              "      <td>0</td>\n",
              "    </tr>\n",
              "  </tbody>\n",
              "</table>\n",
              "<p>40000 rows × 74 columns</p>\n",
              "</div>"
            ],
            "text/plain": [
              "       age  balance  duration  ...  campaign_55  campaign_58  campaign_63\n",
              "0       58     2143       261  ...            0            0            0\n",
              "1       44       29       151  ...            0            0            0\n",
              "2       33        2        76  ...            0            0            0\n",
              "3       47     1506        92  ...            0            0            0\n",
              "4       33        1       198  ...            0            0            0\n",
              "...    ...      ...       ...  ...          ...          ...          ...\n",
              "39995   53      395       107  ...            0            0            0\n",
              "39996   30     3340       238  ...            0            0            0\n",
              "39997   54      200       170  ...            0            0            0\n",
              "39998   34     1047       342  ...            0            0            0\n",
              "39999   38     1442       113  ...            0            0            0\n",
              "\n",
              "[40000 rows x 74 columns]"
            ]
          },
          "metadata": {
            "tags": []
          },
          "execution_count": 58
        }
      ]
    },
    {
      "cell_type": "markdown",
      "metadata": {
        "id": "Jb0bO6vt4UZ8"
      },
      "source": [
        "#Datamızın Train ve Test Datalarına Ayrılması"
      ]
    },
    {
      "cell_type": "markdown",
      "metadata": {
        "id": "FAvL2Ut2ZMWZ"
      },
      "source": [
        "- Bağımlı değişkenimizi ve bağımsız değişkenimizi kullanarak verimizi train ve test datalarına ayırıyoruz\n"
      ]
    },
    {
      "cell_type": "code",
      "metadata": {
        "id": "x8aXkWai4u2C"
      },
      "source": [
        "from sklearn.model_selection import train_test_split\n",
        "\n",
        "x_train,x_test,y_train,y_test = train_test_split(data,y, test_size = 0.33 ,random_state = 18)\n"
      ],
      "execution_count": null,
      "outputs": []
    },
    {
      "cell_type": "code",
      "metadata": {
        "id": "PR0w0g4x5bTJ",
        "colab": {
          "base_uri": "https://localhost:8080/"
        },
        "outputId": "6ab6cb5e-08a9-4135-a3e3-f9b89fd175a0"
      },
      "source": [
        "print(\"x_train shape : \" + str(x_train.shape))\n",
        "print(\"x_test shape  : \" + str(x_test.shape))\n",
        "print(\"y_train shape : \" + str(y_train.shape))\n",
        "print(\"y_test shape  : \" + str(y_test.shape))"
      ],
      "execution_count": null,
      "outputs": [
        {
          "output_type": "stream",
          "text": [
            "x_train shape : (26800, 74)\n",
            "x_test shape  : (13200, 74)\n",
            "y_train shape : (26800,)\n",
            "y_test shape  : (13200,)\n"
          ],
          "name": "stdout"
        }
      ]
    },
    {
      "cell_type": "code",
      "metadata": {
        "id": "IK8f1Zh46cd1"
      },
      "source": [
        "from sklearn.preprocessing import StandardScaler\n",
        "\n",
        "sta_scaler = StandardScaler()\n"
      ],
      "execution_count": null,
      "outputs": []
    },
    {
      "cell_type": "markdown",
      "metadata": {
        "id": "bW_cSNNwZj4K"
      },
      "source": [
        "- x_train ve x_test verilerimizi StandardScaler kullanarak Standartlaştırma yapıyoruz\n",
        "- Standartlaştırma yaparak farklı ölçeklerdeki değişkenlerin aynı ölçeğe indirgeyerek karşılaştırılabilmesini sağlar"
      ]
    },
    {
      "cell_type": "code",
      "metadata": {
        "id": "EemPMnmc6mRT"
      },
      "source": [
        "x_train = sta_scaler.fit_transform(x_train)\n",
        "x_test = sta_scaler.fit_transform(x_test)"
      ],
      "execution_count": null,
      "outputs": []
    },
    {
      "cell_type": "code",
      "metadata": {
        "id": "hArBHFSaahdi",
        "colab": {
          "base_uri": "https://localhost:8080/"
        },
        "outputId": "a32e7c32-d8f7-4e01-8ee4-558dbc10e562"
      },
      "source": [
        "x_train"
      ],
      "execution_count": null,
      "outputs": [
        {
          "output_type": "execute_result",
          "data": {
            "text/plain": [
              "array([[ 1.81657545e+00, -4.36787886e-01, -3.74073467e-01, ...,\n",
              "         0.00000000e+00,  0.00000000e+00, -6.10858619e-03],\n",
              "       [-3.65497163e-01, -3.01796493e-01,  2.34286112e-01, ...,\n",
              "         0.00000000e+00,  0.00000000e+00, -6.10858619e-03],\n",
              "       [ 3.61860375e-01, -8.04106078e-02,  6.98327519e+00, ...,\n",
              "         0.00000000e+00,  0.00000000e+00, -6.10858619e-03],\n",
              "       ...,\n",
              "       [ 1.71266723e+00, -4.12489435e-01, -3.70271219e-01, ...,\n",
              "         0.00000000e+00,  0.00000000e+00, -6.10858619e-03],\n",
              "       [-7.81130042e-01, -4.37800322e-01, -5.10954372e-01, ...,\n",
              "         0.00000000e+00,  0.00000000e+00, -6.10858619e-03],\n",
              "       [ 2.12830011e+00, -4.37800322e-01, -6.89659998e-01, ...,\n",
              "         0.00000000e+00,  0.00000000e+00, -6.10858619e-03]])"
            ]
          },
          "metadata": {
            "tags": []
          },
          "execution_count": 63
        }
      ]
    },
    {
      "cell_type": "code",
      "metadata": {
        "id": "u-yc79IcajZN",
        "colab": {
          "base_uri": "https://localhost:8080/"
        },
        "outputId": "696185c1-c9f5-4198-b1d4-f0e9f346f0a6"
      },
      "source": [
        "x_test"
      ],
      "execution_count": null,
      "outputs": [
        {
          "output_type": "execute_result",
          "data": {
            "text/plain": [
              "array([[ 3.51372657e-01, -2.40983551e-01,  9.26743796e-01, ...,\n",
              "        -8.70421251e-03, -8.70421251e-03,  0.00000000e+00],\n",
              "       [-1.40529492e+00, -1.42372940e-01,  3.34965328e-01, ...,\n",
              "        -8.70421251e-03, -8.70421251e-03,  0.00000000e+00],\n",
              "       [-2.68627664e-01,  1.66774922e-01,  5.29769303e-02, ...,\n",
              "        -8.70421251e-03, -8.70421251e-03,  0.00000000e+00],\n",
              "       ...,\n",
              "       [ 1.59137330e+00,  1.58415514e-03, -8.24761602e-01, ...,\n",
              "        -8.70421251e-03, -8.70421251e-03,  0.00000000e+00],\n",
              "       [-3.71961051e-01, -3.50750836e-01, -4.23623178e-01, ...,\n",
              "        -8.70421251e-03, -8.70421251e-03,  0.00000000e+00],\n",
              "       [ 5.58039430e-01, -2.08593204e-01, -7.65186589e-01, ...,\n",
              "        -8.70421251e-03, -8.70421251e-03,  0.00000000e+00]])"
            ]
          },
          "metadata": {
            "tags": []
          },
          "execution_count": 64
        }
      ]
    },
    {
      "cell_type": "markdown",
      "metadata": {
        "id": "kC0UiKi54ox7"
      },
      "source": [
        "#Train için Model Oluşturma"
      ]
    },
    {
      "cell_type": "markdown",
      "metadata": {
        "id": "RuQnuCz5EE5X"
      },
      "source": [
        "- İlk olarak logistic Regression algoritmasını kullanacağız"
      ]
    },
    {
      "cell_type": "code",
      "metadata": {
        "id": "8q8Jj21h66UA"
      },
      "source": [
        "from sklearn.linear_model import LogisticRegression\n",
        "\n",
        "log_reg = LogisticRegression()"
      ],
      "execution_count": null,
      "outputs": []
    },
    {
      "cell_type": "markdown",
      "metadata": {
        "id": "fAmNbtMQEbRh"
      },
      "source": [
        "- Modelimizi Train ediyoruz"
      ]
    },
    {
      "cell_type": "code",
      "metadata": {
        "colab": {
          "base_uri": "https://localhost:8080/"
        },
        "id": "QXFNBlBE2Q0J",
        "outputId": "41d4ae6e-cfcf-4b68-ac32-c94febc707d0"
      },
      "source": [
        "log_reg.fit(x_train,y_train)"
      ],
      "execution_count": null,
      "outputs": [
        {
          "output_type": "execute_result",
          "data": {
            "text/plain": [
              "LogisticRegression(C=1.0, class_weight=None, dual=False, fit_intercept=True,\n",
              "                   intercept_scaling=1, l1_ratio=None, max_iter=100,\n",
              "                   multi_class='auto', n_jobs=None, penalty='l2',\n",
              "                   random_state=None, solver='lbfgs', tol=0.0001, verbose=0,\n",
              "                   warm_start=False)"
            ]
          },
          "metadata": {
            "tags": []
          },
          "execution_count": 71
        }
      ]
    },
    {
      "cell_type": "markdown",
      "metadata": {
        "id": "hZHlFNZMEf5q"
      },
      "source": [
        "- Modelimizi predict ile x_test datamızı kullanarak tahmin verileri oluşturuyoruz"
      ]
    },
    {
      "cell_type": "code",
      "metadata": {
        "id": "gAN4RQvB2afc"
      },
      "source": [
        "y_pred = log_reg.predict(x_test)"
      ],
      "execution_count": null,
      "outputs": []
    },
    {
      "cell_type": "code",
      "metadata": {
        "colab": {
          "base_uri": "https://localhost:8080/"
        },
        "id": "oCaIVEK82iSI",
        "outputId": "3ba3d36d-ec97-42cc-d631-60875e7d3ac3"
      },
      "source": [
        "y_pred"
      ],
      "execution_count": null,
      "outputs": [
        {
          "output_type": "execute_result",
          "data": {
            "text/plain": [
              "array([0, 0, 0, ..., 0, 0, 0])"
            ]
          },
          "metadata": {
            "tags": []
          },
          "execution_count": 73
        }
      ]
    },
    {
      "cell_type": "code",
      "metadata": {
        "colab": {
          "base_uri": "https://localhost:8080/"
        },
        "id": "OVjxv9ev2nSE",
        "outputId": "fd000daf-676f-4213-d188-7781941cff43"
      },
      "source": [
        "for i in range(10):\n",
        "  print(y_pred[i])"
      ],
      "execution_count": null,
      "outputs": [
        {
          "output_type": "stream",
          "text": [
            "0\n",
            "0\n",
            "0\n",
            "0\n",
            "0\n",
            "0\n",
            "0\n",
            "0\n",
            "0\n",
            "0\n"
          ],
          "name": "stdout"
        }
      ]
    },
    {
      "cell_type": "markdown",
      "metadata": {
        "id": "63YlT-slEsAj"
      },
      "source": [
        "- Confusion matrix ile model sonuçlarımıza bakıyoruz"
      ]
    },
    {
      "cell_type": "code",
      "metadata": {
        "id": "tNNORH9c24k2"
      },
      "source": [
        "from sklearn.metrics import confusion_matrix\n",
        "\n",
        "c_matrix = confusion_matrix(y_test,y_pred)"
      ],
      "execution_count": null,
      "outputs": []
    },
    {
      "cell_type": "markdown",
      "metadata": {
        "id": "OkQxGMqqEy07"
      },
      "source": [
        "- Aşşağıda göreceğimiz gibi ;\n",
        "\n",
        "- True Positive = 12108\n",
        "- True Negative  = 167\n",
        "- False Negative = 707\n",
        "- True Negative = 218"
      ]
    },
    {
      "cell_type": "code",
      "metadata": {
        "colab": {
          "base_uri": "https://localhost:8080/"
        },
        "id": "7MU_q6VB3HlI",
        "outputId": "f71b0b67-4fe8-40fe-8dde-3a2ed909ee1d"
      },
      "source": [
        "c_matrix"
      ],
      "execution_count": null,
      "outputs": [
        {
          "output_type": "execute_result",
          "data": {
            "text/plain": [
              "array([[12108,   167],\n",
              "       [  707,   218]])"
            ]
          },
          "metadata": {
            "tags": []
          },
          "execution_count": 80
        }
      ]
    },
    {
      "cell_type": "markdown",
      "metadata": {
        "id": "Mo7cTyWBFjMg"
      },
      "source": [
        "- Confusion matrix verilerimiz ile ısı haritası oluşturduk"
      ]
    },
    {
      "cell_type": "code",
      "metadata": {
        "colab": {
          "base_uri": "https://localhost:8080/",
          "height": 284
        },
        "id": "wW2Evpe63Kz3",
        "outputId": "0b54cb57-03c6-4dd7-84f1-5cfad815164f"
      },
      "source": [
        "sns.heatmap(c_matrix,annot=True,cmap='RdGy')"
      ],
      "execution_count": null,
      "outputs": [
        {
          "output_type": "execute_result",
          "data": {
            "text/plain": [
              "<matplotlib.axes._subplots.AxesSubplot at 0x7fac49c9c048>"
            ]
          },
          "metadata": {
            "tags": []
          },
          "execution_count": 84
        },
        {
          "output_type": "display_data",
          "data": {
            "image/png": "[encoded data removed]",
            "text/plain": [
              "<Figure size 432x288 with 2 Axes>"
            ]
          },
          "metadata": {
            "tags": [],
            "needs_background": "light"
          }
        }
      ]
    },
    {
      "cell_type": "markdown",
      "metadata": {
        "id": "QtTCf4gXFvdr"
      },
      "source": [
        "- Classification Report ile bazı değerlerimize bakıyoruz"
      ]
    },
    {
      "cell_type": "code",
      "metadata": {
        "id": "oAMzTLOs3oaM"
      },
      "source": [
        "from sklearn.metrics import classification_report\n",
        "\n",
        "c_report = classification_report(y_test,y_pred)"
      ],
      "execution_count": null,
      "outputs": []
    },
    {
      "cell_type": "code",
      "metadata": {
        "colab": {
          "base_uri": "https://localhost:8080/"
        },
        "id": "alurpMLD3zZB",
        "outputId": "0c1a5610-1eb8-4867-8742-8fc6d1dfa17d"
      },
      "source": [
        "print(c_report)"
      ],
      "execution_count": null,
      "outputs": [
        {
          "output_type": "stream",
          "text": [
            "              precision    recall  f1-score   support\n",
            "\n",
            "           0       0.94      0.99      0.97     12275\n",
            "           1       0.57      0.24      0.33       925\n",
            "\n",
            "    accuracy                           0.93     13200\n",
            "   macro avg       0.76      0.61      0.65     13200\n",
            "weighted avg       0.92      0.93      0.92     13200\n",
            "\n"
          ],
          "name": "stdout"
        }
      ]
    },
    {
      "cell_type": "markdown",
      "metadata": {
        "id": "hUQ0zWdyF1II"
      },
      "source": [
        "- k-fold Cross Validation ile modelimizinin skoruna bakıyoruz\n",
        "- Biz cv=5 dediğimiz için 5 katlamalı bir cross validation yapacak\n",
        "- Bu yüzden 5 tane Score çıktısı alacağız"
      ]
    },
    {
      "cell_type": "code",
      "metadata": {
        "id": "fOKa5CzC4fmR"
      },
      "source": [
        "from sklearn.model_selection import cross_val_score\n",
        "\n",
        "cross = cross_val_score(log_reg,x_train,y_train,cv=5)"
      ],
      "execution_count": null,
      "outputs": []
    },
    {
      "cell_type": "markdown",
      "metadata": {
        "id": "hevXTeILGOji"
      },
      "source": [
        "- Aşağıda gördüğümüz gibi cross validation ile modelimizin skorları"
      ]
    },
    {
      "cell_type": "code",
      "metadata": {
        "colab": {
          "base_uri": "https://localhost:8080/"
        },
        "id": "J40uSaND47tk",
        "outputId": "86d12884-d846-460d-d1f4-f839133e61bc"
      },
      "source": [
        "print(cross)"
      ],
      "execution_count": null,
      "outputs": [
        {
          "output_type": "stream",
          "text": [
            "[0.93302239 0.93134328 0.93208955 0.93320896 0.92891791]\n"
          ],
          "name": "stdout"
        }
      ]
    },
    {
      "cell_type": "markdown",
      "metadata": {
        "id": "4NDNxU_7IN4_"
      },
      "source": [
        "- Cross validation ile modelimizin ortalaması ve Standart Sapmasını hesapladık"
      ]
    },
    {
      "cell_type": "code",
      "metadata": {
        "colab": {
          "base_uri": "https://localhost:8080/"
        },
        "id": "G3Plx8Nq4_iv",
        "outputId": "40af7340-ff72-4eb5-cd8d-6de5c56015b2"
      },
      "source": [
        "print(\"Ortalaması = \" +str(cross.mean()))\n",
        "\n",
        "print(\"Standart Sapması = \" +str(cross.std()))"
      ],
      "execution_count": null,
      "outputs": [
        {
          "output_type": "stream",
          "text": [
            "Ortalaması = 0.9317164179104477\n",
            "Standart Sapması = 0.0015519876375436966\n"
          ],
          "name": "stdout"
        }
      ]
    },
    {
      "cell_type": "markdown",
      "metadata": {
        "id": "txVtcTMNIWeZ"
      },
      "source": [
        "- Tensorflow kullanarak Sinir Ağı modeli oluşturduk\n",
        "- 128 units'den oluşan 2 Dense layer \n",
        "- 64 ve 32 units'den oluşan 2 Dense layer\n",
        "- 0.25 oranla sinir ağı katmanlarımızı silecek olan Dropout kullandık.Bu şekilde Overfitting'i(Aşırı Uyum) engellemeye çalıştık\n",
        "- Activation Fonksiyonu olarak Relu kullandık Output Layerımızda ise Sigmoid aktvasyon fonksiyonunu kullandık\n",
        "- Çünkü bizim modelimiz çıktı olarak 0 veya 1 değerler yani probabilistik değerler döndürecektir"
      ]
    },
    {
      "cell_type": "code",
      "metadata": {
        "id": "W0ynis0Q5jOE"
      },
      "source": [
        "import tensorflow as tf\n",
        "\n",
        "def Train():\n",
        "\n",
        "  model = tf.keras.models.Sequential([tf.keras.layers.Dense(128,activation = 'relu',input_dim=74),\n",
        "                                      tf.keras.layers.Dense(128,activation='relu'),\n",
        "                                      tf.keras.layers.Dropout(0.25),\n",
        "                                      tf.keras.layers.Dense(64,activation='relu'),\n",
        "                                      tf.keras.layers.Dropout(0.25),\n",
        "                                      tf.keras.layers.Dense(32,activation='relu'),\n",
        "                                      tf.keras.layers.Dense(1,activation='sigmoid')])\n",
        "  \n",
        "  model.compile(optimizer='adam',loss='binary_crossentropy',metrics=['accuracy'])\n",
        "\n",
        "  return model"
      ],
      "execution_count": null,
      "outputs": []
    },
    {
      "cell_type": "markdown",
      "metadata": {
        "id": "-64N8hqMJgMY"
      },
      "source": [
        "- k-fold Cross Validation kullanacağımız için KerasClassifier kullanıyoruz\n",
        "- Aslında içinde sinir ağımız olan Train fonksiyonumuzu burada fit etmiş oluyoruz aslında\n",
        "- Bunu da sınır_model değerine eşitliyoruz.Bu değeri cross_validation da kullanacağız estimator olarak "
      ]
    },
    {
      "cell_type": "code",
      "metadata": {
        "id": "N5f5uHiL7NCS"
      },
      "source": [
        "from keras.wrappers.scikit_learn import KerasClassifier\n",
        "\n",
        "sınır_model = KerasClassifier(build_fn=Train,epochs=10,verbose=1)"
      ],
      "execution_count": null,
      "outputs": []
    },
    {
      "cell_type": "markdown",
      "metadata": {
        "id": "QYwUlRm-J9b3"
      },
      "source": [
        "- Sinir ağı modelimizin cross validation ile sonuçlarına bakacağız.\n",
        "- Cv=5 diyerek veri kümemizi 5 kümeye bölecek.Her defasında bir küme test kümesi 4 veri kümesi ise eğitim veri kümesi olarak kullanılacak.\n",
        "- Bu işlem 5 kez tekrarlanacak\n",
        "- Biz epochs = 10 demiştik . 5 kez 10 epochs tekrar edecek"
      ]
    },
    {
      "cell_type": "code",
      "metadata": {
        "colab": {
          "base_uri": "https://localhost:8080/"
        },
        "id": "m9Qd8Fcx9fNI",
        "outputId": "a571537a-82a1-4539-d8f0-308e3079e1ff"
      },
      "source": [
        "cross_val = cross_val_score(estimator=sınır_model , X = x_train ,y = y_train,cv=5)"
      ],
      "execution_count": null,
      "outputs": [
        {
          "output_type": "stream",
          "text": [
            "Epoch 1/10\n",
            "670/670 [==============================] - 1s 2ms/step - loss: 0.2051 - accuracy: 0.9277\n",
            "Epoch 2/10\n",
            "670/670 [==============================] - 1s 2ms/step - loss: 0.1819 - accuracy: 0.9309\n",
            "Epoch 3/10\n",
            "670/670 [==============================] - 1s 2ms/step - loss: 0.1775 - accuracy: 0.9317\n",
            "Epoch 4/10\n",
            "670/670 [==============================] - 1s 2ms/step - loss: 0.1747 - accuracy: 0.9318\n",
            "Epoch 5/10\n",
            "670/670 [==============================] - 1s 2ms/step - loss: 0.1725 - accuracy: 0.9325\n",
            "Epoch 6/10\n",
            "670/670 [==============================] - 2s 2ms/step - loss: 0.1710 - accuracy: 0.9333\n",
            "Epoch 7/10\n",
            "670/670 [==============================] - 1s 2ms/step - loss: 0.1691 - accuracy: 0.9333\n",
            "Epoch 8/10\n",
            "670/670 [==============================] - 1s 2ms/step - loss: 0.1674 - accuracy: 0.9355\n",
            "Epoch 9/10\n",
            "670/670 [==============================] - 1s 2ms/step - loss: 0.1666 - accuracy: 0.9363\n",
            "Epoch 10/10\n",
            "670/670 [==============================] - 1s 2ms/step - loss: 0.1638 - accuracy: 0.9365\n",
            "168/168 [==============================] - 0s 2ms/step - loss: 0.1770 - accuracy: 0.9325\n",
            "Epoch 1/10\n",
            "670/670 [==============================] - 1s 2ms/step - loss: 0.1987 - accuracy: 0.9285\n",
            "Epoch 2/10\n",
            "670/670 [==============================] - 1s 2ms/step - loss: 0.1768 - accuracy: 0.9312\n",
            "Epoch 3/10\n",
            "670/670 [==============================] - 1s 2ms/step - loss: 0.1748 - accuracy: 0.9324\n",
            "Epoch 4/10\n",
            "670/670 [==============================] - 2s 3ms/step - loss: 0.1703 - accuracy: 0.9331\n",
            "Epoch 5/10\n",
            "670/670 [==============================] - 1s 2ms/step - loss: 0.1689 - accuracy: 0.9341\n",
            "Epoch 6/10\n",
            "670/670 [==============================] - 1s 2ms/step - loss: 0.1673 - accuracy: 0.9337\n",
            "Epoch 7/10\n",
            "670/670 [==============================] - 1s 2ms/step - loss: 0.1650 - accuracy: 0.9347\n",
            "Epoch 8/10\n",
            "670/670 [==============================] - 1s 2ms/step - loss: 0.1637 - accuracy: 0.9347\n",
            "Epoch 9/10\n",
            "670/670 [==============================] - 2s 2ms/step - loss: 0.1625 - accuracy: 0.9361\n",
            "Epoch 10/10\n",
            "670/670 [==============================] - 1s 2ms/step - loss: 0.1611 - accuracy: 0.9357\n",
            "168/168 [==============================] - 0s 2ms/step - loss: 0.1887 - accuracy: 0.9278\n",
            "Epoch 1/10\n",
            "670/670 [==============================] - 2s 2ms/step - loss: 0.2016 - accuracy: 0.9292\n",
            "Epoch 2/10\n",
            "670/670 [==============================] - 1s 2ms/step - loss: 0.1788 - accuracy: 0.9327\n",
            "Epoch 3/10\n",
            "670/670 [==============================] - 2s 2ms/step - loss: 0.1742 - accuracy: 0.9330\n",
            "Epoch 4/10\n",
            "670/670 [==============================] - 2s 2ms/step - loss: 0.1719 - accuracy: 0.9332\n",
            "Epoch 5/10\n",
            "670/670 [==============================] - 1s 2ms/step - loss: 0.1690 - accuracy: 0.9353\n",
            "Epoch 6/10\n",
            "670/670 [==============================] - 1s 2ms/step - loss: 0.1692 - accuracy: 0.9348\n",
            "Epoch 7/10\n",
            "670/670 [==============================] - 1s 2ms/step - loss: 0.1670 - accuracy: 0.9353\n",
            "Epoch 8/10\n",
            "670/670 [==============================] - 1s 2ms/step - loss: 0.1645 - accuracy: 0.9356\n",
            "Epoch 9/10\n",
            "670/670 [==============================] - 1s 2ms/step - loss: 0.1630 - accuracy: 0.9372\n",
            "Epoch 10/10\n",
            "670/670 [==============================] - 1s 2ms/step - loss: 0.1601 - accuracy: 0.9375\n",
            "168/168 [==============================] - 0s 2ms/step - loss: 0.1885 - accuracy: 0.9229\n",
            "Epoch 1/10\n",
            "670/670 [==============================] - 1s 2ms/step - loss: 0.2081 - accuracy: 0.9257\n",
            "Epoch 2/10\n",
            "670/670 [==============================] - 1s 2ms/step - loss: 0.1796 - accuracy: 0.9318\n",
            "Epoch 3/10\n",
            "670/670 [==============================] - 1s 2ms/step - loss: 0.1759 - accuracy: 0.9316\n",
            "Epoch 4/10\n",
            "670/670 [==============================] - 1s 2ms/step - loss: 0.1721 - accuracy: 0.9332\n",
            "Epoch 5/10\n",
            "670/670 [==============================] - 2s 2ms/step - loss: 0.1718 - accuracy: 0.9325\n",
            "Epoch 6/10\n",
            "670/670 [==============================] - 2s 2ms/step - loss: 0.1695 - accuracy: 0.9329\n",
            "Epoch 7/10\n",
            "670/670 [==============================] - 2s 2ms/step - loss: 0.1672 - accuracy: 0.9336\n",
            "Epoch 8/10\n",
            "670/670 [==============================] - 1s 2ms/step - loss: 0.1673 - accuracy: 0.9364\n",
            "Epoch 9/10\n",
            "670/670 [==============================] - 2s 2ms/step - loss: 0.1647 - accuracy: 0.9362\n",
            "Epoch 10/10\n",
            "670/670 [==============================] - 1s 2ms/step - loss: 0.1640 - accuracy: 0.9352\n",
            "168/168 [==============================] - 0s 2ms/step - loss: 0.1811 - accuracy: 0.9304\n",
            "Epoch 1/10\n",
            "670/670 [==============================] - 1s 2ms/step - loss: 0.2046 - accuracy: 0.9268\n",
            "Epoch 2/10\n",
            "670/670 [==============================] - 1s 2ms/step - loss: 0.1816 - accuracy: 0.9305\n",
            "Epoch 3/10\n",
            "670/670 [==============================] - 1s 2ms/step - loss: 0.1776 - accuracy: 0.9315\n",
            "Epoch 4/10\n",
            "670/670 [==============================] - 2s 2ms/step - loss: 0.1734 - accuracy: 0.9324\n",
            "Epoch 5/10\n",
            "670/670 [==============================] - 1s 2ms/step - loss: 0.1727 - accuracy: 0.9308\n",
            "Epoch 6/10\n",
            "670/670 [==============================] - 1s 2ms/step - loss: 0.1704 - accuracy: 0.9323\n",
            "Epoch 7/10\n",
            "670/670 [==============================] - 1s 2ms/step - loss: 0.1680 - accuracy: 0.9334\n",
            "Epoch 8/10\n",
            "670/670 [==============================] - 1s 2ms/step - loss: 0.1682 - accuracy: 0.9334\n",
            "Epoch 9/10\n",
            "670/670 [==============================] - 2s 3ms/step - loss: 0.1653 - accuracy: 0.9345\n",
            "Epoch 10/10\n",
            "670/670 [==============================] - 2s 2ms/step - loss: 0.1643 - accuracy: 0.9347\n",
            "168/168 [==============================] - 0s 2ms/step - loss: 0.1856 - accuracy: 0.9304\n"
          ],
          "name": "stdout"
        }
      ]
    },
    {
      "cell_type": "markdown",
      "metadata": {
        "id": "8gkWphL0Ln9d"
      },
      "source": [
        "- Sinir ağı modelimizin cross validation sonuçlarını aşağıda görebiliyoruz\n",
        "-Yani bize 5 tane accuracy skoru çıktısı verdi.Çünkü biz 5 katlamalaı cross validation yaptık"
      ]
    },
    {
      "cell_type": "code",
      "metadata": {
        "colab": {
          "base_uri": "https://localhost:8080/"
        },
        "id": "oVOq5j8B--z8",
        "outputId": "a556c2f1-c50a-4ab0-989f-267871ab10d7"
      },
      "source": [
        "print(cross_val)"
      ],
      "execution_count": null,
      "outputs": [
        {
          "output_type": "stream",
          "text": [
            "[0.93246269 0.92779851 0.92294776 0.93041044 0.93041044]\n"
          ],
          "name": "stdout"
        }
      ]
    },
    {
      "cell_type": "markdown",
      "metadata": {
        "id": "o6_SDxk2MCRq"
      },
      "source": [
        "- Sinir ağı modelimiz ile x_test veri kümesini kullanarak predict yapıyoruz.\n",
        "- Tahmin veri kümesi oluşturduk.\n",
        "- model.predict(x_test) şeklinde bir sonuç almak isteseydik bizim tahmin veri kümemiz de 0 ile 1 arasında değerler döndürecekti.Örneğin ;\n",
        "y_pred[0] = 0.55\n",
        "y_pred[1] = 0.85 gibi değerler döndürecekti.Ama bizim 0 ya da 1 olan tahmin veri kümesine ihtiyacımız var.Aynı zaman da biz bu tahmin veri kümesini y_test veri kümemiz ile karşılaştırıp modelimizi test edemeyecektik \n",
        "- O yüzden np.round kullanarak tahmin veri kümemizi 0 ve 1'lerden oluşan bir veri kümesine dönüştürüyoruz."
      ]
    },
    {
      "cell_type": "code",
      "metadata": {
        "id": "SFql7OeEBEBI"
      },
      "source": [
        "model = Train()\n",
        "\n",
        "y_pred_sınır = np.round(model.predict(x_test),0)"
      ],
      "execution_count": null,
      "outputs": []
    },
    {
      "cell_type": "markdown",
      "metadata": {
        "id": "sBAprOhhNsMr"
      },
      "source": [
        "- Confusion matrix ile sinir ağı ile predict yaptığımız veri kümemizi y_test veri kümemiz ile karşılatırıyoruz"
      ]
    },
    {
      "cell_type": "code",
      "metadata": {
        "id": "pyNc8GCDB6VU"
      },
      "source": [
        "conf_sınır = confusion_matrix(y_test , y_pred_sınır)"
      ],
      "execution_count": null,
      "outputs": []
    },
    {
      "cell_type": "markdown",
      "metadata": {
        "id": "Zq1DkrpRN64T"
      },
      "source": [
        "- Aşağıda göreceğimiz gibi ;\n",
        "\n",
        "- True Positive = 8905\n",
        "\n",
        "- True Negative = 3370\n",
        "\n",
        "- False Negative = 741\n",
        "\n",
        "- True Negative = 184"
      ]
    },
    {
      "cell_type": "code",
      "metadata": {
        "colab": {
          "base_uri": "https://localhost:8080/"
        },
        "id": "rVEVg2GbCI0i",
        "outputId": "54ce4ea1-d242-46ea-b06d-3df92ba8afab"
      },
      "source": [
        "print(conf_sınır)"
      ],
      "execution_count": null,
      "outputs": [
        {
          "output_type": "stream",
          "text": [
            "[[8905 3370]\n",
            " [ 741  184]]\n"
          ],
          "name": "stdout"
        }
      ]
    },
    {
      "cell_type": "markdown",
      "metadata": {
        "id": "k471cPQOOUtH"
      },
      "source": [
        "- Isı haritasını kullanarak confusion matrix oluşturuyoruz"
      ]
    },
    {
      "cell_type": "code",
      "metadata": {
        "colab": {
          "base_uri": "https://localhost:8080/",
          "height": 282
        },
        "id": "Vl0tVfX_DPsB",
        "outputId": "4747abbb-6a0c-4db1-c3a6-3dd90c65b744"
      },
      "source": [
        "sns.heatmap(conf_sınır,annot=True,cmap='RdGy')"
      ],
      "execution_count": null,
      "outputs": [
        {
          "output_type": "execute_result",
          "data": {
            "text/plain": [
              "<matplotlib.axes._subplots.AxesSubplot at 0x7fabda7357b8>"
            ]
          },
          "metadata": {
            "tags": []
          },
          "execution_count": 155
        },
        {
          "output_type": "display_data",
          "data": {
            "image/png": "[encoded data removed]",
            "text/plain": [
              "<Figure size 432x288 with 2 Axes>"
            ]
          },
          "metadata": {
            "tags": [],
            "needs_background": "light"
          }
        }
      ]
    },
    {
      "cell_type": "code",
      "metadata": {
        "id": "e1vlerw9DwoR"
      },
      "source": [
        "c_report_sınır = classification_report(y_test,y_pred_sınır)"
      ],
      "execution_count": null,
      "outputs": []
    },
    {
      "cell_type": "markdown",
      "metadata": {
        "id": "9aDplVj3OcHj"
      },
      "source": [
        "- Classification report kullanarak sinir ağı modelimizin bazı sonuçlarına bakıyoruz."
      ]
    },
    {
      "cell_type": "code",
      "metadata": {
        "colab": {
          "base_uri": "https://localhost:8080/"
        },
        "id": "53HjIjYpD2oG",
        "outputId": "6a08d702-6837-49b7-a6b0-fbb0d0fecd77"
      },
      "source": [
        "print(c_report_sınır)"
      ],
      "execution_count": null,
      "outputs": [
        {
          "output_type": "stream",
          "text": [
            "              precision    recall  f1-score   support\n",
            "\n",
            "           0       0.92      0.73      0.81     12275\n",
            "           1       0.05      0.20      0.08       925\n",
            "\n",
            "    accuracy                           0.69     13200\n",
            "   macro avg       0.49      0.46      0.45     13200\n",
            "weighted avg       0.86      0.69      0.76     13200\n",
            "\n"
          ],
          "name": "stdout"
        }
      ]
    }
  ]
}